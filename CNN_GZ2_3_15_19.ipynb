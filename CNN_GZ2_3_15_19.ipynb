{
 "cells": [
  {
   "cell_type": "code",
   "execution_count": 15,
   "metadata": {},
   "outputs": [],
   "source": [
    "import numpy as np\n",
    "import matplotlib.pyplot as plt\n",
    "from __future__ import absolute_import, division, print_function\n",
    "\n",
    "# TensorFlow and tf.keras\n",
    "import tensorflow as tf\n",
    "processed_data = np.load('Full_array.npy')\n",
    "\n",
    "from tensorflow import keras\n",
    "\n",
    "import pandas as pd\n",
    "\n",
    "#The size of the dataset is 10,000; but I only filled the first 9166 with values, the rest are zeros.\n",
    "number = 9166\n",
    "processed_data = processed_data[0:number]"
   ]
  },
  {
   "cell_type": "code",
   "execution_count": 16,
   "metadata": {},
   "outputs": [],
   "source": [
    "#hyperparameters:\n",
    "validation_split = 0.10\n",
    "test_train_split = 0.85\n",
    "batch_size = 64\n",
    "epoch_number = 20\n",
    "learning_rate = 0.1\n",
    "dropout_rate = 0.3\n",
    "CNL1_filters = 32\n",
    "CNL1_kernal_size = 5\n",
    "MPL1_pool_size= (2,2)\n",
    "MPL1_strides = 2\n",
    "CNL2_filters = 64\n",
    "CNL2_kernal_size = 5\n",
    "MPL2_pool_size = (2,2)\n",
    "MPL2_strides = 2\n",
    "\n",
    "#I have a non-round number of examples\n",
    "train_split_indice = int(np.round(test_train_split*number))"
   ]
  },
  {
   "cell_type": "code",
   "execution_count": 17,
   "metadata": {},
   "outputs": [],
   "source": [
    "#Load in my dataset of targets, targets are strings labels under the name \"Class\"\n",
    "galaxyzoo = pd.read_csv(\"zoo2MainSpecz.csv/zoo2MainSpecz.csv\", usecols=[2,3,4,8], nrows=number)\n",
    "Class = galaxyzoo[\"gz2class\"].values\n",
    "RA = galaxyzoo['ra'].values\n",
    "DEC = galaxyzoo['dec'].values"
   ]
  },
  {
   "cell_type": "code",
   "execution_count": 18,
   "metadata": {},
   "outputs": [],
   "source": [
    "#I want to take the first character of the Class string and interpret as a integer, ala MNIST example code\n",
    "dictionary = {'A':int(2),'E':int(1),'S':int(0)}"
   ]
  },
  {
   "cell_type": "code",
   "execution_count": 19,
   "metadata": {},
   "outputs": [],
   "source": [
    "#resave using my dictionary\n",
    "target = np.empty((len(Class)))\n",
    "for i in range(len(Class)):\n",
    "    target[i] = int(dictionary[Class[i][0]])"
   ]
  },
  {
   "cell_type": "code",
   "execution_count": 20,
   "metadata": {},
   "outputs": [],
   "source": [
    "#split my data between training and test sets\n",
    "train_target = target[0:train_split_indice]\n",
    "test_target = target[train_split_indice:number]\n",
    "train_images = processed_data[0:train_split_indice]\n",
    "test_images = processed_data[train_split_indice:number]\n",
    "\n",
    "train_images = train_images.reshape(train_split_indice,28,28,1)\n",
    "test_images = test_images.reshape(train_split_indice-number,28,28,1)"
   ]
  },
  {
   "cell_type": "code",
   "execution_count": 21,
   "metadata": {},
   "outputs": [],
   "source": [
    "#define my model, using a CNN with 2 Convolutional layers, 2 max pool layers, 1 dense layer, 1 drop out layer, and another dense layer \n",
    "def create_model(dropout_rate):\n",
    "    \n",
    "    model = keras.Sequential([])\n",
    "    model.add(keras.layers.Conv2D(input_shape=(28,28,1),filters=CNL1_filters,kernel_size=CNL1_kernal_size,padding=\"same\",activation=tf.nn.relu))\n",
    "    model.add(keras.layers.MaxPool2D(pool_size=MPL1_pool_size, strides=MPL1_strides))\n",
    "    model.add(keras.layers.Conv2D(filters=CNL2_filters,kernel_size=CNL2_kernal_size,padding=\"same\",activation=tf.nn.relu))\n",
    "    model.add(keras.layers.MaxPool2D(pool_size=MPL2_pool_size,strides=MPL2_strides))\n",
    "    model.add(keras.layers.Reshape([7*7*64]))\n",
    "    model.add(keras.layers.Dense(units=1024,activation=tf.nn.relu))\n",
    "    model.add(keras.layers.Dropout(rate=dropout_rate))\n",
    "    model.add(keras.layers.Dense(units=3,activation=tf.nn.softmax))\n",
    "    model.compile(optimizer='adam', loss='sparse_categorical_crossentropy',metrics=['accuracy'])\n",
    "    return(model)"
   ]
  },
  {
   "cell_type": "code",
   "execution_count": 22,
   "metadata": {},
   "outputs": [
    {
     "name": "stdout",
     "output_type": "stream",
     "text": [
      "Train on 7011 samples, validate on 780 samples\n",
      "Epoch 1/20\n",
      "7011/7011 [==============================] - 24s 3ms/sample - loss: 0.6367 - accuracy: 0.6864 - val_loss: 0.5846 - val_accuracy: 0.6821\n",
      "Epoch 2/20\n",
      "7011/7011 [==============================] - 23s 3ms/sample - loss: 0.5406 - accuracy: 0.7557 - val_loss: 0.4987 - val_accuracy: 0.7833\n",
      "Epoch 3/20\n",
      "7011/7011 [==============================] - 23s 3ms/sample - loss: 0.5189 - accuracy: 0.7657 - val_loss: 0.5202 - val_accuracy: 0.7538\n",
      "Epoch 4/20\n",
      "7011/7011 [==============================] - 24s 3ms/sample - loss: 0.4879 - accuracy: 0.7883 - val_loss: 0.4886 - val_accuracy: 0.7949\n",
      "Epoch 5/20\n",
      "7011/7011 [==============================] - 23s 3ms/sample - loss: 0.4710 - accuracy: 0.7946 - val_loss: 0.6181 - val_accuracy: 0.6756\n",
      "Epoch 6/20\n",
      "7011/7011 [==============================] - 22s 3ms/sample - loss: 0.4536 - accuracy: 0.7977 - val_loss: 0.4430 - val_accuracy: 0.8000\n",
      "Epoch 7/20\n",
      "7011/7011 [==============================] - 22s 3ms/sample - loss: 0.4499 - accuracy: 0.8013 - val_loss: 0.5119 - val_accuracy: 0.7718\n",
      "Epoch 8/20\n",
      "7011/7011 [==============================] - 25s 4ms/sample - loss: 0.4298 - accuracy: 0.8093 - val_loss: 0.4458 - val_accuracy: 0.7962\n",
      "Epoch 9/20\n",
      "7011/7011 [==============================] - 23s 3ms/sample - loss: 0.4206 - accuracy: 0.8186 - val_loss: 0.4254 - val_accuracy: 0.8218\n",
      "Epoch 10/20\n",
      "7011/7011 [==============================] - 22s 3ms/sample - loss: 0.4119 - accuracy: 0.8201 - val_loss: 0.4190 - val_accuracy: 0.8231\n",
      "Epoch 11/20\n",
      "7011/7011 [==============================] - 25s 4ms/sample - loss: 0.3980 - accuracy: 0.8277 - val_loss: 0.4325 - val_accuracy: 0.8282\n",
      "Epoch 12/20\n",
      "7011/7011 [==============================] - 24s 3ms/sample - loss: 0.3895 - accuracy: 0.8335 - val_loss: 0.4415 - val_accuracy: 0.8103\n",
      "Epoch 13/20\n",
      "7011/7011 [==============================] - 25s 4ms/sample - loss: 0.3878 - accuracy: 0.8304 - val_loss: 0.4551 - val_accuracy: 0.7910\n",
      "Epoch 14/20\n",
      "7011/7011 [==============================] - 24s 3ms/sample - loss: 0.3807 - accuracy: 0.8341 - val_loss: 0.4236 - val_accuracy: 0.8321\n",
      "Epoch 15/20\n",
      "7011/7011 [==============================] - 21s 3ms/sample - loss: 0.3662 - accuracy: 0.8391 - val_loss: 0.4660 - val_accuracy: 0.8103\n",
      "Epoch 16/20\n",
      "7011/7011 [==============================] - 21s 3ms/sample - loss: 0.3692 - accuracy: 0.8374 - val_loss: 0.4455 - val_accuracy: 0.8295\n",
      "Epoch 17/20\n",
      "7011/7011 [==============================] - 22s 3ms/sample - loss: 0.3582 - accuracy: 0.8411 - val_loss: 0.4128 - val_accuracy: 0.8346\n",
      "Epoch 18/20\n",
      "7011/7011 [==============================] - 21s 3ms/sample - loss: 0.3569 - accuracy: 0.8418 - val_loss: 0.4113 - val_accuracy: 0.8308\n",
      "Epoch 19/20\n",
      "7011/7011 [==============================] - 22s 3ms/sample - loss: 0.3458 - accuracy: 0.8468 - val_loss: 0.4646 - val_accuracy: 0.8372\n",
      "Epoch 20/20\n",
      "7011/7011 [==============================] - 22s 3ms/sample - loss: 0.3393 - accuracy: 0.8475 - val_loss: 0.4403 - val_accuracy: 0.8269\n"
     ]
    }
   ],
   "source": [
    "model = create_model(dropout_rate=dropout_rate)\n",
    "history = model.fit(train_images, train_target, validation_split=validation_split, epochs=epoch_number, batch_size=batch_size, verbose=1, shuffle=True)"
   ]
  },
  {
   "cell_type": "code",
   "execution_count": 23,
   "metadata": {},
   "outputs": [
    {
     "data": {
      "image/png": "[encoded data removed]",
      "text/plain": [
       "<Figure size 432x288 with 1 Axes>"
      ]
     },
     "metadata": {},
     "output_type": "display_data"
    },
    {
     "data": {
      "image/png": "[encoded data removed]",
      "text/plain": [
       "<Figure size 432x288 with 1 Axes>"
      ]
     },
     "metadata": {},
     "output_type": "display_data"
    }
   ],
   "source": [
    "# summarize history for accuracy\n",
    "plt.plot(history.history['accuracy'])\n",
    "plt.plot(history.history['val_accuracy'])\n",
    "plt.title('model accuracy')\n",
    "plt.ylabel('accuracy')\n",
    "plt.xlabel('epoch')\n",
    "plt.legend(['train', 'test'], loc='upper left')\n",
    "plt.savefig('CNN_Learning_GZ2_3_15_19_epoch20_acc.png')\n",
    "plt.show()\n",
    "# summarize history for loss\n",
    "plt.plot(history.history['loss'])\n",
    "plt.plot(history.history['val_loss'])\n",
    "plt.title('model loss')\n",
    "plt.ylabel('loss')\n",
    "plt.xlabel('epoch')\n",
    "plt.legend(['train', 'test'], loc='upper left')\n",
    "plt.savefig('CNN_Learning_GZ2_3_15_19_epoch20_loss.png')\n",
    "plt.show()"
   ]
  },
  {
   "cell_type": "code",
   "execution_count": 24,
   "metadata": {},
   "outputs": [
    {
     "name": "stdout",
     "output_type": "stream",
     "text": [
      "1375/1375 [==============================] - 1s 811us/sample - loss: 0.4349 - accuracy: 0.8371\n",
      "Test accuracy: 0.8370909\n"
     ]
    }
   ],
   "source": [
    "#model.summary()\n",
    "test_loss, test_acc = model.evaluate(test_images.reshape(number - train_split_indice,28,28,1), test_target)\n",
    "print('Test accuracy:', test_acc)\n",
    "#0.836 w/ 25 epochs, 0.3 dropout rate, batchsize = 64, LR = 0.001, no data augmentation\n",
    "#0.816 w/ 27 epochs\n",
    "#0.830 w/ 22 epochs\n",
    "#0.808 w/ 17 epochs\n",
    "#0.809 w/ 15 epochs\n",
    "#0.817 w/ 40 epochs\n",
    "\n",
    "#highest is 0.837 with 20 epochs\n",
    "\n"
   ]
  },
  {
   "cell_type": "markdown",
   "metadata": {},
   "source": [
    "<b>Update(5/11/19)</b> Below is the model accuracy for the above NN with epochs set to 40, all other hyperparameters the same as with the best case when epoch = 20. Part of what I would like mentoring on is how to interpret these graphs into making improvements, or what other types of graphs I should be implementing to understand my model. for instance, I have seen R.O.C. graphs in some blogposts, and have not implemented them because there is no point to implement them if I do not understand the basics, which I believe is the accuracy/epoch and loss/epoch that is below.\n",
    "\n",
    "For instance, when I see this plot I notice that the accuracy and loss both have these unusual spikes, I interpret that as model instability and therefore I should reduce the LR.\n",
    "\n",
    "epochs=40 scored a 0.817% accuracy"
   ]
  },
  {
   "cell_type": "markdown",
   "metadata": {},
   "source": [
    "<img src='CNN_Learning_GZ2_3_15_19_epoch40_acc.png'>\n",
    "\n",
    "<img src='CNN_Learning_GZ2_3_15_19_epoch40_loss.png'>"
   ]
  },
  {
   "cell_type": "markdown",
   "metadata": {},
   "source": [
    "Below are the output graphs for the best case on this first attempt of my CNN, epochs=20, for austerity I have kept the hyperparameters the same.\n"
   ]
  },
  {
   "cell_type": "markdown",
   "metadata": {},
   "source": [
    "<img src='CNN_Learning_GZ2_3_15_19_epoch20_acc.png'>\n",
    "\n",
    "<img src='CNN_Learning_GZ2_3_15_19_epoch20_loss.png'>"
   ]
  }
 ],
 "metadata": {
  "kernelspec": {
   "display_name": "Python 3",
   "language": "python",
   "name": "python3"
  },
  "language_info": {
   "codemirror_mode": {
    "name": "ipython",
    "version": 3
   },
   "file_extension": ".py",
   "mimetype": "text/x-python",
   "name": "python",
   "nbconvert_exporter": "python",
   "pygments_lexer": "ipython3",
   "version": "3.6.6"
  }
 },
 "nbformat": 4,
 "nbformat_minor": 2
}
