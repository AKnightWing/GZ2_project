{
 "cells": [
  {
   "cell_type": "code",
   "execution_count": 16,
   "metadata": {},
   "outputs": [],
   "source": [
    "import pandas as pd\n",
    "import numpy as np\n",
    "from os import path, makedirs\n",
    "from glob import glob\n",
    "from astropy.io import fits\n",
    "from astropy.wcs import WCS\n",
    "from skimage.io import imsave\n",
    "from skimage.transform import resize\n",
    "import matplotlib.pyplot as plt"
   ]
  },
  {
   "cell_type": "code",
   "execution_count": 17,
   "metadata": {},
   "outputs": [
    {
     "name": "stdout",
     "output_type": "stream",
     "text": [
      "Index(['Unnamed: 0', 'objid', 'ra', 'dec', 'u', 'g', 'r', 'i', 'z', 'run',\n",
      "       'rerun', 'camcol', 'field', 'petroRad_r', 'target'],\n",
      "      dtype='object')\n"
     ]
    }
   ],
   "source": [
    "images_list = list()\n",
    "resized=list()\n",
    "tgt_dim = (120,120)\n",
    "\n",
    "fits_data_dir = \"New_Kahn_fits\\\\raw\\\\\"\n",
    "\n",
    "galaxyzoo = pd.read_csv(\"C:\\\\Users\\\\awe2\\\\DL_DES-master\\\\data\\\\sdss-galaxyzoo\\\\high_certainty\\\\sdss_metadata\\\\metadata-bat0008.csv\")\n",
    "print(galaxyzoo.keys())"
   ]
  },
  {
   "cell_type": "code",
   "execution_count": 18,
   "metadata": {},
   "outputs": [],
   "source": [
    "RA_array = galaxyzoo['ra'].values\n",
    "DEC_array = galaxyzoo['dec'].values\n",
    "OBJID_array = galaxyzoo['objid'].values\n",
    "PETROR_array = galaxyzoo['petroRad_r'].values"
   ]
  },
  {
   "cell_type": "code",
   "execution_count": 19,
   "metadata": {},
   "outputs": [],
   "source": [
    "def clip_img_from_fits(fits_path, ra, dec, rad, pxl_size=0.396, dim=2):\n",
    "    \"\"\"\n",
    "    Extract a small square image containing the target galaxy from a large telescope image.\n",
    "    \n",
    "    Parameters:\n",
    "    fits_path -- path to the input FITS file. This assumes the image data is contained in\n",
    "                 the 0th entry of the FITS file.\n",
    "    ra, dec   -- position of the galaxy in the sky.\n",
    "    rad       -- angular radius of the galaxy in arcseconds.\n",
    "    pxl_size  -- the size of each pixel in arcseconds. The SDSS FITS files come in 0.396\"\n",
    "                 (see http://classic.sdss.org/dr7/instruments/imager/).\n",
    "    dim       -- the size of the bounding box in unit of `side_length / galaxy_diameter`.\n",
    "    \n",
    "    Returns:\n",
    "    The clipped galaxy image as a 2d numpy array.\n",
    "    \"\"\"\n",
    "    ds = fits.open(fits_path)\n",
    "    w = WCS(ds[0].header, ds)\n",
    "    rad_pxl = rad / pxl_size\n",
    "    # index naming: r/c: row/col; c/s/e: center/start/end\n",
    "    cc, rc = w.all_world2pix([[ra, dec]], 1)[0]\n",
    "    rs, re = [rc + sign * dim * rad_pxl for sign in (-1, 1)]\n",
    "    cs, ce = [cc + sign * dim * rad_pxl for sign in (-1, 1)]\n",
    "    rs, re, cs, ce = [int(round(x)) for x in (rs, re, cs, ce)]\n",
    "    clip = ds[0].data[rs:re, cs:ce]\n",
    "    return clip"
   ]
  },
  {
   "cell_type": "code",
   "execution_count": 20,
   "metadata": {},
   "outputs": [],
   "source": [
    "def rescale(img_in, filters=('u', 'g', 'r', 'i', 'z')):\n",
    "    out = {}\n",
    "    for f in filters:\n",
    "        img = img_in[f].astype('float')\n",
    "        img_bg_sorted = np.sort(img)[:img.size // 2]\n",
    "        img_bg_std = img_bg_sorted.std()\n",
    "        img_bg_mean = img_bg_sorted.mean()\n",
    "        img_min = - img_bg_std + img_bg_mean\n",
    "        img_max = img_bg_std * 5 + img_bg_mean\n",
    "        img_scaled = (img - img_min) / (img_max - img_min)\n",
    "        img_scaled[img_scaled < 0] = 0\n",
    "        img_scaled[img_scaled > 1] = 1\n",
    "        out[f] = img_scaled\n",
    "    return out\n",
    "\n",
    "\n",
    "def merge_pseudocolor(ds, filters):\n",
    "    nrows, ncols = ds[list(ds.keys())[0]].shape\n",
    "    rgb = np.empty((nrows, ncols, 5))\n",
    "    rgb[:, :, 0] = ds[filters[0]]\n",
    "    rgb[:, :, 1] = ds[filters[1]]\n",
    "    rgb[:, :, 2] = ds[filters[2]]\n",
    "    rgb[:, :, 3] = ds[filters[3]]\n",
    "    rgb[:, :, 4] = ds[filters[4]]\n",
    "    rgb = (rgb * 255).astype('uint8')\n",
    "    return rgb\n",
    "\n",
    "\n",
    "def process_image(npz_in):\n",
    "    ds = npz_in\n",
    "    #ds = np.load(npz_in)\n",
    "    scaled = rescale(ds, ('u','g','r','i','z'))\n",
    "    rgb = merge_pseudocolor(scaled, ('u','g','r','i','z'))\n",
    "    #imsave(png_out, rgb)\n",
    "    return(rgb)\n",
    "    "
   ]
  },
  {
   "cell_type": "code",
   "execution_count": 21,
   "metadata": {},
   "outputs": [],
   "source": [
    "#i need each RA and DEC of the galaxy. we will do this for a few in our directory then stop and start a download of just high\n",
    "#certainty classified. we will also then just delete all the other fits files. I will also need a way to match these RA and DEC\n",
    "#to the filenames I have downloaded, which means using the function to take objid-> downloads\n",
    "def SDSS_objid_to_files_in_dir(objid):\n",
    "    bin_objid = bin(objid)\n",
    "    bin_objid = bin_objid[2:len(bin_objid)]\n",
    "    bin_objid = bin_objid.zfill(64)\n",
    "\n",
    "    empty = int( '0b' + bin_objid[0], base=0)\n",
    "    skyVersion = int( '0b' + bin_objid[1:4+1], base=0)\n",
    "    rerun = int( '0b' + bin_objid[5:15+1], base=0)\n",
    "    run = int( '0b' + bin_objid[16:31+1], base=0)\n",
    "    camcol = int( '0b' + bin_objid[32:34+1], base=0)\n",
    "    firstField = int( '0b' + bin_objid[35+1], base=0)\n",
    "    field = int( '0b' + bin_objid[36:47+1], base=0)\n",
    "    object_num = int( '0b' + bin_objid[48:63+1], base=0)\n",
    "\n",
    "    #return skyVersion, rerun, run, camcol, field, object_num\n",
    "    return(['run{}-rerun{}-camrol{}-field{}-z.fits'.format(run, rerun, camcol, field), \\\n",
    "            'run{}-rerun{}-camrol{}-field{}-i.fits'.format(run, rerun, camcol, field), \\\n",
    "            'run{}-rerun{}-camrol{}-field{}-r.fits'.format(run, rerun, camcol, field), \\\n",
    "            'run{}-rerun{}-camrol{}-field{}-g.fits'.format(run, rerun, camcol, field), \\\n",
    "            'run{}-rerun{}-camrol{}-field{}-u.fits'.format(run, rerun, camcol, field)])"
   ]
  },
  {
   "cell_type": "markdown",
   "metadata": {},
   "source": [
    "<h3> MAKE SURE TO CHANGE THE ARRAY_OUT_NAME TO NOT OVERWRITE OTHER IMAGES!!!!</h3>"
   ]
  },
  {
   "cell_type": "code",
   "execution_count": 22,
   "metadata": {},
   "outputs": [
    {
     "name": "stdout",
     "output_type": "stream",
     "text": [
      "error, 26\n",
      "error, 27\n",
      "error, 28\n",
      "error, 29\n",
      "error, 30\n",
      "error, 31\n",
      "error, 32\n",
      "error, 33\n",
      "error, 34\n",
      "error, 35\n",
      "error, 36\n",
      "error, 37\n",
      "error, 38\n",
      "error, 39\n",
      "error, 40\n",
      "error, 41\n",
      "error, 42\n",
      "error, 43\n",
      "error, 44\n",
      "error, 45\n",
      "error, 46\n",
      "error, 47\n",
      "error, 48\n",
      "error, 49\n",
      "error, 50\n",
      "error, 51\n",
      "error, 52\n",
      "error, 53\n",
      "error, 54\n",
      "error, 55\n",
      "error, 361\n",
      "error, 436\n",
      "error, 437\n",
      "error, 438\n",
      "error, 439\n",
      "error, 440\n",
      "error, 441\n",
      "error, 460\n",
      "error, 462\n",
      "error, 604\n",
      "error, 605\n",
      "error, 606\n",
      "error, 607\n",
      "error, 608\n",
      "error, 609\n",
      "error, 610\n",
      "error, 611\n",
      "error, 612\n",
      "error, 613\n",
      "error, 614\n",
      "error, 615\n",
      "error, 616\n",
      "error, 617\n",
      "error, 618\n",
      "error, 619\n"
     ]
    }
   ],
   "source": [
    "tgt_dim = (120,120)\n",
    "start=0\n",
    "for j,OBJID in enumerate(OBJID_array):\n",
    "    images_list=list()\n",
    "    resized=list()\n",
    "    break_set = False\n",
    "    \n",
    "    \n",
    "    \n",
    "    for file in (SDSS_objid_to_files_in_dir(OBJID)):\n",
    "        try:\n",
    "            images_list.append(clip_img_from_fits(fits_data_dir+file,RA_array[j+start],DEC_array[j+start],PETROR_array[j+start]))\n",
    "        except Exception as e:\n",
    "            print('error,', j+start)\n",
    "            break_set = True\n",
    "            break\n",
    "    if break_set == True:\n",
    "        continue\n",
    "\n",
    "    \n",
    "    for k in range(len(images_list)):\n",
    "        \n",
    "        if np.shape(images_list[k]) == (0,0) or np.any(np.isnan(images_list[k])): #I demand all 5 bands be correct, and no nans\n",
    "            print('error,', j+start)\n",
    "            break_set = True\n",
    "            break\n",
    "        \n",
    "        try:    \n",
    "            test = (resize(images_list[k],tgt_dim))\n",
    "            resized.append(test)\n",
    "        \n",
    "        except Exception as e:\n",
    "            print('error,', j+start)\n",
    "            break_set = True\n",
    "            break\n",
    "    \n",
    "    if break_set == True:\n",
    "        continue\n",
    "    \n",
    "\n",
    "    \n",
    "    img_in = {'z':resized[0],'r':resized[1],'i':resized[2],'g':resized[3],'u':resized[4]}\n",
    "\n",
    "    array_out_name = 'HP_{}'.format(str(j+40000).zfill(5))\n",
    "    scaled = rescale(img_in, ('u','g','r','i','z'))\n",
    "    img_out = merge_pseudocolor(scaled, ('u','g','r','i','z'))\n",
    "    np.save('HP_inputs\\\\{}.npy'.format(array_out_name),img_out) #I messed up here and so will continue like this, but \n",
    "                                                                #filter 3 and 4 need to be switched. We can do this in post on \n",
    "                                                                #all images."
   ]
  },
  {
   "cell_type": "code",
   "execution_count": 23,
   "metadata": {},
   "outputs": [
    {
     "name": "stdout",
     "output_type": "stream",
     "text": [
      "[[[  0   0   0   3   0]\n",
      "  [  0   0   0   3   0]\n",
      "  [  0   0   0   3   0]\n",
      "  ...\n",
      "  [  0   0   0   3   0]\n",
      "  [  0   0   0   3   0]\n",
      "  [  0   0   0   3   0]]\n",
      "\n",
      " [[  0   0   0   3   0]\n",
      "  [ 60  35  22  32  41]\n",
      "  [107  30  25  40  32]\n",
      "  ...\n",
      "  [ 30   8  35  34  39]\n",
      "  [ 82  21  36  28  22]\n",
      "  [  0   0   0   3   0]]\n",
      "\n",
      " [[  0   0   0   3   0]\n",
      "  [ 47  38  30  40  55]\n",
      "  [ 25  22  34  32  43]\n",
      "  ...\n",
      "  [ 56  11  39  32  78]\n",
      "  [103  17  38  36  44]\n",
      "  [  0   0   0   3   0]]\n",
      "\n",
      " ...\n",
      "\n",
      " [[  0   0   0   3   0]\n",
      "  [  9  22  25  29  64]\n",
      "  [ 18  10  22  40  55]\n",
      "  ...\n",
      "  [ 93  44  29  32  70]\n",
      "  [ 62  48  35  24  76]\n",
      "  [  0   0   0   3   0]]\n",
      "\n",
      " [[  0   0   0   3   0]\n",
      "  [ 45  45  35  37  37]\n",
      "  [ 37  31  30  35  26]\n",
      "  ...\n",
      "  [121  52  29  35  30]\n",
      "  [ 75  54  35  23  37]\n",
      "  [  0   0   0   3   0]]\n",
      "\n",
      " [[  0   0   0   3   0]\n",
      "  [  0   0   0   3   0]\n",
      "  [  0   0   0   3   0]\n",
      "  ...\n",
      "  [  0   0   0   3   0]\n",
      "  [  0   0   0   3   0]\n",
      "  [  0   0   0   3   0]]]\n"
     ]
    },
    {
     "data": {
      "text/plain": [
       "<matplotlib.image.AxesImage at 0x5eba080>"
      ]
     },
     "execution_count": 23,
     "metadata": {},
     "output_type": "execute_result"
    },
    {
     "data": {
      "image/png": "[encoded data removed]",
      "text/plain": [
       "<Figure size 432x288 with 1 Axes>"
      ]
     },
     "metadata": {
      "needs_background": "light"
     },
     "output_type": "display_data"
    }
   ],
   "source": [
    "img = np.load('HP_inputs\\\\HP_29000.npy')\n",
    "print(img)\n",
    "plt.imshow(img[:,:,1:4])"
   ]
  }
 ],
 "metadata": {
  "kernelspec": {
   "display_name": "Python 3",
   "language": "python",
   "name": "python3"
  },
  "language_info": {
   "codemirror_mode": {
    "name": "ipython",
    "version": 3
   },
   "file_extension": ".py",
   "mimetype": "text/x-python",
   "name": "python",
   "nbconvert_exporter": "python",
   "pygments_lexer": "ipython3",
   "version": "3.7.3"
  }
 },
 "nbformat": 4,
 "nbformat_minor": 2
}
