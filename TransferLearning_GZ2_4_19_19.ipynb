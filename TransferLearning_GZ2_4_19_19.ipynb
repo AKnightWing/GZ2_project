{
 "cells": [
  {
   "cell_type": "code",
   "execution_count": 34,
   "metadata": {},
   "outputs": [],
   "source": [
    "import numpy as np\n",
    "import matplotlib.pyplot as plt\n",
    "#from __future__ import absolute_import, division, print_function\n",
    "\n",
    "\n",
    "# TensorFlow and tf.keras\n",
    "\n",
    "import pandas as pd\n",
    "\n",
    "\n",
    "processed_data = np.load('Full_array.npy')\n",
    "Blue_processed_data = np.load('Blue_Full_array.npy')\n",
    "#The size of the dataset is 10,000; but I only filled the first 9166 with values, the rest are zeros. (shouldn't be counted)\n",
    "number = 9166\n",
    "processed_data = processed_data[0:number]\n",
    "\n",
    "np.random.seed(1)\n"
   ]
  },
  {
   "cell_type": "code",
   "execution_count": 35,
   "metadata": {},
   "outputs": [],
   "source": [
    "from PIL import Image\n",
    "from cv2 import resize\n",
    "from sklearn.utils import shuffle"
   ]
  },
  {
   "cell_type": "code",
   "execution_count": 36,
   "metadata": {},
   "outputs": [],
   "source": [
    "import tensorflow as tf\n",
    "from tensorflow import keras"
   ]
  },
  {
   "cell_type": "code",
   "execution_count": 37,
   "metadata": {},
   "outputs": [],
   "source": [
    "#we want to normalize our iamge data to go from 0 to 1\n",
    "#processed_data = processed_data.reshape(np.size(processed_data))\n",
    "#processed_data = (processed_data - min(processed_data))/ (max(processed_data) - min(processed_data))\n",
    "#processed_data = processed_data.reshape(number,28,28)\n",
    "#I actually am not sure how it is scaled. however, some of the pixels are negative for some reason???\n",
    "\n",
    "#also, this did not help.\n",
    "\n",
    "#update, 5/11/19, I misunderstand the nature of my data. I am reading from fits files, and after having done some work reducing\n",
    "#fits files in a course, I think I should look a little more closely at each of these files and see if i can normalize the data.\n",
    "#My plan would be to make histograms of the entire data set, then find a region that is roughly where most of the data lies,\n",
    "#then I will apply that filter to my FITS files, and divide by the range, which will ensure no negative numbers, and a proper range\n",
    "#of 0 to 1. All numbers outside the range will be given the extrema value. \n",
    "\n",
    "#I would first implement this normalziaation on the next batch of Images that will be (10000,64,64,3), as I have also learned that I am terribly\n",
    "#zoomed in on the centers of the galaxies, and my next batch of images will be out at a scale that captures the entire galaxy, and\n",
    "#is also more close the GZ2 classification scale."
   ]
  },
  {
   "cell_type": "code",
   "execution_count": 38,
   "metadata": {},
   "outputs": [],
   "source": [
    "#hyperparameters:\n",
    "test_train_split = 0.75\n",
    "batch_size = 16\n",
    "epoch_number = 50\n",
    "learning_rate = 3e-6\n",
    "validation_split = 0.10\n",
    "dropout=0.40\n",
    "\n",
    "#I have a non-round number of examples\n",
    "train_split_indice = int(np.round(test_train_split*number))"
   ]
  },
  {
   "cell_type": "code",
   "execution_count": 39,
   "metadata": {},
   "outputs": [],
   "source": [
    "#Load in my dataset of targets, targets are strings labels under the name \"Class\"\n",
    "galaxyzoo = pd.read_csv(\"zoo2MainSpecz.csv/zoo2MainSpecz.csv\", usecols=[2,3,4,8,15], nrows=number)\n",
    "Class = galaxyzoo[\"gz2class\"].values\n",
    "RA = galaxyzoo['ra'].values\n",
    "DEC = galaxyzoo['dec'].values"
   ]
  },
  {
   "cell_type": "code",
   "execution_count": 40,
   "metadata": {},
   "outputs": [],
   "source": [
    "#I want to take the first character of the Class string and interpret as a integer, ala MNIST example code\n",
    "dictionary = {'A':int(2),'E':int(1),'S':int(0)}"
   ]
  },
  {
   "cell_type": "code",
   "execution_count": 41,
   "metadata": {},
   "outputs": [],
   "source": [
    "#resave using my dictionary\n",
    "target = np.empty((len(Class)))\n",
    "for i in range(len(Class)):\n",
    "    target[i] = int(dictionary[Class[i][0]])"
   ]
  },
  {
   "cell_type": "code",
   "execution_count": 43,
   "metadata": {},
   "outputs": [],
   "source": [
    "#split my data between training and test sets\n",
    "train_target = target[0:train_split_indice]\n",
    "test_target = target[train_split_indice:number]\n",
    "train_images = processed_data[0:train_split_indice]\n",
    "test_images = processed_data[train_split_indice:number]\n",
    "Blue_train_images = Blue_processed_data[0:train_split_indice]\n",
    "Blue_test_images = Blue_processed_data[train_split_indice::]"
   ]
  },
  {
   "cell_type": "code",
   "execution_count": 44,
   "metadata": {},
   "outputs": [
    {
     "data": {
      "text/plain": [
       "'\\ntrain_images_flip1 = np.flip(train_images,1)\\ntrain_images_flip2 = np.flip(train_images,2)\\ntrain_images_flip3 = np.flip(train_images_flip1,2)\\n\\nflipped_img = np.append(train_images, train_images_flip1, 0)\\nflipped_img = np.append(flipped_img, train_images_flip2, 0)\\nflipped_img = np.append(flipped_img, train_images_flip3, 0)\\n\\nflipped_tar = np.append(train_target,train_target, 0)\\nflipped_tar = np.append(flipped_tar,train_target, 0)\\nflipped_tar = np.append(flipped_tar,train_target, 0)\\n\\nprint(np.shape(flipped_tar))\\nprint(np.shape(flipped_img))\\nprint(np.size(train_target)*4)\\n\\nprint(np.shape(test_target))\\n'"
      ]
     },
     "execution_count": 44,
     "metadata": {},
     "output_type": "execute_result"
    }
   ],
   "source": [
    "#Create 3 more images from each of my training and testing images that is each image but flipped 90 degrees...\n",
    "\n",
    "#the below are commented out because I found that augmentation did not significantly improve the NN in this instance. But\n",
    "#in summary, I first flip each image 90 degrees 3 times, and append that to my data array. Then I randomly rotate the entire data\n",
    "#array by -45 to 45 degrees, and also zoom in or out from 0.7 to 1.3. I do these things at an attempt of data augmentation as I \n",
    "#had seen suggested online in forums and blog posts. Because of the cosmological principle, I should of course be robust to these\n",
    "#rotations anyways.\n",
    "\"\"\"\n",
    "train_images_flip1 = np.flip(train_images,1)\n",
    "train_images_flip2 = np.flip(train_images,2)\n",
    "train_images_flip3 = np.flip(train_images_flip1,2)\n",
    "\n",
    "flipped_img = np.append(train_images, train_images_flip1, 0)\n",
    "flipped_img = np.append(flipped_img, train_images_flip2, 0)\n",
    "flipped_img = np.append(flipped_img, train_images_flip3, 0)\n",
    "\n",
    "flipped_tar = np.append(train_target,train_target, 0)\n",
    "flipped_tar = np.append(flipped_tar,train_target, 0)\n",
    "flipped_tar = np.append(flipped_tar,train_target, 0)\n",
    "\n",
    "print(np.shape(flipped_tar))\n",
    "print(np.shape(flipped_img))\n",
    "print(np.size(train_target)*4)\n",
    "\n",
    "print(np.shape(test_target))\n",
    "\n",
    "#train_images = flipped_img\n",
    "#train_target = flipped_tar\n",
    "\"\"\""
   ]
  },
  {
   "cell_type": "code",
   "execution_count": 47,
   "metadata": {},
   "outputs": [
    {
     "data": {
      "text/plain": [
       "'\\n#rotate each image in the target_images by a random amount\\nrotations_array = np.empty((31164,28,28))\\nfor i in range(np.shape(train_images)[0]):\\n    degree = np.random.uniform(-45,45,1)\\n    img = Image.fromarray(train_images[i])\\n    rot = img.rotate(degree)\\n    rot = np.asarray(rot)\\n    rotations_array[i] = rot\\n#now append rotations_array to train_images\\ntrain_images = np.append(train_images, rotations_array,0)\\n#now append the class labels to the train_target array\\ntrain_target = np.append(train_target,train_target)\\n\\n\\n#every time we run this segment, we increase our training set by a factor of 2. this means it will train in 120 * number of times\\n# times 20 epochs = a long time.\\n'"
      ]
     },
     "execution_count": 47,
     "metadata": {},
     "output_type": "execute_result"
    }
   ],
   "source": [
    "\"\"\"\n",
    "#rotate each image in the target_images by a random amount\n",
    "rotations_array = np.empty((31164,28,28))\n",
    "for i in range(np.shape(train_images)[0]):\n",
    "    degree = np.random.uniform(-45,45,1)\n",
    "    img = Image.fromarray(train_images[i])\n",
    "    rot = img.rotate(degree)\n",
    "    rot = np.asarray(rot)\n",
    "    rotations_array[i] = rot\n",
    "#now append rotations_array to train_images\n",
    "train_images = np.append(train_images, rotations_array,0)\n",
    "#now append the class labels to the train_target array\n",
    "train_target = np.append(train_target,train_target)\n",
    "\n",
    "\n",
    "#every time we run this segment, we increase our training set by a factor of 2. this means it will train in 120 * number of times\n",
    "# times 20 epochs = a long time.\n",
    "\"\"\""
   ]
  },
  {
   "cell_type": "code",
   "execution_count": 48,
   "metadata": {},
   "outputs": [],
   "source": [
    "\"\"\"\n",
    "def cv2_clipped_zoom(img, zoom_factor):\n",
    "    \n",
    "    ##Center zoom in/out of the given image and returning an enlarged/shrinked view of \n",
    "    ##the image without changing dimensions\n",
    "    ##Args:\n",
    "    ##    img : Image array\n",
    "    ##    zoom_factor : amount of zoom as a ratio (0 to Inf)\n",
    "    \n",
    "    height, width = img.shape[:2] # It's also the final desired shape\n",
    "    new_height, new_width = int(height * zoom_factor), int(width * zoom_factor)\n",
    "\n",
    "    ### Crop only the part that will remain in the result (more efficient)\n",
    "    # Centered bbox of the final desired size in resized (larger/smaller) image coordinates\n",
    "    y1, x1 = max(0, new_height - height) // 2, max(0, new_width - width) // 2\n",
    "    y2, x2 = y1 + height, x1 + width\n",
    "    bbox = np.array([y1,x1,y2,x2])\n",
    "    # Map back to original image coordinates\n",
    "    bbox = (bbox / zoom_factor).astype(np.int)\n",
    "    y1, x1, y2, x2 = bbox\n",
    "    cropped_img = img[y1:y2, x1:x2]\n",
    "\n",
    "    # Handle padding when downscaling\n",
    "    resize_height, resize_width = min(new_height, height), min(new_width, width)\n",
    "    pad_height1, pad_width1 = (height - resize_height) // 2, (width - resize_width) //2\n",
    "    pad_height2, pad_width2 = (height - resize_height) - pad_height1, (width - resize_width) - pad_width1\n",
    "    pad_spec = [(pad_height1, pad_height2), (pad_width1, pad_width2)] + [(0,0)] * (img.ndim - 2)\n",
    "\n",
    "    result = resize(cropped_img, (resize_width, resize_height))\n",
    "    result = np.pad(result, pad_spec, mode='constant')\n",
    "    assert result.shape[0] == height and result.shape[1] == width\n",
    "    return result\n",
    "\"\"\""
   ]
  },
  {
   "cell_type": "code",
   "execution_count": 49,
   "metadata": {},
   "outputs": [
    {
     "data": {
      "text/plain": [
       "'\\n#increase by a factor of two again, like above\\nrotations_array = np.empty((31164*2,28,28))\\nfor i in range(np.shape(train_images)[0]):\\n    degree = np.random.uniform(-45,45,1)\\n    img = Image.fromarray(train_images[i])\\n    rot = img.rotate(degree)\\n    zoom_factor = np.random.uniform(0.7,1.3,1)\\n    rot = cv2_clipped_zoom(np.asarray(rot),zoom_factor)\\n    #rot = rot.resize()\\n    #rot = np.asarray(rot)\\n    rotations_array[i] = rot\\n#now append rotations_array to train_images\\ntrain_images = np.append(train_images, rotations_array,0)\\n#now append the class labels to the train_target array\\ntrain_target = np.append(train_target,train_target)\\n'"
      ]
     },
     "execution_count": 49,
     "metadata": {},
     "output_type": "execute_result"
    }
   ],
   "source": [
    "\"\"\"\n",
    "#increase by a factor of two again, like above\n",
    "rotations_array = np.empty((31164*2,28,28))\n",
    "for i in range(np.shape(train_images)[0]):\n",
    "    degree = np.random.uniform(-45,45,1)\n",
    "    img = Image.fromarray(train_images[i])\n",
    "    rot = img.rotate(degree)\n",
    "    zoom_factor = np.random.uniform(0.7,1.3,1)\n",
    "    rot = cv2_clipped_zoom(np.asarray(rot),zoom_factor)\n",
    "    #rot = rot.resize()\n",
    "    #rot = np.asarray(rot)\n",
    "    rotations_array[i] = rot\n",
    "#now append rotations_array to train_images\n",
    "train_images = np.append(train_images, rotations_array,0)\n",
    "#now append the class labels to the train_target array\n",
    "train_target = np.append(train_target,train_target)\n",
    "\"\"\""
   ]
  },
  {
   "cell_type": "code",
   "execution_count": 50,
   "metadata": {},
   "outputs": [],
   "source": [
    "#resizes images to be 32x32 using cv2. my choice of model requires 32x32x3 images. I will have to add in the other channels as \n",
    "#copies\n",
    "\n",
    "import cv2 as cv2\n",
    "train_images_resized = np.empty((np.shape(train_images)[0],32,32))\n",
    "test_images_resized = np.empty((np.shape(test_images)[0],32,32))\n",
    "for i in range(np.shape(train_images)[0]):\n",
    "#img = cv2.imread(train_images[0])\n",
    "    train_images_resized[i] = resize(train_images[i], dsize=(32,32))\n",
    "for j in range(np.shape(test_images)[0]):\n",
    "    test_images_resized[j] = resize(test_images[j], dsize=(32,32))\n",
    "\n",
    "test_images = test_images_resized\n",
    "train_images = train_images_resized"
   ]
  },
  {
   "cell_type": "code",
   "execution_count": 51,
   "metadata": {},
   "outputs": [],
   "source": [
    "#Do the same for the Blue_train_images and Blue_test_images\n",
    "train_images_resized = np.empty((np.shape(train_images)[0],32,32))\n",
    "test_images_resized = np.empty((np.shape(test_images)[0],32,32))\n",
    "for i in range(np.shape(Blue_train_images)[0]):\n",
    "#img = cv2.imread(train_images[0])\n",
    "    train_images_resized[i] = resize(Blue_train_images[i], dsize=(32,32))\n",
    "for j in range(np.shape(test_images)[0]):\n",
    "    test_images_resized[j] = resize(Blue_test_images[j], dsize=(32,32))\n",
    "\n",
    "Blue_test_images = test_images_resized\n",
    "Blue_train_images = train_images_resized"
   ]
  },
  {
   "cell_type": "code",
   "execution_count": 52,
   "metadata": {},
   "outputs": [],
   "source": [
    "#reform into the tensor shape\n",
    "train_images_number = np.shape(train_images)[0]\n",
    "test_images_number = np.shape(test_images)[0]\n",
    "train_images = train_images.reshape(train_images_number,32,32,1)\n",
    "test_images = test_images.reshape(test_images_number,32,32,1)\n",
    "Blue_train_images = Blue_train_images.reshape(train_images_number,32,32,1)\n",
    "Blue_test_images = Blue_test_images.reshape(test_images_number,32,32,1)"
   ]
  },
  {
   "cell_type": "code",
   "execution_count": 53,
   "metadata": {},
   "outputs": [],
   "source": [
    "#shuffle the order of the augmented images randomly, shuffle the order of the targets the same way.\n",
    "#train_images, train_target = shuffle(train_images, train_target, random_state=1)"
   ]
  },
  {
   "cell_type": "code",
   "execution_count": 54,
   "metadata": {},
   "outputs": [
    {
     "name": "stdout",
     "output_type": "stream",
     "text": [
      "(6874, 32, 32, 1)\n",
      "(2292, 32, 32, 3)\n",
      "(6874, 32, 32, 3)\n"
     ]
    }
   ],
   "source": [
    "#Now I will add the arrays together to get (32,32,3) images, with green, green, blue filters from SDSS. I do this because the NN\n",
    "#I chose (somewhat randomly) to try transfer learning with requires atleast (32,32,3), and at this point I don't have red images.\n",
    "\n",
    "#I also did not want to go through the hassle of querying SkyView for original (32,32) images, since the only way I knew how was \n",
    "#very slow and often needed my attention to keep the process going.\n",
    "\n",
    "train_images_middle_step = np.append(train_images, train_images, 3)\n",
    "train_images = np.append(train_images_middle_step, Blue_train_images, 3)\n",
    "\n",
    "test_images_middle_step = np.append(test_images,test_images, 3)\n",
    "test_images = np.append(test_images_middle_step,Blue_test_images, 3)\n",
    "\n",
    "#consider saving this array in the future instead of wasting time re-running the damn thing."
   ]
  },
  {
   "cell_type": "code",
   "execution_count": 55,
   "metadata": {},
   "outputs": [],
   "source": [
    "#load in and define my model, using transfer learning from a NN that was trained on image net\n",
    "#https://towardsdatascience.com/keras-transfer-learning-for-beginners-6c9b8b7143e\n",
    "\n",
    "#I chose vgg16 somewhat randomly, but I knew I wanted something that had few layers to begin with because I only have access to my\n",
    "#laptop, so I can't afford huge networks with tons of parameters in memory; and now reflecting on this perhaps I have confused\n",
    "#layers with trainable parameters as the thing that costs memory... \n",
    "\n",
    "from tensorflow.keras.applications import vgg16\n",
    "from tensorflow.keras import layers\n",
    "Input_layer = layers.Input(shape=(32,32,3))\n",
    "base_model = vgg16.VGG16(include_top=False, weights='imagenet',input_tensor=Input_layer)\n",
    "\n",
    "x=base_model.output\n",
    "x=layers.GlobalAveragePooling2D()(x)\n",
    "x=layers.Dropout(dropout)(x)\n",
    "x=layers.Dense(1024,activation='relu')(x) #we add dense layers so that the model can learn more complex functions and classify for better results.\n",
    "\n",
    "#commented out the below because my previous attempt had a structure 1024 -> 3 dense layer. Kept it commented because I might\n",
    "#go back and re-add the layers here, and this will serve as a reminder to do that.\n",
    "\n",
    "#x=layers.Dense(512,activation='relu')(x) #dense layer 2\n",
    "#x=layers.Dense(128,activation='relu')(x) #dense layer 3\n",
    "preds=layers.Dense(3,activation='softmax')(x) #final layer with softmax activation"
   ]
  },
  {
   "cell_type": "code",
   "execution_count": 56,
   "metadata": {},
   "outputs": [],
   "source": [
    "#define our model using the loaded base_model and our added layers\n",
    "from tensorflow.keras import Model\n",
    "model=Model(inputs=base_model.input,outputs=preds)"
   ]
  },
  {
   "cell_type": "code",
   "execution_count": 57,
   "metadata": {},
   "outputs": [
    {
     "name": "stdout",
     "output_type": "stream",
     "text": [
      "0 input_2\n",
      "1 block1_conv1\n",
      "2 block1_conv2\n",
      "3 block1_pool\n",
      "4 block2_conv1\n",
      "5 block2_conv2\n",
      "6 block2_pool\n",
      "7 block3_conv1\n",
      "8 block3_conv2\n",
      "9 block3_conv3\n",
      "10 block3_pool\n",
      "11 block4_conv1\n",
      "12 block4_conv2\n",
      "13 block4_conv3\n",
      "14 block4_pool\n",
      "15 block5_conv1\n",
      "16 block5_conv2\n",
      "17 block5_conv3\n",
      "18 block5_pool\n",
      "19 global_average_pooling2d_1\n",
      "20 dropout_1\n",
      "21 dense_2\n",
      "22 dense_3\n"
     ]
    }
   ],
   "source": [
    "#now that we have a model, we want to check the number of layers\n",
    "for i,layer in enumerate(model.layers):\n",
    "    print(i,layer.name)"
   ]
  },
  {
   "cell_type": "code",
   "execution_count": 58,
   "metadata": {},
   "outputs": [],
   "source": [
    "#using the number of layers, we want to then tell the classifier to only train the new top layers, the dense layers we added\n",
    "#so that we maximize the benefit of the imagenet training.\n",
    "\n",
    "#for layer in model.layers:\n",
    "#    layer.trainable=False\n",
    "\n",
    "# or if we want to set the first 19 layers of the network to be non-trainable\n",
    "for layer in model.layers[:15]:\n",
    "    layer.trainable=False\n",
    "for layer in model.layers[15:]:\n",
    "    layer.trainable=True"
   ]
  },
  {
   "cell_type": "code",
   "execution_count": 61,
   "metadata": {},
   "outputs": [],
   "source": [
    "#define an optimizer, loss, and accuracy metric.\n",
    "adam = tf.keras.optimizers.Adam(learning_rate = learning_rate)\n",
    "model.compile(optimizer=adam, loss='sparse_categorical_crossentropy',metrics=['accuracy'])"
   ]
  },
  {
   "cell_type": "code",
   "execution_count": 62,
   "metadata": {},
   "outputs": [
    {
     "data": {
      "text/plain": [
       "\"\\ndatagen = ImageDataGenerator(\\n    featurewise_center=True,\\n    featurewise_std_normalization=True,\\n    rotation_range=40,\\n    zoom_range=0.3,\\n    fill_mode='nearest'\\n    horizontal_flip=True,\\n    vetical_flip=True,\\n    data_format='channels_last',\\n    validation_split=validation_split)\\n\\ndatagen.fit(train_images)\\n\\nmodel.fit_generator(datagen.flow(train_images, train_targets, batch_size=batch_size),\\n                    steps_per_epoch=len(x_train) / batch_size, epochs=epoch_number)\\n\""
      ]
     },
     "execution_count": 62,
     "metadata": {},
     "output_type": "execute_result"
    }
   ],
   "source": [
    "#If I were to make all of the augmentations, I probably ought to use one of these guys. Just keeping it as a note to future self\n",
    "\n",
    "\"\"\"\n",
    "datagen = ImageDataGenerator(\n",
    "    featurewise_center=True,\n",
    "    featurewise_std_normalization=True,\n",
    "    rotation_range=40,\n",
    "    zoom_range=0.3,\n",
    "    fill_mode='nearest'\n",
    "    horizontal_flip=True,\n",
    "    vetical_flip=True,\n",
    "    data_format='channels_last',\n",
    "    validation_split=validation_split)\n",
    "\n",
    "datagen.fit(train_images)\n",
    "\n",
    "model.fit_generator(datagen.flow(train_images, train_targets, batch_size=batch_size),\n",
    "                    steps_per_epoch=len(x_train) / batch_size, epochs=epoch_number)\n",
    "\"\"\""
   ]
  },
  {
   "cell_type": "code",
   "execution_count": 63,
   "metadata": {},
   "outputs": [
    {
     "name": "stdout",
     "output_type": "stream",
     "text": [
      "Train on 6186 samples, validate on 688 samples\n",
      "Epoch 1/50\n",
      "6186/6186 [==============================] - 289s 47ms/sample - loss: 0.9600 - accuracy: 0.5057 - val_loss: 0.7932 - val_accuracy: 0.6265\n",
      "Epoch 2/50\n",
      "6186/6186 [==============================] - 287s 46ms/sample - loss: 0.8228 - accuracy: 0.5786 - val_loss: 0.7363 - val_accuracy: 0.6962\n",
      "Epoch 3/50\n",
      "6186/6186 [==============================] - 292s 47ms/sample - loss: 0.7620 - accuracy: 0.6361 - val_loss: 0.7126 - val_accuracy: 0.6977\n",
      "Epoch 4/50\n",
      "6186/6186 [==============================] - 289s 47ms/sample - loss: 0.7272 - accuracy: 0.6437 - val_loss: 0.6997 - val_accuracy: 0.6962\n",
      "Epoch 5/50\n",
      "6186/6186 [==============================] - 289s 47ms/sample - loss: 0.6972 - accuracy: 0.6675 - val_loss: 0.6925 - val_accuracy: 0.6977\n",
      "Epoch 6/50\n",
      "6186/6186 [==============================] - 289s 47ms/sample - loss: 0.6773 - accuracy: 0.6796 - val_loss: 0.6868 - val_accuracy: 0.7020\n",
      "Epoch 7/50\n",
      "6186/6186 [==============================] - 286s 46ms/sample - loss: 0.6778 - accuracy: 0.6777 - val_loss: 0.6833 - val_accuracy: 0.7020\n",
      "Epoch 8/50\n",
      "6186/6186 [==============================] - 286s 46ms/sample - loss: 0.6690 - accuracy: 0.6823 - val_loss: 0.6800 - val_accuracy: 0.7020\n",
      "Epoch 9/50\n",
      "6186/6186 [==============================] - 288s 47ms/sample - loss: 0.6501 - accuracy: 0.6930 - val_loss: 0.6764 - val_accuracy: 0.7020\n",
      "Epoch 10/50\n",
      "6186/6186 [==============================] - 289s 47ms/sample - loss: 0.6379 - accuracy: 0.7005 - val_loss: 0.6737 - val_accuracy: 0.7035\n",
      "Epoch 11/50\n",
      "6186/6186 [==============================] - 311s 50ms/sample - loss: 0.6343 - accuracy: 0.7013 - val_loss: 0.6711 - val_accuracy: 0.7064\n",
      "Epoch 12/50\n",
      "6186/6186 [==============================] - 314s 51ms/sample - loss: 0.6328 - accuracy: 0.6967 - val_loss: 0.6694 - val_accuracy: 0.7078\n",
      "Epoch 13/50\n",
      "6186/6186 [==============================] - 285s 46ms/sample - loss: 0.6270 - accuracy: 0.7068 - val_loss: 0.6677 - val_accuracy: 0.7078\n",
      "Epoch 14/50\n",
      "6186/6186 [==============================] - 286s 46ms/sample - loss: 0.6215 - accuracy: 0.7068 - val_loss: 0.6648 - val_accuracy: 0.7122\n",
      "Epoch 15/50\n",
      "6186/6186 [==============================] - 285s 46ms/sample - loss: 0.6149 - accuracy: 0.7087 - val_loss: 0.6634 - val_accuracy: 0.7137\n",
      "Epoch 16/50\n",
      "6186/6186 [==============================] - 287s 46ms/sample - loss: 0.6129 - accuracy: 0.7174 - val_loss: 0.6615 - val_accuracy: 0.7151\n",
      "Epoch 17/50\n",
      "6186/6186 [==============================] - 287s 46ms/sample - loss: 0.6095 - accuracy: 0.7211 - val_loss: 0.6599 - val_accuracy: 0.7166\n",
      "Epoch 18/50\n",
      "6186/6186 [==============================] - 286s 46ms/sample - loss: 0.6016 - accuracy: 0.7190 - val_loss: 0.6584 - val_accuracy: 0.7180\n",
      "Epoch 19/50\n",
      "6186/6186 [==============================] - 288s 47ms/sample - loss: 0.5939 - accuracy: 0.7274 - val_loss: 0.6564 - val_accuracy: 0.7180\n",
      "Epoch 20/50\n",
      "6186/6186 [==============================] - 286s 46ms/sample - loss: 0.5965 - accuracy: 0.7200 - val_loss: 0.6548 - val_accuracy: 0.7180\n",
      "Epoch 21/50\n",
      "6186/6186 [==============================] - 288s 46ms/sample - loss: 0.5872 - accuracy: 0.7260 - val_loss: 0.6527 - val_accuracy: 0.7137\n",
      "Epoch 22/50\n",
      "6186/6186 [==============================] - 286s 46ms/sample - loss: 0.5895 - accuracy: 0.7234 - val_loss: 0.6514 - val_accuracy: 0.7238\n",
      "Epoch 23/50\n",
      "6186/6186 [==============================] - 287s 46ms/sample - loss: 0.5922 - accuracy: 0.7273 - val_loss: 0.6509 - val_accuracy: 0.7238\n",
      "Epoch 24/50\n",
      "6186/6186 [==============================] - 287s 46ms/sample - loss: 0.5866 - accuracy: 0.7274 - val_loss: 0.6483 - val_accuracy: 0.7282\n",
      "Epoch 25/50\n",
      "6186/6186 [==============================] - 286s 46ms/sample - loss: 0.5887 - accuracy: 0.7328 - val_loss: 0.6470 - val_accuracy: 0.7253\n",
      "Epoch 26/50\n",
      "6186/6186 [==============================] - 286s 46ms/sample - loss: 0.5793 - accuracy: 0.7347 - val_loss: 0.6451 - val_accuracy: 0.7209\n",
      "Epoch 27/50\n",
      "6186/6186 [==============================] - 287s 46ms/sample - loss: 0.5772 - accuracy: 0.7318 - val_loss: 0.6424 - val_accuracy: 0.7209\n",
      "Epoch 28/50\n",
      "6186/6186 [==============================] - 287s 46ms/sample - loss: 0.5706 - accuracy: 0.7386 - val_loss: 0.6407 - val_accuracy: 0.7282\n",
      "Epoch 29/50\n",
      "6186/6186 [==============================] - 287s 46ms/sample - loss: 0.5752 - accuracy: 0.7341 - val_loss: 0.6396 - val_accuracy: 0.7267\n",
      "Epoch 30/50\n",
      "6186/6186 [==============================] - 286s 46ms/sample - loss: 0.5734 - accuracy: 0.7370 - val_loss: 0.6377 - val_accuracy: 0.7340\n",
      "Epoch 31/50\n",
      "6186/6186 [==============================] - 288s 47ms/sample - loss: 0.5658 - accuracy: 0.7414 - val_loss: 0.6361 - val_accuracy: 0.7340\n",
      "Epoch 32/50\n",
      "6186/6186 [==============================] - 286s 46ms/sample - loss: 0.5675 - accuracy: 0.7388 - val_loss: 0.6346 - val_accuracy: 0.7282\n",
      "Epoch 33/50\n",
      "6186/6186 [==============================] - 286s 46ms/sample - loss: 0.5669 - accuracy: 0.7388 - val_loss: 0.6334 - val_accuracy: 0.7326\n",
      "Epoch 34/50\n",
      "6186/6186 [==============================] - 286s 46ms/sample - loss: 0.5606 - accuracy: 0.7439 - val_loss: 0.6319 - val_accuracy: 0.7311\n",
      "Epoch 35/50\n",
      "6186/6186 [==============================] - 288s 47ms/sample - loss: 0.5633 - accuracy: 0.7423 - val_loss: 0.6311 - val_accuracy: 0.7267\n",
      "Epoch 36/50\n",
      "6186/6186 [==============================] - 287s 46ms/sample - loss: 0.5585 - accuracy: 0.7472 - val_loss: 0.6293 - val_accuracy: 0.7267\n",
      "Epoch 37/50\n",
      "6186/6186 [==============================] - 288s 46ms/sample - loss: 0.5574 - accuracy: 0.7452 - val_loss: 0.6275 - val_accuracy: 0.7267\n",
      "Epoch 38/50\n",
      "6186/6186 [==============================] - 287s 46ms/sample - loss: 0.5541 - accuracy: 0.7491 - val_loss: 0.6249 - val_accuracy: 0.7369\n",
      "Epoch 39/50\n",
      "6186/6186 [==============================] - 287s 46ms/sample - loss: 0.5553 - accuracy: 0.7439 - val_loss: 0.6256 - val_accuracy: 0.7282\n",
      "Epoch 40/50\n",
      "6186/6186 [==============================] - 287s 46ms/sample - loss: 0.5503 - accuracy: 0.7410 - val_loss: 0.6217 - val_accuracy: 0.7311\n",
      "Epoch 41/50\n",
      "6186/6186 [==============================] - 290s 47ms/sample - loss: 0.5489 - accuracy: 0.7501 - val_loss: 0.6205 - val_accuracy: 0.7297\n",
      "Epoch 42/50\n",
      "6186/6186 [==============================] - 289s 47ms/sample - loss: 0.5492 - accuracy: 0.7485 - val_loss: 0.6192 - val_accuracy: 0.7326\n",
      "Epoch 43/50\n",
      "6186/6186 [==============================] - 288s 47ms/sample - loss: 0.5465 - accuracy: 0.7522 - val_loss: 0.6185 - val_accuracy: 0.7340\n",
      "Epoch 44/50\n",
      "6186/6186 [==============================] - 289s 47ms/sample - loss: 0.5434 - accuracy: 0.7517 - val_loss: 0.6179 - val_accuracy: 0.7340\n",
      "Epoch 45/50\n",
      "6186/6186 [==============================] - 290s 47ms/sample - loss: 0.5430 - accuracy: 0.7557 - val_loss: 0.6173 - val_accuracy: 0.7297\n",
      "Epoch 46/50\n",
      "6186/6186 [==============================] - 287s 46ms/sample - loss: 0.5379 - accuracy: 0.7562 - val_loss: 0.6134 - val_accuracy: 0.7355\n",
      "Epoch 47/50\n",
      "6186/6186 [==============================] - 289s 47ms/sample - loss: 0.5402 - accuracy: 0.7572 - val_loss: 0.6130 - val_accuracy: 0.7326\n",
      "Epoch 48/50\n",
      "6186/6186 [==============================] - 288s 47ms/sample - loss: 0.5416 - accuracy: 0.7564 - val_loss: 0.6134 - val_accuracy: 0.7282\n",
      "Epoch 49/50\n",
      "6186/6186 [==============================] - 288s 47ms/sample - loss: 0.5385 - accuracy: 0.7564 - val_loss: 0.6113 - val_accuracy: 0.7384\n",
      "Epoch 50/50\n",
      "6186/6186 [==============================] - 288s 46ms/sample - loss: 0.5374 - accuracy: 0.7567 - val_loss: 0.6094 - val_accuracy: 0.7340\n"
     ]
    }
   ],
   "source": [
    "#train, then print validation scores\n",
    "history = model.fit(train_images, train_target, validation_split=validation_split, epochs=epoch_number, batch_size=batch_size, verbose=1, shuffle=True)"
   ]
  },
  {
   "cell_type": "code",
   "execution_count": 64,
   "metadata": {},
   "outputs": [
    {
     "name": "stdout",
     "output_type": "stream",
     "text": [
      "dict_keys(['loss', 'accuracy', 'val_loss', 'val_accuracy'])\n"
     ]
    }
   ],
   "source": [
    "print(history.history.keys())"
   ]
  },
  {
   "cell_type": "code",
   "execution_count": 65,
   "metadata": {},
   "outputs": [
    {
     "data": {
      "image/png": "[encoded data removed]",
      "text/plain": [
       "<Figure size 432x288 with 1 Axes>"
      ]
     },
     "metadata": {},
     "output_type": "display_data"
    },
    {
     "data": {
      "image/png": "[encoded data removed]",
      "text/plain": [
       "<Figure size 432x288 with 1 Axes>"
      ]
     },
     "metadata": {},
     "output_type": "display_data"
    }
   ],
   "source": [
    "# summarize history for accuracy\n",
    "plt.plot(history.history['accuracy'])\n",
    "plt.plot(history.history['val_accuracy'])\n",
    "plt.title('model accuracy')\n",
    "plt.ylabel('accuracy')\n",
    "plt.xlabel('epoch')\n",
    "plt.legend(['train', 'test'], loc='upper left')\n",
    "plt.show()\n",
    "# summarize history for loss\n",
    "plt.plot(history.history['loss'])\n",
    "plt.plot(history.history['val_loss'])\n",
    "plt.title('model loss')\n",
    "plt.ylabel('loss')\n",
    "plt.xlabel('epoch')\n",
    "plt.legend(['train', 'test'], loc='upper left')\n",
    "plt.show()\n",
    "\n",
    "#analysis: It seem I may need to decrease my LR after epoch 30? I do not seem to be over training, but maybe am running into\n",
    "#rocky area around epoch 30 where I am overshooting the convergence. Doesn't seem to be a smooth decrease after epoch 30?\n",
    "\n",
    "#I am altogether unsure of how to interpret. or how to change LR on the fly for that matter...\n",
    "\n",
    "#I am also worried about the fact that I do not have R and B data, because I know a big feature should be blue light vs red light\n",
    "\n",
    "#Note, this was also done without any data augmentation.\n",
    "\n",
    "#note, 0.905^30 = 0.05; 0.93^30 = 0.1; actually seems more likely that epoch=12 is where we start to come apart\n",
    "#so note, 0.83^12 = 0.1, 0.7^12 = 0.01\n",
    "#might consider that we should decay the learning rate so that we decrease is by a signicant amount by this epoch so that we\n",
    "#avoid the bumpy bit and keep moving smoothly??"
   ]
  },
  {
   "cell_type": "code",
   "execution_count": 66,
   "metadata": {},
   "outputs": [
    {
     "name": "stdout",
     "output_type": "stream",
     "text": [
      "2292/2292 [==============================] - 18s 8ms/sample - loss: 0.6237 - accuracy: 0.7243\n",
      "Test accuracy: 0.7242583\n",
      "Test loss: 0.6237458839466434\n"
     ]
    }
   ],
   "source": [
    "#model.summary()\n",
    "test_loss, test_acc = model.evaluate(test_images, test_target)\n",
    "print('Test accuracy:', test_acc)\n",
    "print('Test loss:', test_loss)\n",
    "#0.82 with LR = 3e-5, batch size=64, epochs=20, dropout=0.40.\n",
    "\n",
    "#0.82 with LR 3e-4, batch size=64, epochs=10, dropout=0.4.\n",
    "\n",
    "#LR 3e-3 caused no training, random guesses\n",
    "\n",
    "#LR 5e-4 slightly too high, didn't train as well as 3e-4 \n",
    "\n",
    "#last attempt on this notebook:\n",
    "#LR = 3e-4, 50 epochs, 64 batch size, dropout=0.4; test accuracy=0.8032"
   ]
  },
  {
   "cell_type": "markdown",
   "metadata": {},
   "source": [
    "<b>Update 5/11/19</b> Below are the graphs from one of the outputs from the transfer learning attempts I did. I did not use augmentation on this run, because in previous attempts I noticed that networks took much much longer to train and I felt that the network was not being as successful as my previous CNN without transfer attempts. This is an attempt with a blue channel.\n",
    "\n",
    "interpreting these graphs I would say that the LR is right and that my network is working correctly. I think these graphs are about what a professional netowork might look like, but the problem is that I wanted more accuracy. The number I had as a target is 90%. So, I moved on. \n",
    "\n",
    "Reflecting on it, It would appear that I could still squeeze a bit more accuracy out of this NN with more epochs. One reason I am hesitant to run that experiment is that all of this is done from my personal laptop, when I run this transfer learning code it slows down everything else, which is undesirable when trying to complete my actual coursework. Now that it is summer, I might change my tune."
   ]
  },
  {
   "cell_type": "markdown",
   "metadata": {},
   "source": [
    "<img src='Transfer_Learning_epochs_50_acc.png'>\n",
    "\n",
    "<img src='Transfer_Learning_epochs_50_loss.png'>"
   ]
  }
 ],
 "metadata": {
  "kernelspec": {
   "display_name": "Python 3",
   "language": "python",
   "name": "python3"
  },
  "language_info": {
   "codemirror_mode": {
    "name": "ipython",
    "version": 3
   },
   "file_extension": ".py",
   "mimetype": "text/x-python",
   "name": "python",
   "nbconvert_exporter": "python",
   "pygments_lexer": "ipython3",
   "version": "3.6.6"
  }
 },
 "nbformat": 4,
 "nbformat_minor": 2
}
