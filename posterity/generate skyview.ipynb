{
 "cells": [
  {
   "cell_type": "code",
   "execution_count": 1,
   "metadata": {},
   "outputs": [],
   "source": [
    "#I want to prepare image data from the kaggle galaxyzoo into 64x64 vector, need the resolution to be high,"
   ]
  },
  {
   "cell_type": "code",
   "execution_count": 2,
   "metadata": {},
   "outputs": [],
   "source": [
    "#first, how do I import an image into here as pixel values?\n",
    "\n",
    "#lets use scipy since I know i have that installed\n",
    "#http://scipy-lectures.org/advanced/image_processing/\n",
    "\n",
    "import numpy as np\n",
    "import matplotlib.pyplot as plt\n",
    "import pandas as pd"
   ]
  },
  {
   "cell_type": "code",
   "execution_count": 3,
   "metadata": {},
   "outputs": [],
   "source": [
    "galaxyzoo = pd.read_csv(\"zoo2MainSpecz.csv\", usecols=[2,3,4,8], nrows=10000)\n",
    "ID = galaxyzoo[\"dr7objid\"].values\n",
    "RA = galaxyzoo[\"ra\"].values\n",
    "DEC = galaxyzoo[\"dec\"].values\n",
    "Class = galaxyzoo[\"gz2class\"].values\n"
   ]
  },
  {
   "cell_type": "code",
   "execution_count": 4,
   "metadata": {},
   "outputs": [
    {
     "name": "stdout",
     "output_type": "stream",
     "text": [
      "gzip was not found on your system! You should solve this issue for astroquery.eso to be at its best!\n",
      "On POSIX system: make sure gzip is installed and in your path!On Windows: same for 7-zip (http://www.7-zip.org)!\n"
     ]
    }
   ],
   "source": [
    "from astroquery.skyview import SkyView\n",
    "import astropy.units as u"
   ]
  },
  {
   "cell_type": "code",
   "execution_count": 5,
   "metadata": {},
   "outputs": [],
   "source": [
    "for i in range(10000):\n",
    "    RA[i] = np.round(RA[i],5)\n",
    "    DEC[i] = np.round(DEC[i],5)\n"
   ]
  },
  {
   "cell_type": "code",
   "execution_count": 6,
   "metadata": {},
   "outputs": [
    {
     "name": "stdout",
     "output_type": "stream",
     "text": [
      "165.04015 45.91702\n"
     ]
    }
   ],
   "source": [
    "print(RA[1416],DEC[1416])"
   ]
  },
  {
   "cell_type": "code",
   "execution_count": 7,
   "metadata": {},
   "outputs": [],
   "source": [
    "#empty_image = np.empty((5,64,64))\n",
    "#for i in range(5):\n",
    "#    empty_image[i] = img_list[i][0].data"
   ]
  },
  {
   "cell_type": "code",
   "execution_count": 8,
   "metadata": {},
   "outputs": [
    {
     "name": "stdout",
     "output_type": "stream",
     "text": [
      "[[<astropy.io.fits.hdu.image.PrimaryHDU object at 0x000000000C3010F0>], [<astropy.io.fits.hdu.image.PrimaryHDU object at 0x000000000C46EE10>], [<astropy.io.fits.hdu.image.PrimaryHDU object at 0x000000000C4A1668>], [<astropy.io.fits.hdu.image.PrimaryHDU object at 0x000000000C4B8E80>], [<astropy.io.fits.hdu.image.PrimaryHDU object at 0x000000000C4B47F0>]]\n",
      "<class 'list'>\n"
     ]
    }
   ],
   "source": [
    "#print(np.shape(empty_image))\n",
    "img = SkyView.get_images(position=((str(RA[1385])+','+str(DEC[1385]))),survey=['SDSSu','SDSSg','SDSSr','SDSSi','SDSSz'],pixels=(64,64), radius=200*u.arcsec)\n",
    "print(img)\n",
    "print(type(img))"
   ]
  },
  {
   "cell_type": "code",
   "execution_count": 9,
   "metadata": {},
   "outputs": [],
   "source": [
    "def pre_process_images(RA,DEC,pixel_number = 64,image_number = 2, start=0, radius=200):\n",
    "    \"\"\"\n",
    "    This function will take in an N dimensional RA and DEC array, look up image files from skyquery, place those files in a\n",
    "    flattened array.\n",
    "    \n",
    "    Parameters:\n",
    "    RA, array, hold right ascensions for object i, N dim\n",
    "    DEC, array, holds declination for object i, N dim\n",
    "    pixel_number, int, tells the square pixel size of the skyquery\n",
    "    image_number, int, tells how many images to pull from our N dim, sets dim of output array\n",
    "    \n",
    "    OUTPUT:\n",
    "    processed_data: array with dimensions: (image_number, pixelnumber*pixelnumber), flattened pixel array\n",
    "    \"\"\"\n",
    "    processed_data = np.empty((image_number-start,pixel_number,pixel_number,5))\n",
    "    radius = radius*u.arcsec\n",
    "    for i in range(image_number-start):\n",
    "        img = SkyView.get_images(position=((str(RA[i+start])+','+str(DEC[i+start]))),survey=['SDSSu','SDSSg','SDSSr','SDSSi','SDSSz'],pixels=(pixel_number,pixel_number), radius=radius)\n",
    "        #img_green = SkyView.get_images(position=((str(RA[i+start])+','+str(DEC[i+start]))),survey=['SDSSr'],pixels=(pixel_number,pixel_number), radius=radius)[0][0].data.reshape(pixel_number,pixel_number,1)\n",
    "        #img_red = SkyView.get_images(position=((str(RA[i+start])+','+str(DEC[i+start]))),survey=['SDSSi'],pixels=(pixel_number,pixel_number), radius=radius)[0][0].data.reshape(pixel_number,pixel_number,1)\n",
    "        #print(img)\n",
    "        if img == []:\n",
    "            img = SkyView.get_images(position=((str(RA[i+start])+','+str(DEC[i+start]))),survey=['SDSSu','SDSSg','SDSSr','SDSSi','SDSSz'],pixels=(pixel_number,pixel_number), radius=(radius*(1/2)))\n",
    "            print('whoops {} is zoomed in a bit'.format(i+start))\n",
    "        empty_image = np.empty((pixel_number,pixel_number,5))\n",
    "        for j in range(5):\n",
    "            empty_image[:,:,j] = img[j][0].data\n",
    "        #if i == 0:\n",
    "        #    print(img[0][0].header)\n",
    "        #processed_data[i,:,:,:] = empty_image\n",
    "        save_string = 'array_number_'+str(i+start)\n",
    "        np.save('C:\\\\Users\\qwsaz\\\\Research_NCSA\\\\image_arrays\\\\{}'.format(save_string), empty_image)\n",
    "        print(i+start)\n",
    "    \n",
    "#should run in 8 hours to go through 10,000 images. \n",
    "def pre_process_images(RA,DEC,pixel_number = 64,image_number = 2, start=0, radius=200):\n",
    "    \"\"\"\n",
    "    This function will take in an N dimensional RA and DEC array, look up image files from skyquery, place those files in a\n",
    "    flattened array.\n",
    "    \n",
    "    Parameters:\n",
    "    RA, array, hold right ascensions for object i, N dim\n",
    "    DEC, array, holds declination for object i, N dim\n",
    "    pixel_number, int, tells the square pixel size of the skyquery\n",
    "    image_number, int, tells how many images to pull from our N dim, sets dim of output array\n",
    "    \n",
    "    OUTPUT:\n",
    "    processed_data: array with dimensions: (image_number, pixelnumber*pixelnumber), flattened pixel array\n",
    "    \"\"\"\n",
    "    processed_data = np.empty((image_number-start,pixel_number,pixel_number,5))\n",
    "    radius = radius*u.arcsec\n",
    "    for i in range(image_number-start):\n",
    "        img = SkyView.get_images(position=((str(RA[i+start])+','+str(DEC[i+start]))),survey=['SDSSu','SDSSg','SDSSr','SDSSi','SDSSz'],pixels=(pixel_number,pixel_number), radius=radius)\n",
    "        #img_green = SkyView.get_images(position=((str(RA[i+start])+','+str(DEC[i+start]))),survey=['SDSSr'],pixels=(pixel_number,pixel_number), radius=radius)[0][0].data.reshape(pixel_number,pixel_number,1)\n",
    "        #img_red = SkyView.get_images(position=((str(RA[i+start])+','+str(DEC[i+start]))),survey=['SDSSi'],pixels=(pixel_number,pixel_number), radius=radius)[0][0].data.reshape(pixel_number,pixel_number,1)\n",
    "        #print(img)\n",
    "        if img == []:\n",
    "            img = SkyView.get_images(position=((str(RA[i+start])+','+str(DEC[i+start]))),survey=['SDSSu','SDSSg','SDSSr','SDSSi','SDSSz'],pixels=(pixel_number,pixel_number), radius=(radius*(1/2)))\n",
    "            print('whoops {} is zoomed in a bit'.format(i+start))\n",
    "        if img == []:\n",
    "            img = SkyView.get_images(position=((str(RA[i+start])+','+str(DEC[i+start]))),survey=['SDSSu','SDSSg','SDSSr','SDSSi','SDSSz'],pixels=(pixel_number,pixel_number), radius=(radius*(1/4)))\n",
    "            print('whoops {} is zoomed in a bit'.format(i+start))\n",
    "        if img == []:\n",
    "            img = SkyView.get_images(position=((str(RA[i+start])+','+str(DEC[i+start]))),survey=['SDSSu','SDSSg','SDSSr','SDSSi','SDSSz'],pixels=(pixel_number,pixel_number), radius=(radius*(1/8)))\n",
    "            print('whoops {} is zoomed in a bit'.format(i+start))\n",
    "        if img == []:\n",
    "            img = SkyView.get_images(position=((str(RA[i+start])+','+str(DEC[i+start]))),survey=['SDSSu','SDSSg','SDSSr','SDSSi','SDSSz'],pixels=(pixel_number,pixel_number), radius=(radius*(1/20)))\n",
    "            print('whoops {} is zoomed in a bit'.format(i+start))\n",
    "        empty_image = np.zeros((pixel_number,pixel_number,5))\n",
    "        if img == []:\n",
    "            img = np.zeros((64,64,5))\n",
    "            print('@#$% {} is all zeros'.format(i+start))  \n",
    "        else:\n",
    "            for j in range(5):\n",
    "                empty_image[:,:,j] = img[j][0].data\n",
    "        #if i == 0:\n",
    "        #    print(img[0][0].header)\n",
    "        #processed_data[i,:,:,:] = empty_image\n",
    "        save_string = 'array_number_'+str(i+start)\n",
    "        np.save('image_arrays\\\\{}'.format(save_string), empty_image)\n",
    "        print(i+start)\n",
    "    \n",
    "#should run in 8 hours to go through 10,000 images. "
   ]
  },
  {
   "cell_type": "code",
   "execution_count": 13,
   "metadata": {
    "scrolled": true
   },
   "outputs": [
    {
     "name": "stdout",
     "output_type": "stream",
     "text": [
      "7975\n",
      "7976\n",
      "7977\n",
      "7978\n",
      "7979\n",
      "7980\n",
      "7981\n",
      "7982\n",
      "7983\n",
      "7984\n",
      "7985\n",
      "7986\n",
      "7987\n",
      "7988\n",
      "7989\n",
      "7990\n",
      "7991\n",
      "7992\n",
      "7993\n",
      "7994\n",
      "7995\n",
      "7996\n",
      "7997\n",
      "7998\n",
      "7999\n",
      "8000\n",
      "8001\n",
      "8002\n",
      "8003\n",
      "8004\n",
      "8005\n",
      "8006\n",
      "8007\n",
      "8008\n",
      "8009\n",
      "8010\n",
      "8011\n",
      "8012\n",
      "8013\n",
      "8014\n",
      "8015\n",
      "8016\n",
      "8017\n",
      "8018\n",
      "8019\n",
      "8020\n",
      "8021\n",
      "8022\n",
      "8023\n",
      "8024\n",
      "8025\n",
      "8026\n",
      "8027\n",
      "8028\n",
      "8029\n",
      "8030\n",
      "8031\n",
      "8032\n",
      "8033\n",
      "8034\n",
      "8035\n",
      "8036\n",
      "8037\n",
      "8038\n",
      "8039\n",
      "8040\n",
      "8041\n"
     ]
    },
    {
     "ename": "KeyboardInterrupt",
     "evalue": "",
     "output_type": "error",
     "traceback": [
      "\u001b[1;31m---------------------------------------------------------------------------\u001b[0m",
      "\u001b[1;31mKeyboardInterrupt\u001b[0m                         Traceback (most recent call last)",
      "\u001b[1;32m<ipython-input-13-4738f50caf6a>\u001b[0m in \u001b[0;36m<module>\u001b[1;34m\u001b[0m\n\u001b[0;32m     22\u001b[0m \u001b[1;31m#9739\u001b[0m\u001b[1;33m\u001b[0m\u001b[1;33m\u001b[0m\u001b[1;33m\u001b[0m\u001b[0m\n\u001b[0;32m     23\u001b[0m \u001b[1;31m#7847 delete\u001b[0m\u001b[1;33m\u001b[0m\u001b[1;33m\u001b[0m\u001b[1;33m\u001b[0m\u001b[0m\n\u001b[1;32m---> 24\u001b[1;33m \u001b[1;33m(\u001b[0m\u001b[0mprocessed_data_one\u001b[0m\u001b[1;33m)\u001b[0m \u001b[1;33m=\u001b[0m \u001b[0mpre_process_images\u001b[0m\u001b[1;33m(\u001b[0m\u001b[0mRA\u001b[0m\u001b[1;33m,\u001b[0m\u001b[0mDEC\u001b[0m\u001b[1;33m,\u001b[0m\u001b[0mpixel_number\u001b[0m \u001b[1;33m=\u001b[0m \u001b[1;36m64\u001b[0m\u001b[1;33m,\u001b[0m\u001b[0mimage_number\u001b[0m \u001b[1;33m=\u001b[0m \u001b[1;36m10000\u001b[0m\u001b[1;33m,\u001b[0m \u001b[0mstart\u001b[0m\u001b[1;33m=\u001b[0m\u001b[1;36m7975\u001b[0m\u001b[1;33m)\u001b[0m\u001b[1;33m\u001b[0m\u001b[1;33m\u001b[0m\u001b[0m\n\u001b[0m",
      "\u001b[1;32m<ipython-input-9-32a6eb12fa33>\u001b[0m in \u001b[0;36mpre_process_images\u001b[1;34m(RA, DEC, pixel_number, image_number, start, radius)\u001b[0m\n\u001b[0;32m     51\u001b[0m     \u001b[0mradius\u001b[0m \u001b[1;33m=\u001b[0m \u001b[0mradius\u001b[0m\u001b[1;33m*\u001b[0m\u001b[0mu\u001b[0m\u001b[1;33m.\u001b[0m\u001b[0marcsec\u001b[0m\u001b[1;33m\u001b[0m\u001b[1;33m\u001b[0m\u001b[0m\n\u001b[0;32m     52\u001b[0m     \u001b[1;32mfor\u001b[0m \u001b[0mi\u001b[0m \u001b[1;32min\u001b[0m \u001b[0mrange\u001b[0m\u001b[1;33m(\u001b[0m\u001b[0mimage_number\u001b[0m\u001b[1;33m-\u001b[0m\u001b[0mstart\u001b[0m\u001b[1;33m)\u001b[0m\u001b[1;33m:\u001b[0m\u001b[1;33m\u001b[0m\u001b[1;33m\u001b[0m\u001b[0m\n\u001b[1;32m---> 53\u001b[1;33m         \u001b[0mimg\u001b[0m \u001b[1;33m=\u001b[0m \u001b[0mSkyView\u001b[0m\u001b[1;33m.\u001b[0m\u001b[0mget_images\u001b[0m\u001b[1;33m(\u001b[0m\u001b[0mposition\u001b[0m\u001b[1;33m=\u001b[0m\u001b[1;33m(\u001b[0m\u001b[1;33m(\u001b[0m\u001b[0mstr\u001b[0m\u001b[1;33m(\u001b[0m\u001b[0mRA\u001b[0m\u001b[1;33m[\u001b[0m\u001b[0mi\u001b[0m\u001b[1;33m+\u001b[0m\u001b[0mstart\u001b[0m\u001b[1;33m]\u001b[0m\u001b[1;33m)\u001b[0m\u001b[1;33m+\u001b[0m\u001b[1;34m','\u001b[0m\u001b[1;33m+\u001b[0m\u001b[0mstr\u001b[0m\u001b[1;33m(\u001b[0m\u001b[0mDEC\u001b[0m\u001b[1;33m[\u001b[0m\u001b[0mi\u001b[0m\u001b[1;33m+\u001b[0m\u001b[0mstart\u001b[0m\u001b[1;33m]\u001b[0m\u001b[1;33m)\u001b[0m\u001b[1;33m)\u001b[0m\u001b[1;33m)\u001b[0m\u001b[1;33m,\u001b[0m\u001b[0msurvey\u001b[0m\u001b[1;33m=\u001b[0m\u001b[1;33m[\u001b[0m\u001b[1;34m'SDSSu'\u001b[0m\u001b[1;33m,\u001b[0m\u001b[1;34m'SDSSg'\u001b[0m\u001b[1;33m,\u001b[0m\u001b[1;34m'SDSSr'\u001b[0m\u001b[1;33m,\u001b[0m\u001b[1;34m'SDSSi'\u001b[0m\u001b[1;33m,\u001b[0m\u001b[1;34m'SDSSz'\u001b[0m\u001b[1;33m]\u001b[0m\u001b[1;33m,\u001b[0m\u001b[0mpixels\u001b[0m\u001b[1;33m=\u001b[0m\u001b[1;33m(\u001b[0m\u001b[0mpixel_number\u001b[0m\u001b[1;33m,\u001b[0m\u001b[0mpixel_number\u001b[0m\u001b[1;33m)\u001b[0m\u001b[1;33m,\u001b[0m \u001b[0mradius\u001b[0m\u001b[1;33m=\u001b[0m\u001b[0mradius\u001b[0m\u001b[1;33m)\u001b[0m\u001b[1;33m\u001b[0m\u001b[1;33m\u001b[0m\u001b[0m\n\u001b[0m\u001b[0;32m     54\u001b[0m         \u001b[1;31m#img_green = SkyView.get_images(position=((str(RA[i+start])+','+str(DEC[i+start]))),survey=['SDSSr'],pixels=(pixel_number,pixel_number), radius=radius)[0][0].data.reshape(pixel_number,pixel_number,1)\u001b[0m\u001b[1;33m\u001b[0m\u001b[1;33m\u001b[0m\u001b[1;33m\u001b[0m\u001b[0m\n\u001b[0;32m     55\u001b[0m         \u001b[1;31m#img_red = SkyView.get_images(position=((str(RA[i+start])+','+str(DEC[i+start]))),survey=['SDSSi'],pixels=(pixel_number,pixel_number), radius=radius)[0][0].data.reshape(pixel_number,pixel_number,1)\u001b[0m\u001b[1;33m\u001b[0m\u001b[1;33m\u001b[0m\u001b[1;33m\u001b[0m\u001b[0m\n",
      "\u001b[1;32m~\\AppData\\Local\\Continuum\\anaconda3\\lib\\site-packages\\astroquery\\skyview\\core.py\u001b[0m in \u001b[0;36mget_images\u001b[1;34m(self, position, survey, coordinates, projection, pixels, scaling, sampler, resolver, deedger, lut, grid, gridlabels, radius, height, width, cache, show_progress)\u001b[0m\n\u001b[0;32m    204\u001b[0m                                                  \u001b[0mwidth\u001b[0m\u001b[1;33m=\u001b[0m\u001b[0mwidth\u001b[0m\u001b[1;33m,\u001b[0m\u001b[1;33m\u001b[0m\u001b[1;33m\u001b[0m\u001b[0m\n\u001b[0;32m    205\u001b[0m                                                  \u001b[0mcache\u001b[0m\u001b[1;33m=\u001b[0m\u001b[0mcache\u001b[0m\u001b[1;33m,\u001b[0m\u001b[1;33m\u001b[0m\u001b[1;33m\u001b[0m\u001b[0m\n\u001b[1;32m--> 206\u001b[1;33m                                                  show_progress=show_progress)\n\u001b[0m\u001b[0;32m    207\u001b[0m         \u001b[1;32mreturn\u001b[0m \u001b[1;33m[\u001b[0m\u001b[0mobj\u001b[0m\u001b[1;33m.\u001b[0m\u001b[0mget_fits\u001b[0m\u001b[1;33m(\u001b[0m\u001b[1;33m)\u001b[0m \u001b[1;32mfor\u001b[0m \u001b[0mobj\u001b[0m \u001b[1;32min\u001b[0m \u001b[0mreadable_objects\u001b[0m\u001b[1;33m]\u001b[0m\u001b[1;33m\u001b[0m\u001b[1;33m\u001b[0m\u001b[0m\n\u001b[0;32m    208\u001b[0m \u001b[1;33m\u001b[0m\u001b[0m\n",
      "\u001b[1;32m~\\AppData\\Local\\Continuum\\anaconda3\\lib\\site-packages\\astroquery\\skyview\\core.py\u001b[0m in \u001b[0;36mget_images_async\u001b[1;34m(self, position, survey, coordinates, projection, pixels, scaling, sampler, resolver, deedger, lut, grid, gridlabels, radius, height, width, cache, show_progress)\u001b[0m\n\u001b[0;32m    223\u001b[0m                                          \u001b[0mgridlabels\u001b[0m\u001b[1;33m,\u001b[0m \u001b[0mradius\u001b[0m\u001b[1;33m=\u001b[0m\u001b[0mradius\u001b[0m\u001b[1;33m,\u001b[0m\u001b[1;33m\u001b[0m\u001b[1;33m\u001b[0m\u001b[0m\n\u001b[0;32m    224\u001b[0m                                          \u001b[0mheight\u001b[0m\u001b[1;33m=\u001b[0m\u001b[0mheight\u001b[0m\u001b[1;33m,\u001b[0m \u001b[0mwidth\u001b[0m\u001b[1;33m=\u001b[0m\u001b[0mwidth\u001b[0m\u001b[1;33m,\u001b[0m\u001b[1;33m\u001b[0m\u001b[1;33m\u001b[0m\u001b[0m\n\u001b[1;32m--> 225\u001b[1;33m                                          cache=cache)\n\u001b[0m\u001b[0;32m    226\u001b[0m         return [commons.FileContainer(url, encoding='binary',\n\u001b[0;32m    227\u001b[0m                                       show_progress=show_progress)\n",
      "\u001b[1;32m~\\AppData\\Local\\Continuum\\anaconda3\\lib\\site-packages\\astroquery\\skyview\\core.py\u001b[0m in \u001b[0;36mget_image_list\u001b[1;34m(self, position, survey, coordinates, projection, pixels, scaling, sampler, resolver, deedger, lut, grid, gridlabels, radius, width, height, cache)\u001b[0m\n\u001b[0;32m    276\u001b[0m             \u001b[1;34m'size'\u001b[0m\u001b[1;33m:\u001b[0m \u001b[0msize_deg\u001b[0m\u001b[1;33m,\u001b[0m\u001b[1;33m\u001b[0m\u001b[1;33m\u001b[0m\u001b[0m\n\u001b[0;32m    277\u001b[0m             'pixels': pixels}\n\u001b[1;32m--> 278\u001b[1;33m         \u001b[0mresponse\u001b[0m \u001b[1;33m=\u001b[0m \u001b[0mself\u001b[0m\u001b[1;33m.\u001b[0m\u001b[0m_submit_form\u001b[0m\u001b[1;33m(\u001b[0m\u001b[0minput\u001b[0m\u001b[1;33m,\u001b[0m \u001b[0mcache\u001b[0m\u001b[1;33m=\u001b[0m\u001b[0mcache\u001b[0m\u001b[1;33m)\u001b[0m\u001b[1;33m\u001b[0m\u001b[1;33m\u001b[0m\u001b[0m\n\u001b[0m\u001b[0;32m    279\u001b[0m         \u001b[0murls\u001b[0m \u001b[1;33m=\u001b[0m \u001b[0mself\u001b[0m\u001b[1;33m.\u001b[0m\u001b[0m_parse_response\u001b[0m\u001b[1;33m(\u001b[0m\u001b[0mresponse\u001b[0m\u001b[1;33m)\u001b[0m\u001b[1;33m\u001b[0m\u001b[1;33m\u001b[0m\u001b[0m\n\u001b[0;32m    280\u001b[0m         \u001b[1;32mreturn\u001b[0m \u001b[0murls\u001b[0m\u001b[1;33m\u001b[0m\u001b[1;33m\u001b[0m\u001b[0m\n",
      "\u001b[1;32m~\\AppData\\Local\\Continuum\\anaconda3\\lib\\site-packages\\astroquery\\skyview\\core.py\u001b[0m in \u001b[0;36m_submit_form\u001b[1;34m(self, input, cache)\u001b[0m\n\u001b[0;32m     82\u001b[0m     \u001b[1;32mdef\u001b[0m \u001b[0m_submit_form\u001b[0m\u001b[1;33m(\u001b[0m\u001b[0mself\u001b[0m\u001b[1;33m,\u001b[0m \u001b[0minput\u001b[0m\u001b[1;33m=\u001b[0m\u001b[1;32mNone\u001b[0m\u001b[1;33m,\u001b[0m \u001b[0mcache\u001b[0m\u001b[1;33m=\u001b[0m\u001b[1;32mTrue\u001b[0m\u001b[1;33m)\u001b[0m\u001b[1;33m:\u001b[0m\u001b[1;33m\u001b[0m\u001b[1;33m\u001b[0m\u001b[0m\n\u001b[0;32m     83\u001b[0m         \u001b[0murl\u001b[0m\u001b[1;33m,\u001b[0m \u001b[0mpayload\u001b[0m \u001b[1;33m=\u001b[0m \u001b[0mself\u001b[0m\u001b[1;33m.\u001b[0m\u001b[0m_generate_payload\u001b[0m\u001b[1;33m(\u001b[0m\u001b[0minput\u001b[0m\u001b[1;33m=\u001b[0m\u001b[0minput\u001b[0m\u001b[1;33m)\u001b[0m\u001b[1;33m\u001b[0m\u001b[1;33m\u001b[0m\u001b[0m\n\u001b[1;32m---> 84\u001b[1;33m         \u001b[0mresponse\u001b[0m \u001b[1;33m=\u001b[0m \u001b[0mself\u001b[0m\u001b[1;33m.\u001b[0m\u001b[0m_request\u001b[0m\u001b[1;33m(\u001b[0m\u001b[1;34m'GET'\u001b[0m\u001b[1;33m,\u001b[0m \u001b[0murl\u001b[0m\u001b[1;33m,\u001b[0m \u001b[0mparams\u001b[0m\u001b[1;33m=\u001b[0m\u001b[0mpayload\u001b[0m\u001b[1;33m,\u001b[0m \u001b[0mcache\u001b[0m\u001b[1;33m=\u001b[0m\u001b[0mcache\u001b[0m\u001b[1;33m)\u001b[0m\u001b[1;33m\u001b[0m\u001b[1;33m\u001b[0m\u001b[0m\n\u001b[0m\u001b[0;32m     85\u001b[0m         \u001b[1;32mreturn\u001b[0m \u001b[0mresponse\u001b[0m\u001b[1;33m\u001b[0m\u001b[1;33m\u001b[0m\u001b[0m\n\u001b[0;32m     86\u001b[0m \u001b[1;33m\u001b[0m\u001b[0m\n",
      "\u001b[1;32m~\\AppData\\Local\\Continuum\\anaconda3\\lib\\site-packages\\astroquery\\query.py\u001b[0m in \u001b[0;36m_request\u001b[1;34m(self, method, url, params, data, headers, files, save, savedir, timeout, cache, stream, auth, continuation, verify)\u001b[0m\n\u001b[0;32m    232\u001b[0m                                              auth=auth, verify=verify)\n\u001b[0;32m    233\u001b[0m             \u001b[1;32melse\u001b[0m\u001b[1;33m:\u001b[0m\u001b[1;33m\u001b[0m\u001b[1;33m\u001b[0m\u001b[0m\n\u001b[1;32m--> 234\u001b[1;33m                 \u001b[0mresponse\u001b[0m \u001b[1;33m=\u001b[0m \u001b[0mquery\u001b[0m\u001b[1;33m.\u001b[0m\u001b[0mfrom_cache\u001b[0m\u001b[1;33m(\u001b[0m\u001b[0mself\u001b[0m\u001b[1;33m.\u001b[0m\u001b[0mcache_location\u001b[0m\u001b[1;33m)\u001b[0m\u001b[1;33m\u001b[0m\u001b[1;33m\u001b[0m\u001b[0m\n\u001b[0m\u001b[0;32m    235\u001b[0m                 \u001b[1;32mif\u001b[0m \u001b[1;32mnot\u001b[0m \u001b[0mresponse\u001b[0m\u001b[1;33m:\u001b[0m\u001b[1;33m\u001b[0m\u001b[1;33m\u001b[0m\u001b[0m\n\u001b[0;32m    236\u001b[0m                     response = query.request(self._session,\n",
      "\u001b[1;32m~\\AppData\\Local\\Continuum\\anaconda3\\lib\\site-packages\\astroquery\\query.py\u001b[0m in \u001b[0;36mfrom_cache\u001b[1;34m(self, cache_location)\u001b[0m\n\u001b[0;32m    100\u001b[0m         \u001b[0mrequest_file\u001b[0m \u001b[1;33m=\u001b[0m \u001b[0mself\u001b[0m\u001b[1;33m.\u001b[0m\u001b[0mrequest_file\u001b[0m\u001b[1;33m(\u001b[0m\u001b[0mcache_location\u001b[0m\u001b[1;33m)\u001b[0m\u001b[1;33m\u001b[0m\u001b[1;33m\u001b[0m\u001b[0m\n\u001b[0;32m    101\u001b[0m         \u001b[1;32mtry\u001b[0m\u001b[1;33m:\u001b[0m\u001b[1;33m\u001b[0m\u001b[1;33m\u001b[0m\u001b[0m\n\u001b[1;32m--> 102\u001b[1;33m             \u001b[1;32mwith\u001b[0m \u001b[0mopen\u001b[0m\u001b[1;33m(\u001b[0m\u001b[0mrequest_file\u001b[0m\u001b[1;33m,\u001b[0m \u001b[1;34m\"rb\"\u001b[0m\u001b[1;33m)\u001b[0m \u001b[1;32mas\u001b[0m \u001b[0mf\u001b[0m\u001b[1;33m:\u001b[0m\u001b[1;33m\u001b[0m\u001b[1;33m\u001b[0m\u001b[0m\n\u001b[0m\u001b[0;32m    103\u001b[0m                 \u001b[0mresponse\u001b[0m \u001b[1;33m=\u001b[0m \u001b[0mpickle\u001b[0m\u001b[1;33m.\u001b[0m\u001b[0mload\u001b[0m\u001b[1;33m(\u001b[0m\u001b[0mf\u001b[0m\u001b[1;33m)\u001b[0m\u001b[1;33m\u001b[0m\u001b[1;33m\u001b[0m\u001b[0m\n\u001b[0;32m    104\u001b[0m             \u001b[1;32mif\u001b[0m \u001b[1;32mnot\u001b[0m \u001b[0misinstance\u001b[0m\u001b[1;33m(\u001b[0m\u001b[0mresponse\u001b[0m\u001b[1;33m,\u001b[0m \u001b[0mrequests\u001b[0m\u001b[1;33m.\u001b[0m\u001b[0mResponse\u001b[0m\u001b[1;33m)\u001b[0m\u001b[1;33m:\u001b[0m\u001b[1;33m\u001b[0m\u001b[1;33m\u001b[0m\u001b[0m\n",
      "\u001b[1;31mKeyboardInterrupt\u001b[0m: "
     ]
    }
   ],
   "source": [
    "#1292 doesn't exist? we could probably get the same data in a different way, or try again later\n",
    "#1385 doesn't exist?\n",
    "#1410 doesn't exist\n",
    "#1412 wtf\n",
    "#1416\n",
    "#1423\n",
    "#1516 all zeros - 1530\n",
    "#1686 HTTP error???\n",
    "#4040\n",
    "#4459\n",
    "#4859\n",
    "#5151\n",
    "#5344\n",
    "#8628\n",
    "#9120\n",
    "#9169 is zoomed in a bit\n",
    "#9170\n",
    "#9307\n",
    "#9308\n",
    "#9319\n",
    "#9709\n",
    "#9739\n",
    "#7847 delete\n",
    "(processed_data_one) = pre_process_images(RA,DEC,pixel_number = 64,image_number = 10000, start=7975)"
   ]
  },
  {
   "cell_type": "code",
   "execution_count": null,
   "metadata": {},
   "outputs": [],
   "source": []
  }
 ],
 "metadata": {
  "kernelspec": {
   "display_name": "Python 3",
   "language": "python",
   "name": "python3"
  },
  "language_info": {
   "codemirror_mode": {
    "name": "ipython",
    "version": 3
   },
   "file_extension": ".py",
   "mimetype": "text/x-python",
   "name": "python",
   "nbconvert_exporter": "python",
   "pygments_lexer": "ipython3",
   "version": "3.7.3"
  }
 },
 "nbformat": 4,
 "nbformat_minor": 2
}
