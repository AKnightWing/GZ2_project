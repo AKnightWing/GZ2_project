{
 "cells": [
  {
   "cell_type": "code",
   "execution_count": 1,
   "metadata": {},
   "outputs": [],
   "source": [
    "import pandas as pd\n",
    "from astropy.io import fits\n",
    "import matplotlib.pyplot as plt\n",
    "import numpy as np\n",
    "import os\n",
    "import subprocess"
   ]
  },
  {
   "cell_type": "code",
   "execution_count": 2,
   "metadata": {},
   "outputs": [],
   "source": [
    "galaxyzoo = pd.read_csv(\"C:\\\\Users\\\\awe2\\DL_DES-master\\\\data\\\\sdss-galaxyzoo\\\\high_certainty\\\\sdss_metadata\\\\metadata-bat0008.csv\")\n",
    "#GZ2 classified gri colour composite images selected on the basis of magnitude (mr < 17), angular size (r90 > 3 arcsec), \n",
    "#and redshift (0.0005 <z< 0.25) criteria. Deeper images from Stripe 82"
   ]
  },
  {
   "cell_type": "code",
   "execution_count": 3,
   "metadata": {},
   "outputs": [],
   "source": [
    "def SDSS_objid_to_values(objid):\n",
    "    bin_objid = bin(objid)\n",
    "    bin_objid = bin_objid[2:len(bin_objid)]\n",
    "    bin_objid = bin_objid.zfill(64)\n",
    "\n",
    "    empty = int( '0b' + bin_objid[0], base=0)\n",
    "    skyVersion = int( '0b' + bin_objid[1:4+1], base=0)\n",
    "    rerun = int( '0b' + bin_objid[5:15+1], base=0)\n",
    "    run = int( '0b' + bin_objid[16:31+1], base=0)\n",
    "    camcol = int( '0b' + bin_objid[32:34+1], base=0)\n",
    "    firstField = int( '0b' + bin_objid[35+1], base=0)\n",
    "    field = int( '0b' + bin_objid[36:47+1], base=0)\n",
    "    object_num = int( '0b' + bin_objid[48:63+1], base=0)\n",
    "\n",
    "    #return skyVersion, rerun, run, camcol, field, object_num\n",
    "    return (str(run), str(camcol), str(field), str(rerun))"
   ]
  },
  {
   "cell_type": "code",
   "execution_count": 4,
   "metadata": {},
   "outputs": [],
   "source": [
    "objid = galaxyzoo['objid'].values\n",
    "ra = galaxyzoo['ra'].values\n",
    "dec = galaxyzoo['dec'].values"
   ]
  },
  {
   "cell_type": "code",
   "execution_count": 5,
   "metadata": {},
   "outputs": [],
   "source": [
    "out_dir = \"New_Kahn_fits//raw//\"\n",
    "for i in range(len(objid)):\n",
    "    #run, camcol, field, rerun = SDSS_objid_to_values(objid[i])\n",
    "    for filter_ in ['u','g','r','i','z'] :\n",
    "        run, camcol, field, rerun = SDSS_objid_to_values(objid[i])\n",
    "        req_url = ('http://das.sdss.org/cgi-bin/drC?RUN={}&RERUN={}&CAMCOL={}&FIELD={}&FILTER={}'.format(run,\n",
    "                                                                                                         rerun,\n",
    "                                                                                                         camcol,\n",
    "                                                                                                         field,\n",
    "                                                                                                         filter_))\n",
    "        out_path = os.path.join(out_dir,\n",
    "                'run{}-rerun{}-camrol{}-field{}-{}.fits'.format(run, rerun, camcol, field, filter_))\n",
    "        subprocess.run(['wget', req_url, '-O', out_path, '-q'])"
   ]
  },
  {
   "cell_type": "code",
   "execution_count": 6,
   "metadata": {},
   "outputs": [],
   "source": [
    "#two examples of 120x120 jpeg cutouts centered on galaxies...\n",
    "\n",
    "#http://skyserver.sdss.org/dr13/en/tools/chart/navi.aspx?ra=136.9616&dec=16.6383&scale=0.1&width=120&height=120&opt=\n",
    "\n",
    "#http://skyserver.sdss.org/dr13/en/tools/chart/navi.aspx?ra=136.9616&dec=16.6383&scale=0.2&width=120&height=120&opt=\n",
    "\n",
    "#generates jpegs of what we want, scale is (arcsec/px) /2. If we can find a table of petrosian radii we can use that to set \n",
    "#appropriate value, generate URL download links, and then hit it. essentially, according to SDSS website, 2 petroRAD is enough\n",
    "#to capture all flux from a galaxy and reduce background noise; we might use 3-5 * petroRad and then bin into appropriate px\n",
    "#sclaes off that. http://cas.sdss.org/dr7/en/help/docs/algorithm.asp?search=petrosian+magnitude&submit1=Search"
   ]
  }
 ],
 "metadata": {
  "kernelspec": {
   "display_name": "Python 3",
   "language": "python",
   "name": "python3"
  },
  "language_info": {
   "codemirror_mode": {
    "name": "ipython",
    "version": 3
   },
   "file_extension": ".py",
   "mimetype": "text/x-python",
   "name": "python",
   "nbconvert_exporter": "python",
   "pygments_lexer": "ipython3",
   "version": "3.7.3"
  }
 },
 "nbformat": 4,
 "nbformat_minor": 2
}
