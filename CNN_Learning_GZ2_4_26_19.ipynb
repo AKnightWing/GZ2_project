{
 "cells": [
  {
   "cell_type": "code",
   "execution_count": 2,
   "metadata": {},
   "outputs": [],
   "source": [
    "import numpy as np\n",
    "import matplotlib.pyplot as plt\n",
    "#from __future__ import absolute_import, division, print_function\n",
    "\n",
    "\n",
    "# TensorFlow and tf.keras\n",
    "\n",
    "import pandas as pd\n",
    "\n",
    "\n",
    "processed_data = np.load('Full_array.npy')\n",
    "Blue_processed_data = np.load('Blue_Full_array.npy')\n",
    "Red_processed_data = np.load(\"RED_Full_array.npy\")\n",
    "#The size of the dataset is 10,000; but I only filled the first 9166 with values, the rest are zeros. (shouldn't be counted)\n",
    "number = 9166\n",
    "processed_data = processed_data[0:number]\n",
    "\n",
    "#np.random.seed(1)\n"
   ]
  },
  {
   "cell_type": "code",
   "execution_count": 3,
   "metadata": {},
   "outputs": [],
   "source": [
    "from PIL import Image\n",
    "from cv2 import resize\n",
    "from sklearn.utils import shuffle"
   ]
  },
  {
   "cell_type": "code",
   "execution_count": 4,
   "metadata": {},
   "outputs": [],
   "source": [
    "import tensorflow as tf\n",
    "from tensorflow import keras"
   ]
  },
  {
   "cell_type": "code",
   "execution_count": 5,
   "metadata": {},
   "outputs": [],
   "source": [
    "#hyperparameters:\n",
    "test_train_split = 0.75\n",
    "batch_size = 64\n",
    "epoch_number = 100\n",
    "validation_split = 0.15\n",
    "learning_rate = 2e-6\n",
    "dropout_rate = 0.45\n",
    "CNL1_filters = 32\n",
    "CNL1_kernal_size = 5\n",
    "MPL1_pool_size= (2,2)\n",
    "MPL1_strides = 2\n",
    "CNL2_filters = 64\n",
    "CNL2_kernal_size = 5\n",
    "MPL2_pool_size = (2,2)\n",
    "MPL2_strides = 2"
   ]
  },
  {
   "cell_type": "code",
   "execution_count": 6,
   "metadata": {},
   "outputs": [],
   "source": [
    "#I have a non-round number of examples\n",
    "train_split_indice = int(np.round(test_train_split*number))"
   ]
  },
  {
   "cell_type": "code",
   "execution_count": 7,
   "metadata": {},
   "outputs": [],
   "source": [
    "#Load in my dataset of targets, targets are strings labels under the name \"Class\"\n",
    "galaxyzoo = pd.read_csv(\"zoo2MainSpecz.csv/zoo2MainSpecz.csv\", usecols=[2,3,4,8,15,21,27], nrows=number)\n",
    "#galaxyzoo = pd.read_csv(\"zoo2MainSpecz.csv/zoo2MainSpecz.csv\", nrows=number)\n",
    "Class = galaxyzoo[\"gz2class\"].values\n",
    "RA = galaxyzoo['ra'].values\n",
    "DEC = galaxyzoo['dec'].values\n",
    "#Spiral = galaxyzoo['t01_smooth_or_features_a02_features_or_disk_debiased'].values\n",
    "#Elliptical = galaxyzoo['t01_smooth_or_features_a01_smooth_debiased'].values\n",
    "#Anythingelse = galaxyzoo['t01_smooth_or_features_a03_star_or_artifact_debiased'].values"
   ]
  },
  {
   "cell_type": "code",
   "execution_count": 8,
   "metadata": {},
   "outputs": [],
   "source": [
    "#I want to take the first character of the Class string and interpret as a integer, ala MNIST example code\n",
    "dictionary = {'A':int(2),'E':int(1),'S':int(0)}"
   ]
  },
  {
   "cell_type": "code",
   "execution_count": 9,
   "metadata": {},
   "outputs": [],
   "source": [
    "#resave using my dictionary\n",
    "target = np.empty((len(Class)))\n",
    "for i in range(len(Class)):\n",
    "    target[i] = int(dictionary[Class[i][0]])"
   ]
  },
  {
   "cell_type": "code",
   "execution_count": 10,
   "metadata": {},
   "outputs": [],
   "source": [
    "#split my data between training and test sets\n",
    "train_target = target[0:train_split_indice]\n",
    "test_target = target[train_split_indice:number]\n",
    "train_images = processed_data[0:train_split_indice]\n",
    "test_images = processed_data[train_split_indice:number]\n",
    "Blue_train_images = Blue_processed_data[0:train_split_indice]\n",
    "Blue_test_images = Blue_processed_data[train_split_indice::]\n",
    "Red_train_images = Red_processed_data[0:train_split_indice]\n",
    "Red_test_images = Red_processed_data[train_split_indice::]"
   ]
  },
  {
   "cell_type": "code",
   "execution_count": 11,
   "metadata": {},
   "outputs": [],
   "source": [
    "#reform into the tensor shape\n",
    "train_images_number = np.shape(train_images)[0]\n",
    "test_images_number = np.shape(test_images)[0]\n",
    "train_images = train_images.reshape(train_images_number,28,28,1)\n",
    "test_images = test_images.reshape(test_images_number,28,28,1)\n",
    "Blue_train_images = Blue_train_images.reshape(train_images_number,28,28,1)\n",
    "Blue_test_images = Blue_test_images.reshape(test_images_number,28,28,1)\n",
    "Red_train_images = Red_train_images.reshape(train_images_number,28,28,1)\n",
    "Red_test_images = Red_test_images.reshape(test_images_number,28,28,1)"
   ]
  },
  {
   "cell_type": "code",
   "execution_count": 12,
   "metadata": {},
   "outputs": [],
   "source": [
    "#shuffle the order of the augmented images randomly, shuffle the order of the targets the same way.\n",
    "#train_images, train_target = shuffle(train_images, train_target, random_state=1)"
   ]
  },
  {
   "cell_type": "code",
   "execution_count": 13,
   "metadata": {},
   "outputs": [
    {
     "name": "stdout",
     "output_type": "stream",
     "text": [
      "(6874, 28, 28, 1)\n",
      "(2292, 28, 28, 3)\n",
      "(6874, 28, 28, 3)\n"
     ]
    }
   ],
   "source": [
    "#Seems I need to pad the arrays with zeros to get to 32x32, then copy the values of the first monochromatic channel into 3 channels\n",
    "#to use tranfer learning\n",
    "print(np.shape(train_images))\n",
    "\n",
    "train_images_middle_step = np.append(Red_train_images, train_images, 3)\n",
    "train_images = np.append(train_images_middle_step, Blue_train_images, 3)\n",
    "\n",
    "test_images_middle_step = np.append(Red_test_images,test_images, 3)\n",
    "test_images = np.append(test_images_middle_step,Blue_test_images, 3)\n",
    "\n",
    "print(np.shape(test_images))\n",
    "print(np.shape(train_images))\n",
    "\n",
    "#consider saving this array in the future instead of wasting time re-running"
   ]
  },
  {
   "cell_type": "code",
   "execution_count": 14,
   "metadata": {},
   "outputs": [],
   "source": [
    "#define my model, using a CNN with 2 Convolutional layers, 2 max pool layers, 1 dense layer, 1 drop out layer, and another dense layer \n",
    "def create_model(dropout_rate=dropout_rate, learning_rate=learning_rate):\n",
    "    \n",
    "    model = keras.Sequential([])\n",
    "    model.add(keras.layers.Conv2D(input_shape=(28,28,3),filters=CNL1_filters,kernel_size=CNL1_kernal_size,padding=\"same\",activation=tf.nn.relu))\n",
    "    model.add(keras.layers.MaxPool2D(pool_size=MPL1_pool_size, strides=MPL1_strides))\n",
    "    model.add(keras.layers.Conv2D(filters=CNL2_filters,kernel_size=CNL2_kernal_size,padding=\"same\",activation=tf.nn.relu))\n",
    "    model.add(keras.layers.MaxPool2D(pool_size=MPL2_pool_size,strides=MPL2_strides))\n",
    "    model.add(keras.layers.Reshape([7*7*64]))\n",
    "    model.add(keras.layers.Dense(units=1024,activation=tf.nn.relu))\n",
    "    model.add(keras.layers.Dropout(rate=dropout_rate))\n",
    "    model.add(keras.layers.Dense(units=3,activation=tf.nn.softmax))\n",
    "    adam = keras.optimizers.Adam(lr = learning_rate)\n",
    "    model.compile(optimizer=adam, loss='sparse_categorical_crossentropy',metrics=['accuracy'])\n",
    "    return(model)"
   ]
  },
  {
   "cell_type": "code",
   "execution_count": 15,
   "metadata": {},
   "outputs": [
    {
     "name": "stdout",
     "output_type": "stream",
     "text": [
      "Train on 5842 samples, validate on 1032 samples\n",
      "Epoch 1/100\n",
      "5842/5842 [==============================] - 28s 5ms/sample - loss: 1.0574 - accuracy: 0.4772 - val_loss: 0.7542 - val_accuracy: 0.6938\n",
      "Epoch 2/100\n",
      "5842/5842 [==============================] - 24s 4ms/sample - loss: 0.8468 - accuracy: 0.5810 - val_loss: 0.6876 - val_accuracy: 0.7180\n",
      "Epoch 3/100\n",
      "5842/5842 [==============================] - 24s 4ms/sample - loss: 0.7889 - accuracy: 0.6138 - val_loss: 0.6533 - val_accuracy: 0.7384\n",
      "Epoch 4/100\n",
      "5842/5842 [==============================] - 21s 4ms/sample - loss: 0.7495 - accuracy: 0.6409 - val_loss: 0.6326 - val_accuracy: 0.7384\n",
      "Epoch 5/100\n",
      "5842/5842 [==============================] - 20s 3ms/sample - loss: 0.7436 - accuracy: 0.6434 - val_loss: 0.6188 - val_accuracy: 0.7432\n",
      "Epoch 6/100\n",
      "5842/5842 [==============================] - 19s 3ms/sample - loss: 0.7194 - accuracy: 0.6489 - val_loss: 0.6101 - val_accuracy: 0.7413\n",
      "Epoch 7/100\n",
      "5842/5842 [==============================] - 20s 3ms/sample - loss: 0.7053 - accuracy: 0.6630 - val_loss: 0.6025 - val_accuracy: 0.7364\n",
      "Epoch 8/100\n",
      "5842/5842 [==============================] - 20s 3ms/sample - loss: 0.7018 - accuracy: 0.6698 - val_loss: 0.5969 - val_accuracy: 0.7471\n",
      "Epoch 9/100\n",
      "5842/5842 [==============================] - 20s 3ms/sample - loss: 0.6761 - accuracy: 0.6859 - val_loss: 0.5936 - val_accuracy: 0.7413\n",
      "Epoch 10/100\n",
      "5842/5842 [==============================] - 21s 4ms/sample - loss: 0.6826 - accuracy: 0.6756 - val_loss: 0.5882 - val_accuracy: 0.7364\n",
      "Epoch 11/100\n",
      "5842/5842 [==============================] - 22s 4ms/sample - loss: 0.6690 - accuracy: 0.6802 - val_loss: 0.5846 - val_accuracy: 0.7442\n",
      "Epoch 12/100\n",
      "5842/5842 [==============================] - 25s 4ms/sample - loss: 0.6604 - accuracy: 0.6926 - val_loss: 0.5816 - val_accuracy: 0.7481\n",
      "Epoch 13/100\n",
      "5842/5842 [==============================] - 24s 4ms/sample - loss: 0.6524 - accuracy: 0.6941 - val_loss: 0.5792 - val_accuracy: 0.7432\n",
      "Epoch 14/100\n",
      "5842/5842 [==============================] - 23s 4ms/sample - loss: 0.6507 - accuracy: 0.6936 - val_loss: 0.5763 - val_accuracy: 0.7452\n",
      "Epoch 15/100\n",
      "5842/5842 [==============================] - 23s 4ms/sample - loss: 0.6484 - accuracy: 0.7008 - val_loss: 0.5740 - val_accuracy: 0.7461\n",
      "Epoch 16/100\n",
      "5842/5842 [==============================] - 22s 4ms/sample - loss: 0.6368 - accuracy: 0.7016 - val_loss: 0.5714 - val_accuracy: 0.7461\n",
      "Epoch 17/100\n",
      "5842/5842 [==============================] - 21s 4ms/sample - loss: 0.6322 - accuracy: 0.7054 - val_loss: 0.5699 - val_accuracy: 0.7442\n",
      "Epoch 18/100\n",
      "5842/5842 [==============================] - 21s 4ms/sample - loss: 0.6307 - accuracy: 0.7025 - val_loss: 0.5688 - val_accuracy: 0.7471\n",
      "Epoch 19/100\n",
      "5842/5842 [==============================] - 21s 4ms/sample - loss: 0.6246 - accuracy: 0.7063 - val_loss: 0.5672 - val_accuracy: 0.7481\n",
      "Epoch 20/100\n",
      "5842/5842 [==============================] - 22s 4ms/sample - loss: 0.6160 - accuracy: 0.7133 - val_loss: 0.5660 - val_accuracy: 0.7490\n",
      "Epoch 21/100\n",
      "5842/5842 [==============================] - 20s 3ms/sample - loss: 0.6205 - accuracy: 0.7147 - val_loss: 0.5631 - val_accuracy: 0.7519\n",
      "Epoch 22/100\n",
      "5842/5842 [==============================] - 19s 3ms/sample - loss: 0.6126 - accuracy: 0.7147 - val_loss: 0.5617 - val_accuracy: 0.7568\n",
      "Epoch 23/100\n",
      "5842/5842 [==============================] - 19s 3ms/sample - loss: 0.6062 - accuracy: 0.7212 - val_loss: 0.5611 - val_accuracy: 0.7548\n",
      "Epoch 24/100\n",
      "5842/5842 [==============================] - 19s 3ms/sample - loss: 0.6035 - accuracy: 0.7230 - val_loss: 0.5596 - val_accuracy: 0.7597\n",
      "Epoch 25/100\n",
      "5842/5842 [==============================] - 20s 3ms/sample - loss: 0.6048 - accuracy: 0.7194 - val_loss: 0.5601 - val_accuracy: 0.7490\n",
      "Epoch 26/100\n",
      "5842/5842 [==============================] - 19s 3ms/sample - loss: 0.6018 - accuracy: 0.7227 - val_loss: 0.5580 - val_accuracy: 0.7578\n",
      "Epoch 27/100\n",
      "5842/5842 [==============================] - 19s 3ms/sample - loss: 0.5950 - accuracy: 0.7282 - val_loss: 0.5584 - val_accuracy: 0.7539\n",
      "Epoch 28/100\n",
      "5842/5842 [==============================] - 18s 3ms/sample - loss: 0.5870 - accuracy: 0.7313 - val_loss: 0.5558 - val_accuracy: 0.7578\n",
      "Epoch 29/100\n",
      "5842/5842 [==============================] - 20s 3ms/sample - loss: 0.5962 - accuracy: 0.7275 - val_loss: 0.5591 - val_accuracy: 0.7481\n",
      "Epoch 30/100\n",
      "5842/5842 [==============================] - 23s 4ms/sample - loss: 0.5858 - accuracy: 0.7258 - val_loss: 0.5546 - val_accuracy: 0.7548\n",
      "Epoch 31/100\n",
      "5842/5842 [==============================] - 22s 4ms/sample - loss: 0.5856 - accuracy: 0.7306 - val_loss: 0.5546 - val_accuracy: 0.7597\n",
      "Epoch 32/100\n",
      "5842/5842 [==============================] - 22s 4ms/sample - loss: 0.5735 - accuracy: 0.7451 - val_loss: 0.5540 - val_accuracy: 0.7568\n",
      "Epoch 33/100\n",
      "5842/5842 [==============================] - 23s 4ms/sample - loss: 0.5734 - accuracy: 0.7414 - val_loss: 0.5528 - val_accuracy: 0.7597\n",
      "Epoch 34/100\n",
      "5842/5842 [==============================] - 24s 4ms/sample - loss: 0.5763 - accuracy: 0.7390 - val_loss: 0.5529 - val_accuracy: 0.7539\n",
      "Epoch 35/100\n",
      "5842/5842 [==============================] - 20s 3ms/sample - loss: 0.5813 - accuracy: 0.7335 - val_loss: 0.5525 - val_accuracy: 0.7529\n",
      "Epoch 36/100\n",
      "5842/5842 [==============================] - 20s 3ms/sample - loss: 0.5737 - accuracy: 0.7395 - val_loss: 0.5503 - val_accuracy: 0.7558\n",
      "Epoch 37/100\n",
      "5842/5842 [==============================] - 19s 3ms/sample - loss: 0.5767 - accuracy: 0.7398 - val_loss: 0.5505 - val_accuracy: 0.7587\n",
      "Epoch 38/100\n",
      "5842/5842 [==============================] - 19s 3ms/sample - loss: 0.5700 - accuracy: 0.7415 - val_loss: 0.5523 - val_accuracy: 0.7490\n",
      "Epoch 39/100\n",
      "5842/5842 [==============================] - 19s 3ms/sample - loss: 0.5713 - accuracy: 0.7395 - val_loss: 0.5496 - val_accuracy: 0.7558\n",
      "Epoch 40/100\n",
      "5842/5842 [==============================] - 20s 3ms/sample - loss: 0.5746 - accuracy: 0.7412 - val_loss: 0.5489 - val_accuracy: 0.7578\n",
      "Epoch 41/100\n",
      "5842/5842 [==============================] - 19s 3ms/sample - loss: 0.5669 - accuracy: 0.7472 - val_loss: 0.5475 - val_accuracy: 0.7578\n",
      "Epoch 42/100\n",
      "5842/5842 [==============================] - 20s 3ms/sample - loss: 0.5619 - accuracy: 0.7508 - val_loss: 0.5475 - val_accuracy: 0.7597\n",
      "Epoch 43/100\n",
      "5842/5842 [==============================] - 19s 3ms/sample - loss: 0.5645 - accuracy: 0.7453 - val_loss: 0.5470 - val_accuracy: 0.7607\n",
      "Epoch 44/100\n",
      "5842/5842 [==============================] - 20s 3ms/sample - loss: 0.5610 - accuracy: 0.7503 - val_loss: 0.5478 - val_accuracy: 0.7519\n",
      "Epoch 45/100\n",
      "5842/5842 [==============================] - 19s 3ms/sample - loss: 0.5619 - accuracy: 0.7506 - val_loss: 0.5453 - val_accuracy: 0.7616\n",
      "Epoch 46/100\n",
      "5842/5842 [==============================] - 20s 3ms/sample - loss: 0.5661 - accuracy: 0.7487 - val_loss: 0.5478 - val_accuracy: 0.7490\n",
      "Epoch 47/100\n",
      "5842/5842 [==============================] - 21s 4ms/sample - loss: 0.5581 - accuracy: 0.7532 - val_loss: 0.5457 - val_accuracy: 0.7616\n",
      "Epoch 48/100\n",
      "5842/5842 [==============================] - 20s 3ms/sample - loss: 0.5568 - accuracy: 0.7482 - val_loss: 0.5440 - val_accuracy: 0.7626\n",
      "Epoch 49/100\n",
      "5842/5842 [==============================] - 19s 3ms/sample - loss: 0.5564 - accuracy: 0.7503 - val_loss: 0.5485 - val_accuracy: 0.7432\n",
      "Epoch 50/100\n",
      "5842/5842 [==============================] - 19s 3ms/sample - loss: 0.5441 - accuracy: 0.7568 - val_loss: 0.5433 - val_accuracy: 0.7616\n",
      "Epoch 51/100\n",
      "5842/5842 [==============================] - 19s 3ms/sample - loss: 0.5537 - accuracy: 0.7539 - val_loss: 0.5456 - val_accuracy: 0.7452\n",
      "Epoch 52/100\n",
      "5842/5842 [==============================] - 19s 3ms/sample - loss: 0.5542 - accuracy: 0.7547 - val_loss: 0.5435 - val_accuracy: 0.7529\n",
      "Epoch 53/100\n",
      "5842/5842 [==============================] - 19s 3ms/sample - loss: 0.5471 - accuracy: 0.7593 - val_loss: 0.5440 - val_accuracy: 0.7519\n",
      "Epoch 54/100\n",
      "5842/5842 [==============================] - 19s 3ms/sample - loss: 0.5469 - accuracy: 0.7588 - val_loss: 0.5465 - val_accuracy: 0.7510\n",
      "Epoch 55/100\n",
      "5842/5842 [==============================] - 19s 3ms/sample - loss: 0.5436 - accuracy: 0.7614 - val_loss: 0.5443 - val_accuracy: 0.7519\n"
     ]
    },
    {
     "name": "stdout",
     "output_type": "stream",
     "text": [
      "Epoch 56/100\n",
      "5842/5842 [==============================] - 19s 3ms/sample - loss: 0.5442 - accuracy: 0.7636 - val_loss: 0.5456 - val_accuracy: 0.7510\n",
      "Epoch 57/100\n",
      "5842/5842 [==============================] - 19s 3ms/sample - loss: 0.5405 - accuracy: 0.7617 - val_loss: 0.5462 - val_accuracy: 0.7510\n",
      "Epoch 58/100\n",
      "5842/5842 [==============================] - 19s 3ms/sample - loss: 0.5439 - accuracy: 0.7621 - val_loss: 0.5420 - val_accuracy: 0.7539\n",
      "Epoch 59/100\n",
      "5842/5842 [==============================] - 19s 3ms/sample - loss: 0.5421 - accuracy: 0.7667 - val_loss: 0.5428 - val_accuracy: 0.7510\n",
      "Epoch 60/100\n",
      "5842/5842 [==============================] - 19s 3ms/sample - loss: 0.5442 - accuracy: 0.7631 - val_loss: 0.5423 - val_accuracy: 0.7568\n",
      "Epoch 61/100\n",
      "5842/5842 [==============================] - 19s 3ms/sample - loss: 0.5365 - accuracy: 0.7662 - val_loss: 0.5408 - val_accuracy: 0.7558\n",
      "Epoch 62/100\n",
      "5842/5842 [==============================] - 19s 3ms/sample - loss: 0.5372 - accuracy: 0.7667 - val_loss: 0.5391 - val_accuracy: 0.7616\n",
      "Epoch 63/100\n",
      "5842/5842 [==============================] - 19s 3ms/sample - loss: 0.5353 - accuracy: 0.7698 - val_loss: 0.5442 - val_accuracy: 0.7519\n",
      "Epoch 64/100\n",
      "5842/5842 [==============================] - 19s 3ms/sample - loss: 0.5346 - accuracy: 0.7663 - val_loss: 0.5427 - val_accuracy: 0.7539\n",
      "Epoch 65/100\n",
      "5842/5842 [==============================] - 19s 3ms/sample - loss: 0.5357 - accuracy: 0.7689 - val_loss: 0.5389 - val_accuracy: 0.7587\n",
      "Epoch 66/100\n",
      "5842/5842 [==============================] - 19s 3ms/sample - loss: 0.5368 - accuracy: 0.7672 - val_loss: 0.5364 - val_accuracy: 0.7723\n",
      "Epoch 67/100\n",
      "5842/5842 [==============================] - 19s 3ms/sample - loss: 0.5352 - accuracy: 0.7653 - val_loss: 0.5425 - val_accuracy: 0.7519\n",
      "Epoch 68/100\n",
      "5842/5842 [==============================] - 19s 3ms/sample - loss: 0.5337 - accuracy: 0.7693 - val_loss: 0.5401 - val_accuracy: 0.7558\n",
      "Epoch 69/100\n",
      "5842/5842 [==============================] - 19s 3ms/sample - loss: 0.5314 - accuracy: 0.7735 - val_loss: 0.5404 - val_accuracy: 0.7539\n",
      "Epoch 70/100\n",
      "5842/5842 [==============================] - 19s 3ms/sample - loss: 0.5318 - accuracy: 0.7752 - val_loss: 0.5436 - val_accuracy: 0.7500\n",
      "Epoch 71/100\n",
      "5842/5842 [==============================] - 19s 3ms/sample - loss: 0.5280 - accuracy: 0.7703 - val_loss: 0.5395 - val_accuracy: 0.7558\n",
      "Epoch 72/100\n",
      "5842/5842 [==============================] - 19s 3ms/sample - loss: 0.5260 - accuracy: 0.7713 - val_loss: 0.5433 - val_accuracy: 0.7481\n",
      "Epoch 73/100\n",
      "5842/5842 [==============================] - 19s 3ms/sample - loss: 0.5264 - accuracy: 0.7732 - val_loss: 0.5404 - val_accuracy: 0.7519\n",
      "Epoch 74/100\n",
      "5842/5842 [==============================] - 20s 3ms/sample - loss: 0.5284 - accuracy: 0.7696 - val_loss: 0.5382 - val_accuracy: 0.7548\n",
      "Epoch 75/100\n",
      "5842/5842 [==============================] - 19s 3ms/sample - loss: 0.5240 - accuracy: 0.7708 - val_loss: 0.5373 - val_accuracy: 0.7597\n",
      "Epoch 76/100\n",
      "5842/5842 [==============================] - 25s 4ms/sample - loss: 0.5265 - accuracy: 0.7699 - val_loss: 0.5447 - val_accuracy: 0.7442\n",
      "Epoch 77/100\n",
      "5842/5842 [==============================] - 23s 4ms/sample - loss: 0.5271 - accuracy: 0.7691 - val_loss: 0.5384 - val_accuracy: 0.7539\n",
      "Epoch 78/100\n",
      "5842/5842 [==============================] - 23s 4ms/sample - loss: 0.5273 - accuracy: 0.7698 - val_loss: 0.5401 - val_accuracy: 0.7500\n",
      "Epoch 79/100\n",
      "5842/5842 [==============================] - 24s 4ms/sample - loss: 0.5254 - accuracy: 0.7761 - val_loss: 0.5375 - val_accuracy: 0.7578\n",
      "Epoch 80/100\n",
      "5842/5842 [==============================] - 26s 4ms/sample - loss: 0.5187 - accuracy: 0.7785 - val_loss: 0.5410 - val_accuracy: 0.7510\n",
      "Epoch 81/100\n",
      "5842/5842 [==============================] - 22s 4ms/sample - loss: 0.5188 - accuracy: 0.7766 - val_loss: 0.5345 - val_accuracy: 0.7597\n",
      "Epoch 82/100\n",
      "5842/5842 [==============================] - 23s 4ms/sample - loss: 0.5176 - accuracy: 0.7776 - val_loss: 0.5382 - val_accuracy: 0.7568\n",
      "Epoch 83/100\n",
      "5842/5842 [==============================] - 23s 4ms/sample - loss: 0.5191 - accuracy: 0.7795 - val_loss: 0.5376 - val_accuracy: 0.7558\n",
      "Epoch 84/100\n",
      "5842/5842 [==============================] - 21s 4ms/sample - loss: 0.5115 - accuracy: 0.7826 - val_loss: 0.5392 - val_accuracy: 0.7548\n",
      "Epoch 85/100\n",
      "5842/5842 [==============================] - 20s 3ms/sample - loss: 0.5190 - accuracy: 0.7795 - val_loss: 0.5419 - val_accuracy: 0.7490\n",
      "Epoch 86/100\n",
      "5842/5842 [==============================] - 21s 4ms/sample - loss: 0.5170 - accuracy: 0.7776 - val_loss: 0.5404 - val_accuracy: 0.7500\n",
      "Epoch 87/100\n",
      "5842/5842 [==============================] - 21s 4ms/sample - loss: 0.5132 - accuracy: 0.7787 - val_loss: 0.5392 - val_accuracy: 0.7568\n",
      "Epoch 88/100\n",
      "5842/5842 [==============================] - 21s 4ms/sample - loss: 0.5106 - accuracy: 0.7804 - val_loss: 0.5415 - val_accuracy: 0.7471\n",
      "Epoch 89/100\n",
      "5842/5842 [==============================] - 21s 4ms/sample - loss: 0.5132 - accuracy: 0.7871 - val_loss: 0.5401 - val_accuracy: 0.7452\n",
      "Epoch 90/100\n",
      "5842/5842 [==============================] - 21s 4ms/sample - loss: 0.5092 - accuracy: 0.7847 - val_loss: 0.5390 - val_accuracy: 0.7510\n",
      "Epoch 91/100\n",
      "5842/5842 [==============================] - 23s 4ms/sample - loss: 0.5162 - accuracy: 0.7795 - val_loss: 0.5359 - val_accuracy: 0.7597\n",
      "Epoch 92/100\n",
      "5842/5842 [==============================] - 26s 4ms/sample - loss: 0.5124 - accuracy: 0.7788 - val_loss: 0.5360 - val_accuracy: 0.7597\n",
      "Epoch 93/100\n",
      "5842/5842 [==============================] - 19s 3ms/sample - loss: 0.5106 - accuracy: 0.7814 - val_loss: 0.5351 - val_accuracy: 0.7597\n",
      "Epoch 94/100\n",
      "5842/5842 [==============================] - 19s 3ms/sample - loss: 0.5092 - accuracy: 0.7811 - val_loss: 0.5348 - val_accuracy: 0.7597\n",
      "Epoch 95/100\n",
      "5842/5842 [==============================] - 19s 3ms/sample - loss: 0.5059 - accuracy: 0.7859 - val_loss: 0.5388 - val_accuracy: 0.7452\n",
      "Epoch 96/100\n",
      "5842/5842 [==============================] - 19s 3ms/sample - loss: 0.5057 - accuracy: 0.7857 - val_loss: 0.5404 - val_accuracy: 0.7413\n",
      "Epoch 97/100\n",
      "5842/5842 [==============================] - 19s 3ms/sample - loss: 0.5062 - accuracy: 0.7843 - val_loss: 0.5338 - val_accuracy: 0.7597\n",
      "Epoch 98/100\n",
      "5842/5842 [==============================] - 19s 3ms/sample - loss: 0.5089 - accuracy: 0.7795 - val_loss: 0.5342 - val_accuracy: 0.7607\n",
      "Epoch 99/100\n",
      "5842/5842 [==============================] - 19s 3ms/sample - loss: 0.5097 - accuracy: 0.7840 - val_loss: 0.5397 - val_accuracy: 0.7452\n",
      "Epoch 100/100\n",
      "5842/5842 [==============================] - 19s 3ms/sample - loss: 0.5080 - accuracy: 0.7830 - val_loss: 0.5411 - val_accuracy: 0.7393\n"
     ]
    }
   ],
   "source": [
    "#lets try training one epoch at a time and seeing what epoch when we maximize our accuracy; I fear overtraining\n",
    "\n",
    "#OTHER than that, my next idea is to change the architecture.... eventually I will need to build a RESnet anyways\n",
    "model = create_model(dropout_rate=dropout_rate, learning_rate = learning_rate)\n",
    "history = model.fit(train_images, train_target, epochs=epoch_number,validation_split=validation_split, batch_size=batch_size, verbose=1, shuffle=True)"
   ]
  },
  {
   "cell_type": "code",
   "execution_count": 16,
   "metadata": {},
   "outputs": [
    {
     "name": "stdout",
     "output_type": "stream",
     "text": [
      "dict_keys(['loss', 'accuracy', 'val_loss', 'val_accuracy'])\n"
     ]
    }
   ],
   "source": [
    "print(history.history.keys())"
   ]
  },
  {
   "cell_type": "code",
   "execution_count": 20,
   "metadata": {},
   "outputs": [
    {
     "data": {
      "image/png": "[encoded data removed]",
      "text/plain": [
       "<Figure size 432x288 with 1 Axes>"
      ]
     },
     "metadata": {},
     "output_type": "display_data"
    },
    {
     "data": {
      "image/png": "[encoded data removed]",
      "text/plain": [
       "<Figure size 432x288 with 1 Axes>"
      ]
     },
     "metadata": {},
     "output_type": "display_data"
    }
   ],
   "source": [
    "# summarize history for accuracy\n",
    "plt.plot(history.history['accuracy'])\n",
    "plt.plot(history.history['val_accuracy'])\n",
    "plt.title('model accuracy')\n",
    "plt.ylabel('accuracy')\n",
    "plt.xlabel('epoch')\n",
    "plt.legend(['train', 'test'], loc='upper left')\n",
    "plt.savefig('CNN_Learning_GZ2_4_26_19_epoch40_acc.png')\n",
    "plt.show()\n",
    "# summarize history for loss\n",
    "plt.plot(history.history['loss'])\n",
    "plt.plot(history.history['val_loss'])\n",
    "plt.title('model loss')\n",
    "plt.ylabel('loss')\n",
    "plt.xlabel('epoch')\n",
    "plt.legend(['train', 'test'], loc='upper left')\n",
    "plt.savefig('CNN_Learning_GZ2_4_26_19_epoch40_loss.png')\n",
    "plt.show()"
   ]
  },
  {
   "cell_type": "code",
   "execution_count": 18,
   "metadata": {},
   "outputs": [
    {
     "name": "stdout",
     "output_type": "stream",
     "text": [
      "2292/2292 [==============================] - 2s 927us/sample - loss: 0.5477 - accuracy: 0.7557\n",
      "Test accuracy: 0.7556719\n",
      "Test loss: 0.5476913705962283\n"
     ]
    }
   ],
   "source": [
    "#model.summary()\n",
    "test_loss, test_acc = model.evaluate(test_images, test_target)\n",
    "print('Test accuracy:', test_acc)\n",
    "print('Test loss:', test_loss)\n",
    "\n",
    "#High variability in my loss metric resulted in random flutuations. However, my test set scores just as well as my validation\n",
    "#which is worrying. It either means I am over training on my first set, or my LR is too high. Lr not clear what was set to. \n",
    "#maybe 3e-5?\n",
    "\n",
    "#setting lr to 3e-9 to reduce volatility. not learning enough. hard to gauge volatility when nothing learned\n",
    "\n",
    "#setting lr 3e-7 to increase learning. volatility decresed significantly training wasnt saturated with only 50 epochs bringing \n",
    "#train learning to ~.70. validation was higher than train accuracy(????) and at ~.75?\n",
    "\n",
    "#increasing lr to 1e-6, otherwise may go back to 3e-7 and run more epochs. loss seemed to converge, but very weird that it was so\n",
    "#low.\n",
    "\n",
    "#lr= 1e-6 worked, but I am getting low accuracy... I am going to change dropout from 0.45 to 0.3, batch size from 32 to 16, and\n",
    "#lr to 1e-5. if that is volatile, I will consider moving back to lr=1e-6 and run more epochs. I am very sure that I am getting\n",
    "#stuck in a local minimum because before with the higher LR my train accuracy was at 0.9 after 50 epochs, now i'm only getting to\n",
    "#0.74 and seemingly converging...\n",
    "\n",
    "#okay something is wrong with lr=1e-5, dropout=0.25, batch_size=16 ... lets set that lr lower...\n",
    "\n",
    "# at 7e-6, the training score increased to an accuracy of 85, but the validation didnt increase past 0.75. I think I need to \n",
    "#lower the LR a bit more. trying 3e-6.\n",
    "\n",
    "#3e-6 did the same as 7e-6: loss quickly went to 0.54-55 and acuracy flutters around 0.7-.75... lowering lr to 1e-6\n",
    "\n",
    "#lowering to 1e-6 and training for 100 epochs, I seemed to have begun to overtrain around epoch 25. There seems to be more\n",
    "#potential for more epochs as well, my training set loss continues to linearly fall, its just that the validation doesn't follow\n",
    "#I will move to slightly increase dropout from 0.4 to 0.45, increase batch size from 16 to 64, and increase lr to 2e-6 to combat\n",
    "#overtraining. after I will consider running for a really giant amount of epochs, then move to transfer learning.\n",
    "\n",
    "#neat, it improved a little bit, definitely only began overtraining at epoch ~90 instead of ~25... however, accuracy is not \n",
    "#improving still. "
   ]
  },
  {
   "cell_type": "markdown",
   "metadata": {},
   "source": [
    "<b>Update (5/11/19)</b>Not sure what to make of this; I concluded that to push my accuracy higher I might need a better dataset, which is where I let off to try and query skyview for a better one."
   ]
  },
  {
   "cell_type": "markdown",
   "metadata": {},
   "source": [
    "<img src='CNN_Learning_GZ2_4_26_19_epoch40_acc.png'>\n",
    "\n",
    "<img src='CNN_Learning_GZ2_4_26_19_epoch40_loss.png'>"
   ]
  }
 ],
 "metadata": {
  "kernelspec": {
   "display_name": "Python 3",
   "language": "python",
   "name": "python3"
  },
  "language_info": {
   "codemirror_mode": {
    "name": "ipython",
    "version": 3
   },
   "file_extension": ".py",
   "mimetype": "text/x-python",
   "name": "python",
   "nbconvert_exporter": "python",
   "pygments_lexer": "ipython3",
   "version": "3.6.6"
  }
 },
 "nbformat": 4,
 "nbformat_minor": 2
}
