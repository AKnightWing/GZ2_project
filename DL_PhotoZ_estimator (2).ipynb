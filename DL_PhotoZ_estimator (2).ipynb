{
 "cells": [
  {
   "cell_type": "markdown",
   "metadata": {},
   "source": [
    "<h1>import and set up some definitions of classes</h1>"
   ]
  },
  {
   "cell_type": "markdown",
   "metadata": {},
   "source": [
    "<h1>This Model uses only the sixth channel as inputs; drastically different than anything else we have tried</h1>"
   ]
  },
  {
   "cell_type": "code",
   "execution_count": 241,
   "metadata": {},
   "outputs": [],
   "source": [
    "import numpy as np\n",
    "import pandas as pd\n",
    "import matplotlib.pyplot as plt\n",
    "import tensorflow as tf\n",
    "from tensorflow import keras\n",
    "import os\n",
    "import random\n",
    "from tensorflow.python.keras.utils.data_utils import Sequence\n",
    "from sklearn import metrics"
   ]
  },
  {
   "cell_type": "code",
   "execution_count": 242,
   "metadata": {},
   "outputs": [],
   "source": [
    "#input variables\n",
    "\n",
    "#model variables\n",
    "batch_size = 256 #32\n",
    "epoch_number = 5 #when ready to test, set to 25\n",
    "learning_rate = 1e-4\n",
    "n_classes = 1\n",
    "\n",
    "random.seed(1)\n",
    "\n",
    "params_train = {'dim': (120,),\n",
    "          'batch_size': batch_size,\n",
    "          'n_classes': n_classes,\n",
    "          'n_channels': 1,\n",
    "          'shuffle': True}\n",
    "\n",
    "params_test = {'dim': (120,),\n",
    "          'batch_size': batch_size,\n",
    "          'n_classes': n_classes,\n",
    "          'n_channels': 1,\n",
    "          'shuffle': False}"
   ]
  },
  {
   "cell_type": "code",
   "execution_count": 243,
   "metadata": {},
   "outputs": [],
   "source": [
    "#https://stanford.edu/~shervine/blog/keras-how-to-generate-data-on-the-fly\n",
    "class DataGenerator(Sequence):\n",
    "\n",
    "    def __init__(self, list_IDs, labels, batch_size=32, dim=(120,120), n_channels=3,\n",
    "                 n_classes=2, shuffle=True):\n",
    "     #   'Initialization'\n",
    "        self.dim = dim\n",
    "        self.batch_size = batch_size\n",
    "        self.labels = labels\n",
    "        self.list_IDs = list_IDs\n",
    "        self.n_channels = n_channels\n",
    "        self.n_classes = n_classes\n",
    "        self.shuffle = shuffle\n",
    "        self.on_epoch_end()\n",
    "\n",
    "    def on_epoch_end(self):\n",
    "    #'Updates indexes after each epoch'\n",
    "        self.indexes = np.arange(len(self.list_IDs))\n",
    "        if self.shuffle == True:\n",
    "            np.random.shuffle(self.indexes)\n",
    "\n",
    "    def __data_generation(self, list_IDs_temp):\n",
    "    #'Generates data containing batch_size samples' # X : (n_samples, *dim, n_channels)\n",
    "    # Initialization\n",
    "        X_return = np.empty((self.batch_size, 13))\n",
    "        y = np.empty((self.batch_size), dtype=int)\n",
    "    \n",
    "\n",
    "      # Generate data and perform augmentation\n",
    "        for i, ID in enumerate(list_IDs_temp):\n",
    "            \n",
    "\n",
    "            #Load Magnitude array and place in 6th channel\n",
    "            string = ID.split('_') #list looks like ['HP','00000']\n",
    "            #print(string)\n",
    "            string = string[0] +'_'+ string[1] + '_sixth' +'.npy'\n",
    "            if ID[:2] == 'HP':\n",
    "                X = np.load('..\\\\DATA\\\\HP_sixth\\\\'+string)[0,:]\n",
    "            if ID[:2] == 'LP':\n",
    "                X = np.load('..\\\\DATA\\\\LP_sixth\\\\'+string)[0,:]\n",
    "            if ID[:2] == 'MP':\n",
    "                X = np.load('..\\\\DATA\\\\MP_sixth\\\\'+string)[0,:]\n",
    "            \n",
    "            #get information:\n",
    "            mu = [X[0]] #dereddened magnitudes\n",
    "            mg = [X[6]]\n",
    "            mr = [X[12]]\n",
    "            mi = [X[18]]\n",
    "            mz = [X[24]]\n",
    "\n",
    "            #pu = [X[i,30]] #petro_r in each band\n",
    "            #pg = [X[i,36]]\n",
    "            #pr = [X[i,42]]\n",
    "            #pi = [X[i,48]]\n",
    "            #pz = [X[i,54]]\n",
    "\n",
    "            cu = [X[60]] #colors, dereddened, and each like u-g, g-r ... z\n",
    "            cg = [X[66]]\n",
    "            cr = [X[72]]\n",
    "            ci = [X[78]]\n",
    "            cz = [X[84]]\n",
    "\n",
    "            pr_20 = [X[90]] #angular size \n",
    "            pr_50 = [X[102]]\n",
    "            pr_90 = [X[114]]\n",
    "\n",
    "\n",
    "            X_return[i,:] = np.array((mu+mg+mr+mi+mz+cu+cg+cr+ci+cz+pr_20+pr_50+pr_90))\n",
    "            \n",
    "            # Store class\n",
    "            y[i] = self.labels[ID]\n",
    "            #determine which class it should be...\n",
    "            y[i] = int(round((y[i] / 0.4)*(self.n_classes-1),0))\n",
    "            if y[i] > self.n_classes - 1: #if above 0.4, essentially a far outlier: set to our highest redshift bin.\n",
    "                y[i] = self.n_classes - 1\n",
    "    \n",
    "        if self.n_classes > 2:\n",
    "            return X_return, keras.utils.to_categorical(y, num_classes=self.n_classes)\n",
    "        else:\n",
    "            return X_return, y\n",
    "\n",
    "    def __len__(self):\n",
    "    #'Denotes the number of batches per epoch'\n",
    "        return int(np.floor(len(self.list_IDs) / self.batch_size))\n",
    "\n",
    "    def __getitem__(self, index):\n",
    "    #  'Generate one batch of data'\n",
    "      # Generate indexes of the batch\n",
    "        indexes = self.indexes[index*self.batch_size:(index+1)*self.batch_size]\n",
    "\n",
    "      # Find list of IDs\n",
    "        list_IDs_temp = [self.list_IDs[k] for k in indexes]\n",
    "\n",
    "      # Generate data\n",
    "        X, y = self.__data_generation(list_IDs_temp)\n",
    "\n",
    "        return X, y"
   ]
  },
  {
   "cell_type": "markdown",
   "metadata": {},
   "source": [
    "<h1>Set up structure of training data</h1>"
   ]
  },
  {
   "cell_type": "code",
   "execution_count": 244,
   "metadata": {},
   "outputs": [],
   "source": [
    "#targets are generated in a technical notebook, load them in here.\n",
    "with open(\"..\\\\misc\\\\Z_Spectro.txt\",\"r\") as inf:\n",
    "    targets = eval(inf.read()) #is a dictionary that looks like: {alias:Spectro_Z}\n"
   ]
  },
  {
   "cell_type": "code",
   "execution_count": 245,
   "metadata": {},
   "outputs": [],
   "source": [
    "\n",
    "data_list = os.listdir(\"..\\\\DATA\\\\HP_inputs\")\n",
    "random.shuffle(data_list)\n",
    "\n",
    "for i,file in enumerate(data_list):\n",
    "    data_list[i] = file.split('.')[0]\n",
    "\n",
    "LP_data_list = os.listdir(\"..\\\\DATA\\\\LP_inputs\")\n",
    "random.shuffle(LP_data_list)\n",
    "\n",
    "for i,file in enumerate(LP_data_list):\n",
    "    LP_data_list[i] = file.split('.')[0]\n",
    "    \n",
    "MP_data_list = os.listdir(\"..\\\\DATA\\\\MP_inputs\")\n",
    "random.shuffle(MP_data_list)\n",
    "\n",
    "for i,file in enumerate(MP_data_list):\n",
    "    MP_data_list[i] = file.split('.')[0]\n",
    "\n",
    "data_list = data_list + LP_data_list + MP_data_list"
   ]
  },
  {
   "cell_type": "code",
   "execution_count": 246,
   "metadata": {},
   "outputs": [],
   "source": [
    "\"\"\"\n",
    "last= -1.0 #accept first value\n",
    "limit = 0.055\n",
    "list_for_this = []\n",
    "list_to_save = []\n",
    "for i,file in enumerate(data_list):\n",
    "    if ((last-limit) < targets[file] < (last+limit)) == False :\n",
    "        list_for_this.append(targets[file])\n",
    "        list_to_save.append(file)\n",
    "    last = targets[file]\n",
    "\n",
    "array_binned = np.round((np.array(list_for_this)/0.9)*100)\n",
    "print(np.size(array_binned))\n",
    "\n",
    "bins = np.linspace(0,100,100)\n",
    "plt.hist(array_binned,bins)\n",
    "plt.show()\n",
    "#draw 200 from 0, 3000 from 1-25, 200 from 25 to 0.35, 25 from 0.35 to end. gives me ~ 77,000 training examples (enough??)\n",
    "np.save('..\\\\misc\\\\train_data_uniform_in_Z.npy',np.array(list_to_save))\n",
    "\"\"\"\n",
    "train_list = np.load('..\\\\misc\\\\train_data_uniform_in_Z.npy').tolist()"
   ]
  },
  {
   "cell_type": "code",
   "execution_count": 247,
   "metadata": {},
   "outputs": [],
   "source": [
    "\"\"\"\n",
    "for i in range(len(training_list)): #now get rid of the training data in our data_list\n",
    "    data_list.remove(training_list[i])\n",
    "\n",
    "print(len(data_list))\n",
    "\n",
    "#that took a while:\n",
    "np.save('..\\\\misc\\\\val_and_test_data_uniform_in_Z.npy',data_list)\n",
    "\"\"\"\n",
    "data_list = np.load('..\\\\misc\\\\val_and_test_data_uniform_in_Z.npy').tolist()"
   ]
  },
  {
   "cell_type": "code",
   "execution_count": 248,
   "metadata": {},
   "outputs": [],
   "source": [
    "random.seed(1)\n",
    "random.shuffle(data_list)\n",
    "index_one = int(len(data_list)/3)\n",
    "val_list = data_list[0:index_one]\n",
    "test_list = data_list[index_one::]"
   ]
  },
  {
   "cell_type": "code",
   "execution_count": 249,
   "metadata": {},
   "outputs": [],
   "source": [
    "partition = {'train':train_list,'validation':val_list,'test':test_list}"
   ]
  },
  {
   "cell_type": "code",
   "execution_count": 250,
   "metadata": {},
   "outputs": [
    {
     "name": "stdout",
     "output_type": "stream",
     "text": [
      "231\n",
      "72\n",
      "144\n"
     ]
    }
   ],
   "source": [
    "#how many steps are in an epoch?\n",
    "steps_to_take = int(len(train_list)/batch_size)\n",
    "val_steps_to_take = int(len(val_list)/batch_size)\n",
    "test_steps_to_take = int(len(test_list)/batch_size)\n",
    "\n",
    "                #typically be equal to the number of unique samples if your dataset\n",
    "                #divided by the batch size.\n",
    "\n",
    "print(steps_to_take)\n",
    "print(val_steps_to_take)\n",
    "print(test_steps_to_take)"
   ]
  },
  {
   "cell_type": "code",
   "execution_count": 251,
   "metadata": {},
   "outputs": [],
   "source": [
    "training_generator = DataGenerator(partition['train'], targets, **params_train) #we want to shuffle these inputs\n",
    "validation_generator = DataGenerator(partition['validation'], targets, **params_test) #but not the val or test; need order for\n",
    "test_generator = DataGenerator(partition['test'], targets, **params_test)#analysis; shouldn't matter 'cause not training on them"
   ]
  },
  {
   "cell_type": "markdown",
   "metadata": {},
   "source": [
    "<h1>Model set-up, callbacks</h1>"
   ]
  },
  {
   "cell_type": "code",
   "execution_count": 252,
   "metadata": {},
   "outputs": [],
   "source": [
    "#so this is pretty neat, you can create a keras callback to display on tensorboard using a simplified summary tf api\n",
    "\n",
    "#and also this is an example of how to change the lr on the fly, which is pretty handy\n",
    "#https://keras.io/callbacks/\n",
    "\n",
    "\n",
    "def lr_schedule(epoch,lr):\n",
    "\n",
    "#Returns a custom learning rate that decreases as epochs progress.\n",
    "    if epoch > 1:\n",
    "        lr = 1e-5\n",
    "    if epoch > 2:\n",
    "        lr = 1e-6\n",
    "    if epoch > 3:\n",
    "        lr = 5e-7\n",
    "    if epoch > 4:\n",
    "        lr = 1e-7\n",
    "\n",
    "    tf.summary.scalar('learning_rate', tensor=lr)\n",
    "    return lr\n",
    "\n",
    "lr_callback = keras.callbacks.LearningRateScheduler(lr_schedule)\n",
    "\n",
    "#logdir=\"summaries/scalars/\" + str(datetime.datetime.now().timestamp())\n",
    "#tensorboard_callback = keras.callbacks.TensorBoard(log_dir=logdir,\n",
    "#                                                   histogram_freq=1,\n",
    "#                                                   write_graph=False,\n",
    "#                                                   write_grads=True,)\n",
    "#                                                   #write_images=True)\n",
    "#will it still print stuff\n",
    "\n",
    "#reduce_lr = tf.keras.callbacks.ReduceLROnPlateau(monitor='val_loss', factor=0.2, verbose=1,\n",
    "#                             patience=2, min_lr=1e-8)"
   ]
  },
  {
   "cell_type": "code",
   "execution_count": 253,
   "metadata": {},
   "outputs": [
    {
     "data": {
      "text/plain": [
       "\"\\ndef create_model(learning_rate=learning_rate):\\n    \\n    model = keras.Sequential([])\\n    model.add(keras.layers.Dense(input_shape=(13,),units=13,activation=keras.activations.linear))\\n    #model.add(keras.layers.Dropout(rate=0.25))\\n    #model.add(keras.layers.Dense(units=6,activation=keras.activations.linear))\\n    model.add(keras.layers.Dropout(rate=0.25))\\n    #model.add(keras.layers.Dense(units=6,activation=keras.activations.linear))\\n    #model.add(keras.layers.Dropout(rate=0.25))\\n    #model.add(keras.layers.Dense(units=6,activation=keras.activations.linear)) #tf.nn.relu\\n    #model.add(keras.layers.Dropout(rate=0.25))\\n    model.add(keras.layers.Dense(units=params_train['n_classes'],activation=keras.activations.linear))\\n    #RMS = keras.optimizers.RMSprop(learning_rate=learning_rate)\\n    adam = keras.optimizers.Adam(lr=learning_rate, clipnorm=0.1)\\n    model.compile(optimizer=adam, loss=keras.losses.logcosh) \\n    return(model)\\n\""
      ]
     },
     "execution_count": 253,
     "metadata": {},
     "output_type": "execute_result"
    }
   ],
   "source": [
    "\"\"\"\n",
    "def create_model(learning_rate=learning_rate):\n",
    "    \n",
    "    model = keras.Sequential([])\n",
    "    model.add(keras.layers.Dense(input_shape=(13,),units=13,activation=keras.activations.linear))\n",
    "    #model.add(keras.layers.Dropout(rate=0.25))\n",
    "    #model.add(keras.layers.Dense(units=6,activation=keras.activations.linear))\n",
    "    model.add(keras.layers.Dropout(rate=0.25))\n",
    "    #model.add(keras.layers.Dense(units=6,activation=keras.activations.linear))\n",
    "    #model.add(keras.layers.Dropout(rate=0.25))\n",
    "    #model.add(keras.layers.Dense(units=6,activation=keras.activations.linear)) #tf.nn.relu\n",
    "    #model.add(keras.layers.Dropout(rate=0.25))\n",
    "    model.add(keras.layers.Dense(units=params_train['n_classes'],activation=keras.activations.linear))\n",
    "    #RMS = keras.optimizers.RMSprop(learning_rate=learning_rate)\n",
    "    adam = keras.optimizers.Adam(lr=learning_rate, clipnorm=0.1)\n",
    "    model.compile(optimizer=adam, loss=keras.losses.logcosh) \n",
    "    return(model)\n",
    "\"\"\""
   ]
  },
  {
   "cell_type": "code",
   "execution_count": 254,
   "metadata": {},
   "outputs": [],
   "source": [
    "\n",
    "def create_model(learning_rate=learning_rate):\n",
    "    \n",
    "    model = keras.Sequential([])\n",
    "    model.add(keras.layers.Dense(input_shape=(13,),units=13,activation=keras.activations.linear))\n",
    "    model.add(keras.layers.Dropout(rate=0.15))\n",
    "    model.add(keras.layers.Dense(units=6,activation=keras.activations.linear))\n",
    "    model.add(keras.layers.Dropout(rate=0.15))\n",
    "    model.add(keras.layers.Dense(units=6,activation=keras.activations.linear))\n",
    "    model.add(keras.layers.Dropout(rate=0.15))\n",
    "    model.add(keras.layers.Dense(units=6,activation=keras.activations.linear)) #tf.nn.relu\n",
    "    model.add(keras.layers.Dropout(rate=0.15))\n",
    "    model.add(keras.layers.Dense(units=params_train['n_classes'],activation=keras.activations.linear))\n",
    "    \n",
    "    #RMS = keras.optimizers.RMSprop(learning_rate=learning_rate)\n",
    "    adam = keras.optimizers.Adam(lr=learning_rate)\n",
    "    model.compile(optimizer=adam, loss=keras.losses.mse) \n",
    "    return(model)\n"
   ]
  },
  {
   "cell_type": "code",
   "execution_count": 255,
   "metadata": {},
   "outputs": [],
   "source": [
    "filepath = \"..\\\\saved_models\\\\DNN_MLP_10_11_19.hdf5\"\n",
    "#ModelCheckpointCB = keras.callbacks.ModelCheckpoint(filepath, monitor='val_loss', verbose=1, save_best_only=True, save_weights_only=False, mode='auto', save_freq='epoch')\n",
    "ModelCheckpointCB = keras.callbacks.ModelCheckpoint(filepath, monitor='val_loss', verbose=1, save_best_only=True, save_weights_only=False, mode='auto')"
   ]
  },
  {
   "cell_type": "code",
   "execution_count": 256,
   "metadata": {},
   "outputs": [],
   "source": [
    "keras.backend.clear_session()\n",
    "model = create_model(learning_rate = learning_rate)"
   ]
  },
  {
   "cell_type": "markdown",
   "metadata": {},
   "source": [
    "<h1>Train Model</h1>"
   ]
  },
  {
   "cell_type": "code",
   "execution_count": 257,
   "metadata": {},
   "outputs": [
    {
     "name": "stdout",
     "output_type": "stream",
     "text": [
      "Epoch 1/5\n",
      "72/72 [==============================] - 381s 5s/step - loss: 6.6005\n",
      "\n",
      "Epoch 00001: val_loss improved from inf to 6.60051, saving model to ..\\saved_models\\DNN_MLP_10_11_19.hdf5\n",
      "231/231 [==============================] - 1236s 5s/step - loss: 100.3918 - val_loss: 6.6005\n",
      "Epoch 2/5\n",
      "72/72 [==============================] - 375s 5s/step - loss: 1.3537\n",
      "\n",
      "Epoch 00002: val_loss improved from 6.60051 to 1.35371, saving model to ..\\saved_models\\DNN_MLP_10_11_19.hdf5\n",
      "231/231 [==============================] - 1453s 6s/step - loss: 40.4469 - val_loss: 1.3537\n",
      "Epoch 3/5\n",
      "72/72 [==============================] - 376s 5s/step - loss: 1.1828\n",
      "\n",
      "Epoch 00003: val_loss improved from 1.35371 to 1.18275, saving model to ..\\saved_models\\DNN_MLP_10_11_19.hdf5\n",
      "231/231 [==============================] - 1433s 6s/step - loss: 30.3903 - val_loss: 1.1828\n",
      "Epoch 4/5\n",
      "72/72 [==============================] - 467s 6s/step - loss: 1.1637\n",
      "\n",
      "Epoch 00004: val_loss improved from 1.18275 to 1.16370, saving model to ..\\saved_models\\DNN_MLP_10_11_19.hdf5\n",
      "231/231 [==============================] - 1502s 7s/step - loss: 29.4457 - val_loss: 1.1637\n",
      "Epoch 5/5\n",
      "72/72 [==============================] - 373s 5s/step - loss: 1.1529\n",
      "\n",
      "Epoch 00005: val_loss improved from 1.16370 to 1.15290, saving model to ..\\saved_models\\DNN_MLP_10_11_19.hdf5\n",
      "231/231 [==============================] - 1516s 7s/step - loss: 29.0092 - val_loss: 1.1529\n"
     ]
    }
   ],
   "source": [
    "hist = model.fit_generator(generator=training_generator,\n",
    "                    steps_per_epoch=steps_to_take, \n",
    "                    epochs=epoch_number,\n",
    "                    validation_data=validation_generator,\n",
    "                    validation_steps=val_steps_to_take,\n",
    "                    initial_epoch=0,\n",
    "                    verbose=1,\n",
    "                    callbacks=[ModelCheckpointCB,lr_callback])"
   ]
  },
  {
   "cell_type": "code",
   "execution_count": null,
   "metadata": {},
   "outputs": [],
   "source": [
    "#training data from the model ...10_10_19...\n",
    "\"\"\"\n",
    "\n",
    "Epoch 1/5\n",
    "923/924 [============================>.] - ETA: 3s - loss: 13.0287\n",
    "Epoch 00001: val_loss improved from inf to 0.01048, saving model to ..\\saved_models\\spectro_DNN_10_10_19.hdf5\n",
    "924/924 [==============================] - 3647s 4s/step - loss: 13.0147 - val_loss: 0.0105\n",
    "Epoch 2/5\n",
    "923/924 [============================>.] - ETA: 2s - loss: 0.0105\n",
    "Epoch 00002: val_loss improved from 0.01048 to 0.00002, saving model to ..\\saved_models\\spectro_DNN_10_10_19.hdf5\n",
    "924/924 [==============================] - 2714s 3s/step - loss: 0.0104 - val_loss: 1.7160e-05\n",
    "Epoch 3/5\n",
    "923/924 [============================>.] - ETA: 33s - loss: 0.0053 \n",
    "Epoch 00003: val_loss improved from 0.00002 to 0.00000, saving model to ..\\saved_models\\spectro_DNN_10_10_19.hdf5\n",
    "924/924 [==============================] - 31743s 34s/step - loss: 0.0053 - val_loss: 1.5744e-06\n",
    "Epoch 4/5\n",
    "923/924 [============================>.] - ETA: 2s - loss: 0.0040\n",
    "Epoch 00004: val_loss did not improve from 0.00000\n",
    "924/924 [==============================] - 2485s 3s/step - loss: 0.0040 - val_loss: 3.3565e-06\n",
    "Epoch 5/5\n",
    "923/924 [============================>.] - ETA: 3s - loss: 0.0038\n",
    "Epoch 00005: val_loss did not improve from 0.00000\n",
    "924/924 [==============================] - 4427s 5s/step - loss: 0.0038 - val_loss: 2.6210e-06\n",
    "\"\"\""
   ]
  },
  {
   "cell_type": "markdown",
   "metadata": {},
   "source": [
    "source list\n",
    "\n",
    "Morphology:\n",
    "https://arxiv.org/pdf/1711.05744.pdf\n",
    "\n",
    "https://arxiv.org/pdf/1807.00807.pdf\n",
    "\n",
    "https://arxiv.org/pdf/1812.02183.pdf\n",
    "\n",
    "\n",
    "Coding sources:\n",
    "https://github.com/jameslawlor/kaggle_galaxy_zoo/blob/master/galaxy_zoo_keras.ipynb\n",
    "\n",
    "https://github.com/khanx169/DL_DES\n",
    "\n",
    "https://stanford.edu/~shervine/blog/keras-how-to-generate-data-on-the-fly\n",
    "\n",
    "https://stackoverflow.com/questions/37119071/scipy-rotate-and-zoom-an-image-without-changing-its-dimensions/48097478\n",
    "\n",
    "\n",
    "this is where to download galaxies using SQL:\n",
    "http://skyserver.sdss.org/dr7/en/tools/search/sql.asp\n"
   ]
  },
  {
   "cell_type": "markdown",
   "metadata": {},
   "source": [
    "ideas:\n",
    "\n",
    "implement the fair splitting function from scipy Gautham told you about\n",
    "\n",
    "Get better hardware to increase batchsize to something reasonable\n",
    "\n",
    "Get the morphological classifications into another directory, load them in the augmentation, becasuse we want to compare/make updates to the morphology section. because the R_90 takes up 12 spaces usually, last 6 can just be changed to the loaded in values easy. We want to use this to see if our morphological input helps at all, escpexially for low level regressors like this one"
   ]
  },
  {
   "cell_type": "markdown",
   "metadata": {},
   "source": [
    "<h1>Analysis</h1>"
   ]
  },
  {
   "cell_type": "code",
   "execution_count": 258,
   "metadata": {},
   "outputs": [
    {
     "name": "stdout",
     "output_type": "stream",
     "text": [
      "72/72 [==============================] - 7s 93ms/step\n"
     ]
    }
   ],
   "source": [
    "model.load_weights(filepath)\n",
    "\n",
    "#model.evaluate_generator(generator=validation_generator,\n",
    "#                        steps=val_steps_to_take,\n",
    "#                        verbose=1)\n",
    "\n",
    "Val_pred = model.predict_generator(generator=validation_generator,\n",
    "    steps=val_steps_to_take,\n",
    "    verbose=1)\n"
   ]
  },
  {
   "cell_type": "code",
   "execution_count": 259,
   "metadata": {},
   "outputs": [
    {
     "data": {
      "text/plain": [
       "(18432, 1)"
      ]
     },
     "execution_count": 259,
     "metadata": {},
     "output_type": "execute_result"
    }
   ],
   "source": [
    "np.shape(Val_pred)"
   ]
  },
  {
   "cell_type": "code",
   "execution_count": null,
   "metadata": {},
   "outputs": [],
   "source": [
    "print(np.amax(Val_pred))\n",
    "print(np.argmax(Val_pred))\n",
    "print(np.argmin(Val_pred))\n",
    "len(Val_pred[0])"
   ]
  },
  {
   "cell_type": "code",
   "execution_count": 262,
   "metadata": {},
   "outputs": [
    {
     "name": "stdout",
     "output_type": "stream",
     "text": [
      "prediction bias (<z>) = -6.32151629983858\n",
      "Median absolute deviation (MAD) =  2.160406368704404\n",
      "outlier fraction (eta) = 0.04318576388888889\n"
     ]
    },
    {
     "data": {
      "image/png": "[encoded data removed]",
      "text/plain": [
       "<Figure size 432x288 with 1 Axes>"
      ]
     },
     "metadata": {
      "needs_background": "light"
     },
     "output_type": "display_data"
    }
   ],
   "source": [
    "#import Spectro Redshift Labels\n",
    "#actually, these are our targets and are already imported under the variable name 'targets'\n",
    "\n",
    "X  = []\n",
    "Y = Val_pred[:,0]\n",
    "\"\"\" #only neccessary when we have multiple classes\n",
    "for i in range(len(Val_pred)):\n",
    "    Y[i] = np.where(Val_pred[i] == np.amax(Val_pred[i,1::]))[0] #first find where the maximum element is\n",
    "Y = Y*0.9/(n_classes -1) #next scale the results between 0 < 0.9\n",
    "\"\"\"\n",
    "\n",
    "if validation_generator.n_classes > 2:\n",
    "    new_Y = np.empty((len(validation_generator.list_IDs)))\n",
    "    for i in range(validation_generator.n_classes):\n",
    "        new_Y[i] = np.argmax(Y[i,:])\n",
    "    Y = (new_Y/validation_generator.n_classes)*0.4\n",
    "for label in validation_generator.list_IDs:\n",
    "    X.append(targets[label])\n",
    "    \n",
    "Y = np.array(Y)\n",
    "X = np.array(X)\n",
    "\n",
    "plt.plot(X[0:len(Y)],Y,'.',alpha=0.25)\n",
    "plt.plot([0,1],[0,1],'k--')\n",
    "plt.xlabel('Spectro Z')\n",
    "plt.ylabel('Model Output PhotoZ')\n",
    "plt.title('Validation Set Results')\n",
    "\n",
    "#according to cohen et al 2000, we can evaluate our model using some better understood statistics invarient under N\n",
    "residuals = ((X[0:len(Y)] - Y)/ (1 + Y))\n",
    "prediction_bias = np.mean(residuals)\n",
    "MAD = 1.4826*np.median(abs(residuals - np.median(residuals))) #median absolute deviation\n",
    "outlier_fraction_eta = len(residuals[residuals > 5*MAD])/len(residuals)\n",
    "\n",
    "print('prediction bias (<z>) =', prediction_bias)\n",
    "print('Median absolute deviation (MAD) = ', MAD)\n",
    "print('outlier fraction (eta) =', outlier_fraction_eta)\n",
    "#plt.text(0.05,-0.18,'prediction bias (<z>) =' + str(round(prediction_bias,3)))\n",
    "#plt.text(0.05,-0.23,'Median absolute deviation (MAD) = ' + str(round(MAD,3)))\n",
    "#plt.text(0.05,-0.28,'outlier fraction (eta) = ' + str(round(outlier_fraction_eta,3)))\n",
    "\n",
    "\n",
    "#plt.text(0.1,0.8,'RMSE =' + str(round(RMSE,4)))\n",
    "plt.savefig('..\\\\outputs\\\\Validation.png')\n",
    "plt.show()"
   ]
  },
  {
   "cell_type": "code",
   "execution_count": null,
   "metadata": {},
   "outputs": [],
   "source": [
    "#targets are generated in a technical notebook, load them in here.\n",
    "with open(\"..\\\\misc\\\\Z_Photo.txt\",\"r\") as inf:\n",
    "    Photo_dict = eval(inf.read()) #is a dictionary that looks like: {alias:Photo_Z}\n",
    "    \n",
    "z_spectro = []\n",
    "z_photo = []\n",
    "for i in range(len(validation_generator.list_IDs)):\n",
    "    z_spectro.append(validation_generator.labels[validation_generator.list_IDs[i]])\n",
    "    if 0.0< validation_generator.labels[validation_generator.list_IDs[i]] < 1.0==False:\n",
    "        print('whoops: ',  validation_generator.labels[validation_generator.list_IDs[i]] )\n",
    "    z_photo.append(Photo_dict[validation_generator.list_IDs[i]])\n",
    "    \n",
    "Y = np.array(z_photo)\n",
    "X = np.array(z_spectro)\n",
    "\n",
    "plt.plot(X[0:len(Y)],Y,'.',alpha=0.25)\n",
    "plt.plot([0,1],[0,1],'k--')\n",
    "plt.xlabel('Spectro Z')\n",
    "plt.ylabel('SDSS PhotoZ')\n",
    "plt.title('SDSS PhotoZ vs SpectroZ')\n",
    "\n",
    "#according to cohen et al 2000, we can evaluate our model using some better understood statistics invarient under N\n",
    "residuals = ((X[0:len(Y)] - Y)/ (1 + Y))\n",
    "prediction_bias = np.mean(residuals)\n",
    "MAD = 1.4826*np.median(abs(residuals - np.median(residuals))) #median absolute deviation\n",
    "outlier_fraction_eta = len(residuals[residuals > 5*MAD])/len(residuals)\n",
    "\n",
    "print('prediction bias (<z>) =', prediction_bias)\n",
    "print('Median absolute deviation (MAD) = ', MAD)\n",
    "print('outlier fraction (eta) =', outlier_fraction_eta)\n",
    "#plt.text(0.05,-0.18,'prediction bias (<z>) =' + str(round(prediction_bias,3)))\n",
    "#plt.text(0.05,-0.23,'Median absolute deviation (MAD) = ' + str(round(MAD,3)))\n",
    "#plt.text(0.05,-0.28,'outlier fraction (eta) = ' + str(round(outlier_fraction_eta,3)))\n",
    "\n",
    "plt.ylim(-0.01,0.4)\n",
    "plt.xlim(-0.01,0.4)\n",
    "#plt.text(0.1,0.8,'RMSE =' + str(round(RMSE,4)))\n",
    "plt.savefig('..\\\\outputs\\\\Original.png')\n",
    "plt.show()"
   ]
  },
  {
   "cell_type": "code",
   "execution_count": null,
   "metadata": {},
   "outputs": [],
   "source": [
    "with open(\"..\\\\misc\\\\Z_Photo.txt\",\"r\") as inf:\n",
    "    Photo_dict = eval(inf.read()) #is a dictionary that looks like: {alias:Photo_Z}\n",
    "    \n",
    "z_spectro = []\n",
    "z_photo = []\n",
    "for i in range(len(training_generator.list_IDs)):\n",
    "    z_spectro.append(training_generator.labels[training_generator.list_IDs[i]])\n",
    "    if 0.0< training_generator.labels[training_generator.list_IDs[i]] < 1.0==False:\n",
    "        print('whoops: ',  training_generator.labels[training_generator.list_IDs[i]] )\n",
    "        "
   ]
  }
 ],
 "metadata": {
  "kernelspec": {
   "display_name": "Python 3",
   "language": "python",
   "name": "python3"
  },
  "language_info": {
   "codemirror_mode": {
    "name": "ipython",
    "version": 3
   },
   "file_extension": ".py",
   "mimetype": "text/x-python",
   "name": "python",
   "nbconvert_exporter": "python",
   "pygments_lexer": "ipython3",
   "version": "3.7.3"
  }
 },
 "nbformat": 4,
 "nbformat_minor": 2
}
