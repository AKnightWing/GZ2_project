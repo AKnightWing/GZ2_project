{
 "cells": [
  {
   "cell_type": "code",
   "execution_count": 35,
   "metadata": {},
   "outputs": [],
   "source": [
    "import numpy as np\n",
    "import matplotlib.pyplot as plt\n",
    "#from __future__ import absolute_import, division, print_function\n",
    "\n",
    "\n",
    "# TensorFlow and tf.keras\n",
    "\n",
    "import pandas as pd\n",
    "\n",
    "\n",
    "processed_data = np.load('Full_array.npy')\n",
    "Blue_processed_data = np.load('Blue_Full_array.npy')\n",
    "Red_processed_data = np.load(\"RED_Full_array.npy\")\n",
    "#The size of the dataset is 10,000; but I only filled the first 9166 with values, the rest are zeros. (shouldn't be counted)\n",
    "number = 9166\n",
    "processed_data = processed_data[0:number]\n",
    "\n",
    "np.random.seed(1)\n"
   ]
  },
  {
   "cell_type": "code",
   "execution_count": 36,
   "metadata": {},
   "outputs": [],
   "source": [
    "from PIL import Image\n",
    "from cv2 import resize\n",
    "from sklearn.utils import shuffle"
   ]
  },
  {
   "cell_type": "code",
   "execution_count": 37,
   "metadata": {},
   "outputs": [],
   "source": [
    "import tensorflow as tf\n",
    "from tensorflow import keras"
   ]
  },
  {
   "cell_type": "code",
   "execution_count": 38,
   "metadata": {},
   "outputs": [],
   "source": [
    "#we want to normalize our iamge data to go from 0 to 1\n",
    "#processed_data = processed_data.reshape(np.size(processed_data))\n",
    "#processed_data = (processed_data - min(processed_data))/ (max(processed_data) - min(processed_data))\n",
    "#processed_data = processed_data.reshape(number,28,28)\n",
    "#I actually am not sure how it is scaled. however, some of the pixels are negative for some reason???\n",
    "\n",
    "#also, this did not help."
   ]
  },
  {
   "cell_type": "code",
   "execution_count": 39,
   "metadata": {},
   "outputs": [],
   "source": [
    "#hyperparameters:\n",
    "test_train_split = 0.75\n",
    "batch_size = 64\n",
    "epoch_number = 50\n",
    "learning_rate = 1e-7\n",
    "validation_split = 0.10\n",
    "\n",
    "#I have a non-round number of examples\n",
    "train_split_indice = int(np.round(test_train_split*number))"
   ]
  },
  {
   "cell_type": "code",
   "execution_count": 40,
   "metadata": {},
   "outputs": [],
   "source": [
    "#Load in my dataset of targets, targets are strings labels under the name \"Class\"\n",
    "galaxyzoo = pd.read_csv(\"zoo2MainSpecz.csv/zoo2MainSpecz.csv\", usecols=[2,3,4,8,15,21,27], nrows=number)\n",
    "#galaxyzoo = pd.read_csv(\"zoo2MainSpecz.csv/zoo2MainSpecz.csv\", nrows=number)\n",
    "Class = galaxyzoo[\"gz2class\"].values\n",
    "RA = galaxyzoo['ra'].values\n",
    "DEC = galaxyzoo['dec'].values\n",
    "#Spiral = galaxyzoo['t01_smooth_or_features_a02_features_or_disk_debiased'].values\n",
    "#Elliptical = galaxyzoo['t01_smooth_or_features_a01_smooth_debiased'].values\n",
    "#Anythingelse = galaxyzoo['t01_smooth_or_features_a03_star_or_artifact_debiased'].values"
   ]
  },
  {
   "cell_type": "code",
   "execution_count": 41,
   "metadata": {},
   "outputs": [],
   "source": [
    "#I want to take the first character of the Class string and interpret as a integer, ala MNIST example code\n",
    "dictionary = {'A':int(2),'E':int(1),'S':int(0)}"
   ]
  },
  {
   "cell_type": "code",
   "execution_count": 42,
   "metadata": {},
   "outputs": [],
   "source": [
    "#resave using my dictionary\n",
    "target = np.empty((len(Class)))\n",
    "for i in range(len(Class)):\n",
    "    target[i] = int(dictionary[Class[i][0]])"
   ]
  },
  {
   "cell_type": "code",
   "execution_count": 43,
   "metadata": {},
   "outputs": [],
   "source": [
    "#go through, find the arrays of zero, set that target to 'A' = 2\n",
    "#for i in range(len(target)):\n",
    "#    if processed_data[i].any() == 0:\n",
    "#        target[i] = 2\n",
    "#    if Blue_processed_data[i].any() == 0:\n",
    "#        target[i] = 2\n",
    "#"
   ]
  },
  {
   "cell_type": "code",
   "execution_count": 44,
   "metadata": {},
   "outputs": [],
   "source": [
    "#split my data between training and test sets\n",
    "train_target = target[0:train_split_indice]\n",
    "test_target = target[train_split_indice:number]\n",
    "train_images = processed_data[0:train_split_indice]\n",
    "test_images = processed_data[train_split_indice:number]\n",
    "Blue_train_images = Blue_processed_data[0:train_split_indice]\n",
    "Blue_test_images = Blue_processed_data[train_split_indice::]\n",
    "Red_train_images = Red_processed_data[0:train_split_indice]\n",
    "Red_test_images = Red_processed_data[train_split_indice::]"
   ]
  },
  {
   "cell_type": "code",
   "execution_count": 45,
   "metadata": {},
   "outputs": [
    {
     "data": {
      "text/plain": [
       "'\\ntrain_images_flip1 = np.flip(train_images,1)\\ntrain_images_flip2 = np.flip(train_images,2)\\ntrain_images_flip3 = np.flip(train_images_flip1,2)\\n\\nflipped_img = np.append(train_images, train_images_flip1, 0)\\nflipped_img = np.append(flipped_img, train_images_flip2, 0)\\nflipped_img = np.append(flipped_img, train_images_flip3, 0)\\n\\nflipped_tar = np.append(train_target,train_target, 0)\\nflipped_tar = np.append(flipped_tar,train_target, 0)\\nflipped_tar = np.append(flipped_tar,train_target, 0)\\n\\nprint(np.shape(flipped_tar))\\nprint(np.shape(flipped_img))\\nprint(np.size(train_target)*4)\\n\\nprint(np.shape(test_target))\\n'"
      ]
     },
     "execution_count": 45,
     "metadata": {},
     "output_type": "execute_result"
    }
   ],
   "source": [
    "#Create 3 more images from each of my training and testing images that is each image but flipped 90 degrees...\n",
    "\"\"\"\n",
    "train_images_flip1 = np.flip(train_images,1)\n",
    "train_images_flip2 = np.flip(train_images,2)\n",
    "train_images_flip3 = np.flip(train_images_flip1,2)\n",
    "\n",
    "flipped_img = np.append(train_images, train_images_flip1, 0)\n",
    "flipped_img = np.append(flipped_img, train_images_flip2, 0)\n",
    "flipped_img = np.append(flipped_img, train_images_flip3, 0)\n",
    "\n",
    "flipped_tar = np.append(train_target,train_target, 0)\n",
    "flipped_tar = np.append(flipped_tar,train_target, 0)\n",
    "flipped_tar = np.append(flipped_tar,train_target, 0)\n",
    "\n",
    "print(np.shape(flipped_tar))\n",
    "print(np.shape(flipped_img))\n",
    "print(np.size(train_target)*4)\n",
    "\n",
    "print(np.shape(test_target))\n",
    "\"\"\""
   ]
  },
  {
   "cell_type": "code",
   "execution_count": 46,
   "metadata": {},
   "outputs": [],
   "source": [
    "#train_images = flipped_img\n",
    "#train_target = flipped_tar"
   ]
  },
  {
   "cell_type": "code",
   "execution_count": 47,
   "metadata": {},
   "outputs": [
    {
     "data": {
      "text/plain": [
       "(28, 28)"
      ]
     },
     "execution_count": 47,
     "metadata": {},
     "output_type": "execute_result"
    }
   ],
   "source": [
    "np.shape(train_images[0])"
   ]
  },
  {
   "cell_type": "code",
   "execution_count": 48,
   "metadata": {},
   "outputs": [
    {
     "data": {
      "text/plain": [
       "'\\n#rotate each image in the target_images by a random amount\\nrotations_array = np.empty((31164,28,28))\\nfor i in range(np.shape(train_images)[0]):\\n    degree = np.random.uniform(-45,45,1)\\n    img = Image.fromarray(train_images[i])\\n    rot = img.rotate(degree)\\n    rot = np.asarray(rot)\\n    rotations_array[i] = rot\\n#now append rotations_array to train_images\\ntrain_images = np.append(train_images, rotations_array,0)\\n#now append the class labels to the train_target array\\ntrain_target = np.append(train_target,train_target)\\n\\n\\n#every time we run this segment, we increase our training set by a factor of 2. this means it will train in 120 * number of times\\n# times 20 epochs = a long time.\\n'"
      ]
     },
     "execution_count": 48,
     "metadata": {},
     "output_type": "execute_result"
    }
   ],
   "source": [
    "\"\"\"\n",
    "#rotate each image in the target_images by a random amount\n",
    "rotations_array = np.empty((31164,28,28))\n",
    "for i in range(np.shape(train_images)[0]):\n",
    "    degree = np.random.uniform(-45,45,1)\n",
    "    img = Image.fromarray(train_images[i])\n",
    "    rot = img.rotate(degree)\n",
    "    rot = np.asarray(rot)\n",
    "    rotations_array[i] = rot\n",
    "#now append rotations_array to train_images\n",
    "train_images = np.append(train_images, rotations_array,0)\n",
    "#now append the class labels to the train_target array\n",
    "train_target = np.append(train_target,train_target)\n",
    "\n",
    "\n",
    "#every time we run this segment, we increase our training set by a factor of 2. this means it will train in 120 * number of times\n",
    "# times 20 epochs = a long time.\n",
    "\"\"\""
   ]
  },
  {
   "cell_type": "code",
   "execution_count": 49,
   "metadata": {},
   "outputs": [],
   "source": [
    "def cv2_clipped_zoom(img, zoom_factor):\n",
    "    \"\"\"\n",
    "    Center zoom in/out of the given image and returning an enlarged/shrinked view of \n",
    "    the image without changing dimensions\n",
    "    Args:\n",
    "        img : Image array\n",
    "        zoom_factor : amount of zoom as a ratio (0 to Inf)\n",
    "    \"\"\"\n",
    "    height, width = img.shape[:2] # It's also the final desired shape\n",
    "    new_height, new_width = int(height * zoom_factor), int(width * zoom_factor)\n",
    "\n",
    "    ### Crop only the part that will remain in the result (more efficient)\n",
    "    # Centered bbox of the final desired size in resized (larger/smaller) image coordinates\n",
    "    y1, x1 = max(0, new_height - height) // 2, max(0, new_width - width) // 2\n",
    "    y2, x2 = y1 + height, x1 + width\n",
    "    bbox = np.array([y1,x1,y2,x2])\n",
    "    # Map back to original image coordinates\n",
    "    bbox = (bbox / zoom_factor).astype(np.int)\n",
    "    y1, x1, y2, x2 = bbox\n",
    "    cropped_img = img[y1:y2, x1:x2]\n",
    "\n",
    "    # Handle padding when downscaling\n",
    "    resize_height, resize_width = min(new_height, height), min(new_width, width)\n",
    "    pad_height1, pad_width1 = (height - resize_height) // 2, (width - resize_width) //2\n",
    "    pad_height2, pad_width2 = (height - resize_height) - pad_height1, (width - resize_width) - pad_width1\n",
    "    pad_spec = [(pad_height1, pad_height2), (pad_width1, pad_width2)] + [(0,0)] * (img.ndim - 2)\n",
    "\n",
    "    result = resize(cropped_img, (resize_width, resize_height))\n",
    "    result = np.pad(result, pad_spec, mode='constant')\n",
    "    assert result.shape[0] == height and result.shape[1] == width\n",
    "    return result"
   ]
  },
  {
   "cell_type": "code",
   "execution_count": 50,
   "metadata": {},
   "outputs": [
    {
     "data": {
      "text/plain": [
       "'\\n#increase by a factor of two again, like above\\nrotations_array = np.empty((31164*2,28,28))\\nfor i in range(np.shape(train_images)[0]):\\n    degree = np.random.uniform(-45,45,1)\\n    img = Image.fromarray(train_images[i])\\n    rot = img.rotate(degree)\\n    zoom_factor = np.random.uniform(0.7,1.3,1)\\n    rot = cv2_clipped_zoom(np.asarray(rot),zoom_factor)\\n    #rot = rot.resize()\\n    #rot = np.asarray(rot)\\n    rotations_array[i] = rot\\n#now append rotations_array to train_images\\ntrain_images = np.append(train_images, rotations_array,0)\\n#now append the class labels to the train_target array\\ntrain_target = np.append(train_target,train_target)\\n'"
      ]
     },
     "execution_count": 50,
     "metadata": {},
     "output_type": "execute_result"
    }
   ],
   "source": [
    "\"\"\"\n",
    "#increase by a factor of two again, like above\n",
    "rotations_array = np.empty((31164*2,28,28))\n",
    "for i in range(np.shape(train_images)[0]):\n",
    "    degree = np.random.uniform(-45,45,1)\n",
    "    img = Image.fromarray(train_images[i])\n",
    "    rot = img.rotate(degree)\n",
    "    zoom_factor = np.random.uniform(0.7,1.3,1)\n",
    "    rot = cv2_clipped_zoom(np.asarray(rot),zoom_factor)\n",
    "    #rot = rot.resize()\n",
    "    #rot = np.asarray(rot)\n",
    "    rotations_array[i] = rot\n",
    "#now append rotations_array to train_images\n",
    "train_images = np.append(train_images, rotations_array,0)\n",
    "#now append the class labels to the train_target array\n",
    "train_target = np.append(train_target,train_target)\n",
    "\"\"\""
   ]
  },
  {
   "cell_type": "code",
   "execution_count": 51,
   "metadata": {},
   "outputs": [],
   "source": [
    "#resizes images to be 32x32 using cv2. my choice of model requires 32x32x3 images. I will have to add in the other channels as \n",
    "#copies\n",
    "\n",
    "import cv2 as cv2\n",
    "train_images_resized = np.empty((np.shape(train_images)[0],32,32))\n",
    "test_images_resized = np.empty((np.shape(test_images)[0],32,32))\n",
    "for i in range(np.shape(train_images)[0]):\n",
    "#img = cv2.imread(train_images[0])\n",
    "    train_images_resized[i] = resize(train_images[i], dsize=(32,32))\n",
    "for j in range(np.shape(test_images)[0]):\n",
    "    test_images_resized[j] = resize(test_images[j], dsize=(32,32))\n",
    "\n",
    "test_images = test_images_resized\n",
    "train_images = train_images_resized"
   ]
  },
  {
   "cell_type": "code",
   "execution_count": 52,
   "metadata": {},
   "outputs": [],
   "source": [
    "#Do the same for the Blue_train_images and Blue_test_images\n",
    "train_images_resized = np.empty((np.shape(train_images)[0],32,32))\n",
    "test_images_resized = np.empty((np.shape(test_images)[0],32,32))\n",
    "for i in range(np.shape(Blue_train_images)[0]):\n",
    "#img = cv2.imread(train_images[0])\n",
    "    train_images_resized[i] = resize(Blue_train_images[i], dsize=(32,32))\n",
    "for j in range(np.shape(test_images)[0]):\n",
    "    test_images_resized[j] = resize(Blue_test_images[j], dsize=(32,32))\n",
    "\n",
    "Blue_test_images = test_images_resized\n",
    "Blue_train_images = train_images_resized"
   ]
  },
  {
   "cell_type": "code",
   "execution_count": 53,
   "metadata": {},
   "outputs": [],
   "source": [
    "#Do the same for the Red_train_images and Red_test_images\n",
    "train_images_resized = np.empty((np.shape(train_images)[0],32,32))\n",
    "test_images_resized = np.empty((np.shape(test_images)[0],32,32))\n",
    "for i in range(np.shape(Red_train_images)[0]):\n",
    "#img = cv2.imread(train_images[0])\n",
    "    train_images_resized[i] = resize(Red_train_images[i], dsize=(32,32))\n",
    "for j in range(np.shape(test_images)[0]):\n",
    "    test_images_resized[j] = resize(Red_test_images[j], dsize=(32,32))\n",
    "\n",
    "Red_test_images = test_images_resized\n",
    "Red_train_images = train_images_resized"
   ]
  },
  {
   "cell_type": "code",
   "execution_count": 54,
   "metadata": {},
   "outputs": [],
   "source": [
    "#reform into the tensor shape\n",
    "train_images_number = np.shape(train_images)[0]\n",
    "test_images_number = np.shape(test_images)[0]\n",
    "train_images = train_images.reshape(train_images_number,32,32,1)\n",
    "test_images = test_images.reshape(test_images_number,32,32,1)\n",
    "Blue_train_images = Blue_train_images.reshape(train_images_number,32,32,1)\n",
    "Blue_test_images = Blue_test_images.reshape(test_images_number,32,32,1)\n",
    "Red_train_images = Red_train_images.reshape(train_images_number,32,32,1)\n",
    "Red_test_images = Red_test_images.reshape(test_images_number,32,32,1)"
   ]
  },
  {
   "cell_type": "code",
   "execution_count": 55,
   "metadata": {},
   "outputs": [],
   "source": [
    "#shuffle the order of the augmented images randomly, shuffle the order of the targets the same way.\n",
    "#train_images, train_target = shuffle(train_images, train_target, random_state=1)"
   ]
  },
  {
   "cell_type": "code",
   "execution_count": 56,
   "metadata": {},
   "outputs": [
    {
     "name": "stdout",
     "output_type": "stream",
     "text": [
      "(6874, 32, 32, 1)\n",
      "(2292, 32, 32, 3)\n",
      "(6874, 32, 32, 3)\n"
     ]
    }
   ],
   "source": [
    "#Seems I need to pad the arrays with zeros to get to 32x32, then copy the values of the first monochromatic channel into 3 channels\n",
    "#to use tranfer learning\n",
    "print(np.shape(train_images))\n",
    "\n",
    "train_images_middle_step = np.append(Red_train_images, train_images, 3)\n",
    "train_images = np.append(train_images_middle_step, Blue_train_images, 3)\n",
    "\n",
    "test_images_middle_step = np.append(Red_test_images,test_images, 3)\n",
    "test_images = np.append(test_images_middle_step,Blue_test_images, 3)\n",
    "\n",
    "print(np.shape(test_images))\n",
    "print(np.shape(train_images))\n",
    "\n",
    "#consider saving this array in the future instead of wasting time re-running the damn thing."
   ]
  },
  {
   "cell_type": "code",
   "execution_count": 57,
   "metadata": {},
   "outputs": [],
   "source": [
    "#load in and define my model, using transfer learning from a NN that was trained on image net\n",
    "#https://towardsdatascience.com/keras-transfer-learning-for-beginners-6c9b8b7143e\n",
    "from tensorflow.keras.applications import vgg16\n",
    "from tensorflow.keras import layers\n",
    "Input_layer = layers.Input(shape=(32,32,3))\n",
    "base_model = vgg16.VGG16(include_top=False, weights='imagenet',input_tensor=Input_layer)\n",
    "\n",
    "x=base_model.output\n",
    "x=layers.GlobalAveragePooling2D()(x)\n",
    "x=layers.Dropout(0.40)(x)\n",
    "x=layers.Dense(1024,activation='relu')(x) #we add dense layers so that the model can learn more complex functions and classify for better results.\n",
    "\n",
    "#x=layers.Dense(512,activation='relu')(x) #dense layer 2\n",
    "#x=layers.Dense(128,activation='relu')(x) #dense layer 3\n",
    "preds=layers.Dense(3,activation='softmax')(x) #final layer with softmax activation"
   ]
  },
  {
   "cell_type": "code",
   "execution_count": 58,
   "metadata": {},
   "outputs": [],
   "source": [
    "#define our model using the loaded base_model and our added layers\n",
    "from tensorflow.keras import Model\n",
    "model=Model(inputs=base_model.input,outputs=preds)"
   ]
  },
  {
   "cell_type": "code",
   "execution_count": 59,
   "metadata": {},
   "outputs": [
    {
     "name": "stdout",
     "output_type": "stream",
     "text": [
      "0 input_2\n",
      "1 block1_conv1\n",
      "2 block1_conv2\n",
      "3 block1_pool\n",
      "4 block2_conv1\n",
      "5 block2_conv2\n",
      "6 block2_pool\n",
      "7 block3_conv1\n",
      "8 block3_conv2\n",
      "9 block3_conv3\n",
      "10 block3_pool\n",
      "11 block4_conv1\n",
      "12 block4_conv2\n",
      "13 block4_conv3\n",
      "14 block4_pool\n",
      "15 block5_conv1\n",
      "16 block5_conv2\n",
      "17 block5_conv3\n",
      "18 block5_pool\n",
      "19 global_average_pooling2d_1\n",
      "20 dropout_1\n",
      "21 dense_2\n",
      "22 dense_3\n"
     ]
    }
   ],
   "source": [
    "#now that we have a model, we want to check the number of layers\n",
    "for i,layer in enumerate(model.layers):\n",
    "    print(i,layer.name)"
   ]
  },
  {
   "cell_type": "code",
   "execution_count": 60,
   "metadata": {},
   "outputs": [],
   "source": [
    "#using the number of layers, we want to then tell the classifier to only train the new top layers, the dense layers we added\n",
    "#so that we maximize the benefit of the imagenet training.\n",
    "\n",
    "#for layer in model.layers:\n",
    "#    layer.trainable=False\n",
    "\n",
    "# or if we want to set the first 19 layers of the network to be non-trainable\n",
    "for layer in model.layers[:15]:\n",
    "    layer.trainable=False\n",
    "for layer in model.layers[15:]:\n",
    "    layer.trainable=True"
   ]
  },
  {
   "cell_type": "code",
   "execution_count": 61,
   "metadata": {},
   "outputs": [],
   "source": [
    "\n",
    "#set up a validation and training set to tune hyperparameters.\n",
    "\n",
    "#validation_split = int(np.round(np.size(train_target)*0.90))\n",
    "#validation_images = train_images[validation_split::]\n",
    "#validation_target = train_target[validation_split::]\n",
    "#train_target = train_target[0:validation_split]\n",
    "#train_images = train_images[0:validation_split]\n"
   ]
  },
  {
   "cell_type": "code",
   "execution_count": 62,
   "metadata": {},
   "outputs": [
    {
     "name": "stdout",
     "output_type": "stream",
     "text": [
      "(6874, 32, 32, 3)\n"
     ]
    }
   ],
   "source": [
    "print(np.shape(train_images))"
   ]
  },
  {
   "cell_type": "code",
   "execution_count": 63,
   "metadata": {},
   "outputs": [],
   "source": [
    "#define an optimizer, loss, and accuracy metric.\n",
    "adam = tf.keras.optimizers.Adam(learning_rate = learning_rate)\n",
    "model.compile(optimizer=adam, loss='sparse_categorical_crossentropy',metrics=['accuracy'])"
   ]
  },
  {
   "cell_type": "code",
   "execution_count": 64,
   "metadata": {},
   "outputs": [
    {
     "data": {
      "text/plain": [
       "\"\\ndatagen = ImageDataGenerator(\\n    featurewise_center=True,\\n    featurewise_std_normalization=True,\\n    rotation_range=40,\\n    zoom_range=0.3,\\n    fill_mode='nearest'\\n    horizontal_flip=True,\\n    vetical_flip=True,\\n    data_format='channels_last',\\n    validation_split=validation_split)\\n\\ndatagen.fit(train_images)\\n\\nmodel.fit_generator(datagen.flow(train_images, train_targets, batch_size=batch_size),\\n                    steps_per_epoch=len(x_train) / batch_size, epochs=epoch_number)\\n\""
      ]
     },
     "execution_count": 64,
     "metadata": {},
     "output_type": "execute_result"
    }
   ],
   "source": [
    "\"\"\"\n",
    "datagen = ImageDataGenerator(\n",
    "    featurewise_center=True,\n",
    "    featurewise_std_normalization=True,\n",
    "    rotation_range=40,\n",
    "    zoom_range=0.3,\n",
    "    fill_mode='nearest'\n",
    "    horizontal_flip=True,\n",
    "    vetical_flip=True,\n",
    "    data_format='channels_last',\n",
    "    validation_split=validation_split)\n",
    "\n",
    "datagen.fit(train_images)\n",
    "\n",
    "model.fit_generator(datagen.flow(train_images, train_targets, batch_size=batch_size),\n",
    "                    steps_per_epoch=len(x_train) / batch_size, epochs=epoch_number)\n",
    "\"\"\""
   ]
  },
  {
   "cell_type": "code",
   "execution_count": 65,
   "metadata": {},
   "outputs": [
    {
     "name": "stdout",
     "output_type": "stream",
     "text": [
      "Train on 6186 samples, validate on 688 samples\n",
      "Epoch 1/50\n",
      "6186/6186 [==============================] - 306s 50ms/sample - loss: 0.9630 - accuracy: 0.5949 - val_loss: 0.8794 - val_accuracy: 0.6366\n",
      "Epoch 2/50\n",
      "6186/6186 [==============================] - 277s 45ms/sample - loss: 0.9043 - accuracy: 0.6028 - val_loss: 0.8485 - val_accuracy: 0.6875\n",
      "Epoch 3/50\n",
      "6186/6186 [==============================] - 271s 44ms/sample - loss: 0.8573 - accuracy: 0.6269 - val_loss: 0.8259 - val_accuracy: 0.7035\n",
      "Epoch 4/50\n",
      "6186/6186 [==============================] - 273s 44ms/sample - loss: 0.8275 - accuracy: 0.6316 - val_loss: 0.8090 - val_accuracy: 0.7020\n",
      "Epoch 5/50\n",
      "6186/6186 [==============================] - 274s 44ms/sample - loss: 0.8064 - accuracy: 0.6372 - val_loss: 0.7950 - val_accuracy: 0.7064\n",
      "Epoch 6/50\n",
      "6186/6186 [==============================] - 268s 43ms/sample - loss: 0.7819 - accuracy: 0.6518 - val_loss: 0.7823 - val_accuracy: 0.6977\n",
      "Epoch 7/50\n",
      "6186/6186 [==============================] - 269s 43ms/sample - loss: 0.7780 - accuracy: 0.6429 - val_loss: 0.7711 - val_accuracy: 0.6860\n",
      "Epoch 8/50\n",
      "6186/6186 [==============================] - 265s 43ms/sample - loss: 0.7601 - accuracy: 0.6563 - val_loss: 0.7610 - val_accuracy: 0.6890\n",
      "Epoch 9/50\n",
      "6186/6186 [==============================] - 268s 43ms/sample - loss: 0.7426 - accuracy: 0.6610 - val_loss: 0.7509 - val_accuracy: 0.6846\n",
      "Epoch 10/50\n",
      "6186/6186 [==============================] - 282s 46ms/sample - loss: 0.7356 - accuracy: 0.6589 - val_loss: 0.7419 - val_accuracy: 0.6817\n",
      "Epoch 11/50\n",
      "6186/6186 [==============================] - 271s 44ms/sample - loss: 0.7266 - accuracy: 0.6686 - val_loss: 0.7333 - val_accuracy: 0.6831\n",
      "Epoch 12/50\n",
      "6186/6186 [==============================] - 275s 44ms/sample - loss: 0.7099 - accuracy: 0.6785 - val_loss: 0.7244 - val_accuracy: 0.6831\n",
      "Epoch 13/50\n",
      "6186/6186 [==============================] - 279s 45ms/sample - loss: 0.7069 - accuracy: 0.6781 - val_loss: 0.7164 - val_accuracy: 0.6846\n",
      "Epoch 14/50\n",
      "6186/6186 [==============================] - 271s 44ms/sample - loss: 0.7005 - accuracy: 0.6778 - val_loss: 0.7092 - val_accuracy: 0.6860\n",
      "Epoch 15/50\n",
      "6186/6186 [==============================] - 266s 43ms/sample - loss: 0.6956 - accuracy: 0.6754 - val_loss: 0.7023 - val_accuracy: 0.6904\n",
      "Epoch 16/50\n",
      "6186/6186 [==============================] - 268s 43ms/sample - loss: 0.6824 - accuracy: 0.6817 - val_loss: 0.6951 - val_accuracy: 0.6948\n",
      "Epoch 17/50\n",
      "6186/6186 [==============================] - 298s 48ms/sample - loss: 0.6829 - accuracy: 0.6846 - val_loss: 0.6885 - val_accuracy: 0.7035\n",
      "Epoch 18/50\n",
      "6186/6186 [==============================] - 276s 45ms/sample - loss: 0.6743 - accuracy: 0.6836 - val_loss: 0.6819 - val_accuracy: 0.7064\n",
      "Epoch 19/50\n",
      "6186/6186 [==============================] - 268s 43ms/sample - loss: 0.6675 - accuracy: 0.6859 - val_loss: 0.6755 - val_accuracy: 0.7078\n",
      "Epoch 20/50\n",
      "6186/6186 [==============================] - 266s 43ms/sample - loss: 0.6736 - accuracy: 0.6812 - val_loss: 0.6705 - val_accuracy: 0.7078\n",
      "Epoch 21/50\n",
      "6186/6186 [==============================] - 268s 43ms/sample - loss: 0.6544 - accuracy: 0.6929 - val_loss: 0.6657 - val_accuracy: 0.7093\n",
      "Epoch 22/50\n",
      "6186/6186 [==============================] - 267s 43ms/sample - loss: 0.6506 - accuracy: 0.6909 - val_loss: 0.6601 - val_accuracy: 0.7137\n",
      "Epoch 23/50\n",
      "6186/6186 [==============================] - 267s 43ms/sample - loss: 0.6450 - accuracy: 0.6929 - val_loss: 0.6547 - val_accuracy: 0.7151\n",
      "Epoch 24/50\n",
      "6186/6186 [==============================] - 268s 43ms/sample - loss: 0.6495 - accuracy: 0.6916 - val_loss: 0.6513 - val_accuracy: 0.7151\n",
      "Epoch 25/50\n",
      "6186/6186 [==============================] - 266s 43ms/sample - loss: 0.6469 - accuracy: 0.6916 - val_loss: 0.6476 - val_accuracy: 0.7137\n",
      "Epoch 26/50\n",
      "6186/6186 [==============================] - 267s 43ms/sample - loss: 0.6400 - accuracy: 0.6951 - val_loss: 0.6440 - val_accuracy: 0.7151\n",
      "Epoch 27/50\n",
      "6186/6186 [==============================] - 267s 43ms/sample - loss: 0.6309 - accuracy: 0.7022 - val_loss: 0.6399 - val_accuracy: 0.7137\n",
      "Epoch 28/50\n",
      "6186/6186 [==============================] - 267s 43ms/sample - loss: 0.6371 - accuracy: 0.6875 - val_loss: 0.6359 - val_accuracy: 0.7180\n",
      "Epoch 29/50\n",
      "6186/6186 [==============================] - 269s 43ms/sample - loss: 0.6323 - accuracy: 0.6964 - val_loss: 0.6329 - val_accuracy: 0.7180\n",
      "Epoch 30/50\n",
      "6186/6186 [==============================] - 267s 43ms/sample - loss: 0.6307 - accuracy: 0.6966 - val_loss: 0.6294 - val_accuracy: 0.7224\n",
      "Epoch 31/50\n",
      "6186/6186 [==============================] - 268s 43ms/sample - loss: 0.6244 - accuracy: 0.7022 - val_loss: 0.6269 - val_accuracy: 0.7224\n",
      "Epoch 32/50\n",
      "6186/6186 [==============================] - 267s 43ms/sample - loss: 0.6255 - accuracy: 0.6988 - val_loss: 0.6239 - val_accuracy: 0.7224\n",
      "Epoch 33/50\n",
      "6186/6186 [==============================] - 269s 44ms/sample - loss: 0.6187 - accuracy: 0.7032 - val_loss: 0.6214 - val_accuracy: 0.7267\n",
      "Epoch 34/50\n",
      "6186/6186 [==============================] - 272s 44ms/sample - loss: 0.6161 - accuracy: 0.6995 - val_loss: 0.6192 - val_accuracy: 0.7282\n",
      "Epoch 35/50\n",
      "6186/6186 [==============================] - 270s 44ms/sample - loss: 0.6098 - accuracy: 0.7048 - val_loss: 0.6170 - val_accuracy: 0.7282\n",
      "Epoch 36/50\n",
      "6186/6186 [==============================] - 270s 44ms/sample - loss: 0.6130 - accuracy: 0.7037 - val_loss: 0.6145 - val_accuracy: 0.7297\n",
      "Epoch 37/50\n",
      "6186/6186 [==============================] - 272s 44ms/sample - loss: 0.6082 - accuracy: 0.7064 - val_loss: 0.6118 - val_accuracy: 0.7297\n",
      "Epoch 38/50\n",
      "6186/6186 [==============================] - 270s 44ms/sample - loss: 0.6115 - accuracy: 0.7005 - val_loss: 0.6091 - val_accuracy: 0.7282\n",
      "Epoch 39/50\n",
      "6186/6186 [==============================] - 269s 43ms/sample - loss: 0.6106 - accuracy: 0.7003 - val_loss: 0.6078 - val_accuracy: 0.7326\n",
      "Epoch 40/50\n",
      "6186/6186 [==============================] - 270s 44ms/sample - loss: 0.6009 - accuracy: 0.7085 - val_loss: 0.6051 - val_accuracy: 0.7326\n",
      "Epoch 41/50\n",
      "6186/6186 [==============================] - 273s 44ms/sample - loss: 0.6034 - accuracy: 0.7124 - val_loss: 0.6032 - val_accuracy: 0.7340\n",
      "Epoch 42/50\n",
      "6186/6186 [==============================] - 272s 44ms/sample - loss: 0.6070 - accuracy: 0.7069 - val_loss: 0.6018 - val_accuracy: 0.7355\n",
      "Epoch 43/50\n",
      "6186/6186 [==============================] - 272s 44ms/sample - loss: 0.6074 - accuracy: 0.7082 - val_loss: 0.5994 - val_accuracy: 0.7355\n",
      "Epoch 44/50\n",
      "6186/6186 [==============================] - 270s 44ms/sample - loss: 0.5961 - accuracy: 0.7153 - val_loss: 0.5977 - val_accuracy: 0.7369\n",
      "Epoch 45/50\n",
      "6186/6186 [==============================] - 270s 44ms/sample - loss: 0.5965 - accuracy: 0.7103 - val_loss: 0.5959 - val_accuracy: 0.7355\n",
      "Epoch 46/50\n",
      "6186/6186 [==============================] - 269s 44ms/sample - loss: 0.6005 - accuracy: 0.7106 - val_loss: 0.5942 - val_accuracy: 0.7340\n",
      "Epoch 47/50\n",
      "6186/6186 [==============================] - 270s 44ms/sample - loss: 0.5930 - accuracy: 0.7106 - val_loss: 0.5927 - val_accuracy: 0.7369\n",
      "Epoch 48/50\n",
      "6186/6186 [==============================] - 269s 44ms/sample - loss: 0.5910 - accuracy: 0.7163 - val_loss: 0.5913 - val_accuracy: 0.7413\n",
      "Epoch 49/50\n",
      "6186/6186 [==============================] - 270s 44ms/sample - loss: 0.5933 - accuracy: 0.7100 - val_loss: 0.5894 - val_accuracy: 0.7384\n",
      "Epoch 50/50\n",
      "6186/6186 [==============================] - 275s 45ms/sample - loss: 0.5949 - accuracy: 0.7129 - val_loss: 0.5881 - val_accuracy: 0.7398\n"
     ]
    }
   ],
   "source": [
    "#train, then print validation scores\n",
    "history = model.fit(train_images, train_target, validation_split=validation_split, epochs=epoch_number, batch_size=batch_size, verbose=1, shuffle=True)"
   ]
  },
  {
   "cell_type": "code",
   "execution_count": 66,
   "metadata": {},
   "outputs": [
    {
     "name": "stdout",
     "output_type": "stream",
     "text": [
      "dict_keys(['loss', 'accuracy', 'val_loss', 'val_accuracy'])\n"
     ]
    }
   ],
   "source": [
    "print(history.history.keys())"
   ]
  },
  {
   "cell_type": "code",
   "execution_count": 67,
   "metadata": {},
   "outputs": [
    {
     "data": {
      "image/png": "[encoded data removed]",
      "text/plain": [
       "<Figure size 432x288 with 1 Axes>"
      ]
     },
     "metadata": {},
     "output_type": "display_data"
    },
    {
     "data": {
      "image/png": "[encoded data removed]",
      "text/plain": [
       "<Figure size 432x288 with 1 Axes>"
      ]
     },
     "metadata": {},
     "output_type": "display_data"
    }
   ],
   "source": [
    "# summarize history for accuracy\n",
    "plt.plot(history.history['accuracy'])\n",
    "plt.plot(history.history['val_accuracy'])\n",
    "plt.title('model accuracy')\n",
    "plt.ylabel('accuracy')\n",
    "plt.xlabel('epoch')\n",
    "plt.legend(['train', 'test'], loc='upper left')\n",
    "plt.show()\n",
    "# summarize history for loss\n",
    "plt.plot(history.history['loss'])\n",
    "plt.plot(history.history['val_loss'])\n",
    "plt.title('model loss')\n",
    "plt.ylabel('loss')\n",
    "plt.xlabel('epoch')\n",
    "plt.legend(['train', 'test'], loc='upper left')\n",
    "plt.show()\n",
    "\n",
    "#analysis: It seem I may need to decrease my LR after epoch 30? I do not seem to be over training, but maybe am running into\n",
    "#rocky area around epoch 30 where I am overshooting the convergence. Doesn't seem to be a smooth decrease after epoch 30?\n",
    "\n",
    "#I am altogether unsure of how to interpret. or how to change LR on the fly for that matter...\n",
    "\n",
    "#I am also worried about the fact that I do not have R and B data, because I know a big feature should be blue light vs red light\n",
    "\n",
    "#Note, this was also done without any data augmentation.\n",
    "\n",
    "#note, 0.905^30 = 0.05; 0.93^30 = 0.1; actually seems more likely that epoch=12 is where we start to come apart\n",
    "#so note, 0.83^12 = 0.1, 0.7^12 = 0.01\n",
    "#might consider that we should decay the learning rate so that we decrease is by a signicant amount by this epoch so that we\n",
    "#avoid the bumpy bit and keep moving smoothly??"
   ]
  },
  {
   "cell_type": "code",
   "execution_count": 68,
   "metadata": {},
   "outputs": [
    {
     "name": "stdout",
     "output_type": "stream",
     "text": [
      "2292/2292 [==============================] - 18s 8ms/sample - loss: 0.5957 - accuracy: 0.7295\n",
      "Test accuracy: 0.7294939\n",
      "Test loss: 0.5956907299384605\n"
     ]
    }
   ],
   "source": [
    "#model.summary()\n",
    "test_loss, test_acc = model.evaluate(test_images, test_target)\n",
    "print('Test accuracy:', test_acc)\n",
    "print('Test loss:', test_loss)\n",
    "#0.82 with LR = 3e-5, batch size=64, epochs=20, dropout=0.40.\n",
    "\n",
    "#0.82 with LR 3e-4, batch size=64, epochs=10, dropout=0.4.\n",
    "\n",
    "#LR 3e-3 caused no training, random guesses\n",
    "\n",
    "#LR 5e-4 slightly too high, didn't train as well as 3e-4 \n",
    "\n",
    "#last attempt on this notebook:\n",
    "#LR = 3e-4, 50 epochs, 64 batch size, dropout=0.4; test accuracy=0.8032\n",
    "\n",
    "#with all three channels, and a lr 2e-6, ran into small volatility problems, maxed out accuracy around 0.77, in 25 epochs.\n",
    "#will decrease lr to 1e-7 to get rid of volatility issues."
   ]
  },
  {
   "cell_type": "code",
   "execution_count": 69,
   "metadata": {},
   "outputs": [
    {
     "name": "stdout",
     "output_type": "stream",
     "text": [
      "Train on 6186 samples, validate on 688 samples\n",
      "Epoch 1/50\n",
      "6186/6186 [==============================] - 273s 44ms/sample - loss: 0.5888 - accuracy: 0.7144 - val_loss: 0.5868 - val_accuracy: 0.7442\n",
      "Epoch 2/50\n",
      "6186/6186 [==============================] - 275s 45ms/sample - loss: 0.5950 - accuracy: 0.7113 - val_loss: 0.5853 - val_accuracy: 0.7456\n",
      "Epoch 3/50\n",
      "6186/6186 [==============================] - 274s 44ms/sample - loss: 0.5935 - accuracy: 0.7095 - val_loss: 0.5836 - val_accuracy: 0.7442\n",
      "Epoch 4/50\n",
      "6186/6186 [==============================] - 269s 43ms/sample - loss: 0.5887 - accuracy: 0.7168 - val_loss: 0.5821 - val_accuracy: 0.7427\n",
      "Epoch 5/50\n",
      "6186/6186 [==============================] - 270s 44ms/sample - loss: 0.5806 - accuracy: 0.7224 - val_loss: 0.5807 - val_accuracy: 0.7442\n",
      "Epoch 6/50\n",
      "6186/6186 [==============================] - 270s 44ms/sample - loss: 0.5835 - accuracy: 0.7156 - val_loss: 0.5796 - val_accuracy: 0.7456\n",
      "Epoch 7/50\n",
      "6186/6186 [==============================] - 272s 44ms/sample - loss: 0.5871 - accuracy: 0.7132 - val_loss: 0.5780 - val_accuracy: 0.7427\n",
      "Epoch 8/50\n",
      "6186/6186 [==============================] - 269s 43ms/sample - loss: 0.5839 - accuracy: 0.7173 - val_loss: 0.5771 - val_accuracy: 0.7427\n",
      "Epoch 9/50\n",
      "6186/6186 [==============================] - 270s 44ms/sample - loss: 0.5880 - accuracy: 0.7152 - val_loss: 0.5755 - val_accuracy: 0.7471\n",
      "Epoch 10/50\n",
      "6186/6186 [==============================] - 269s 44ms/sample - loss: 0.5838 - accuracy: 0.7160 - val_loss: 0.5743 - val_accuracy: 0.7471\n",
      "Epoch 11/50\n",
      "6186/6186 [==============================] - 270s 44ms/sample - loss: 0.5830 - accuracy: 0.7134 - val_loss: 0.5734 - val_accuracy: 0.7471\n",
      "Epoch 12/50\n",
      "6186/6186 [==============================] - 268s 43ms/sample - loss: 0.5782 - accuracy: 0.7197 - val_loss: 0.5722 - val_accuracy: 0.7515\n",
      "Epoch 13/50\n",
      "6186/6186 [==============================] - 268s 43ms/sample - loss: 0.5829 - accuracy: 0.7131 - val_loss: 0.5714 - val_accuracy: 0.7515\n",
      "Epoch 14/50\n",
      "6186/6186 [==============================] - 269s 44ms/sample - loss: 0.5749 - accuracy: 0.7177 - val_loss: 0.5702 - val_accuracy: 0.7515\n",
      "Epoch 15/50\n",
      "6186/6186 [==============================] - 283s 46ms/sample - loss: 0.5792 - accuracy: 0.7218 - val_loss: 0.5690 - val_accuracy: 0.7515\n",
      "Epoch 16/50\n",
      "6186/6186 [==============================] - 311s 50ms/sample - loss: 0.5800 - accuracy: 0.7165 - val_loss: 0.5682 - val_accuracy: 0.7515\n",
      "Epoch 17/50\n",
      "6186/6186 [==============================] - 298s 48ms/sample - loss: 0.5783 - accuracy: 0.7142 - val_loss: 0.5670 - val_accuracy: 0.7529\n",
      "Epoch 18/50\n",
      "6186/6186 [==============================] - 278s 45ms/sample - loss: 0.5758 - accuracy: 0.7169 - val_loss: 0.5659 - val_accuracy: 0.7558\n",
      "Epoch 19/50\n",
      "6186/6186 [==============================] - 278s 45ms/sample - loss: 0.5756 - accuracy: 0.7129 - val_loss: 0.5649 - val_accuracy: 0.7558\n",
      "Epoch 20/50\n",
      "6186/6186 [==============================] - 279s 45ms/sample - loss: 0.5767 - accuracy: 0.7199 - val_loss: 0.5644 - val_accuracy: 0.7558\n",
      "Epoch 21/50\n",
      "6186/6186 [==============================] - 278s 45ms/sample - loss: 0.5734 - accuracy: 0.7190 - val_loss: 0.5630 - val_accuracy: 0.7558\n",
      "Epoch 22/50\n",
      "6186/6186 [==============================] - 279s 45ms/sample - loss: 0.5742 - accuracy: 0.7194 - val_loss: 0.5617 - val_accuracy: 0.7573\n",
      "Epoch 23/50\n",
      "6186/6186 [==============================] - 279s 45ms/sample - loss: 0.5728 - accuracy: 0.7179 - val_loss: 0.5612 - val_accuracy: 0.7573\n",
      "Epoch 24/50\n",
      "6186/6186 [==============================] - 278s 45ms/sample - loss: 0.5766 - accuracy: 0.7181 - val_loss: 0.5603 - val_accuracy: 0.7573\n",
      "Epoch 25/50\n",
      "6186/6186 [==============================] - 279s 45ms/sample - loss: 0.5742 - accuracy: 0.7197 - val_loss: 0.5595 - val_accuracy: 0.7573\n",
      "Epoch 26/50\n",
      "6186/6186 [==============================] - 281s 45ms/sample - loss: 0.5667 - accuracy: 0.7257 - val_loss: 0.5583 - val_accuracy: 0.7573\n",
      "Epoch 27/50\n",
      "6186/6186 [==============================] - 278s 45ms/sample - loss: 0.5720 - accuracy: 0.7242 - val_loss: 0.5575 - val_accuracy: 0.7573\n",
      "Epoch 28/50\n",
      "6186/6186 [==============================] - 280s 45ms/sample - loss: 0.5708 - accuracy: 0.7211 - val_loss: 0.5569 - val_accuracy: 0.7573\n",
      "Epoch 29/50\n",
      "6186/6186 [==============================] - 279s 45ms/sample - loss: 0.5700 - accuracy: 0.7221 - val_loss: 0.5555 - val_accuracy: 0.7573\n",
      "Epoch 30/50\n",
      "6186/6186 [==============================] - 284s 46ms/sample - loss: 0.5700 - accuracy: 0.7169 - val_loss: 0.5548 - val_accuracy: 0.7587\n",
      "Epoch 31/50\n",
      "6186/6186 [==============================] - 278s 45ms/sample - loss: 0.5739 - accuracy: 0.7184 - val_loss: 0.5543 - val_accuracy: 0.7587\n",
      "Epoch 32/50\n",
      "6186/6186 [==============================] - 284s 46ms/sample - loss: 0.5643 - accuracy: 0.7244 - val_loss: 0.5534 - val_accuracy: 0.7602\n",
      "Epoch 33/50\n",
      "6186/6186 [==============================] - 279s 45ms/sample - loss: 0.5646 - accuracy: 0.7247 - val_loss: 0.5530 - val_accuracy: 0.7587\n",
      "Epoch 34/50\n",
      "6186/6186 [==============================] - 278s 45ms/sample - loss: 0.5680 - accuracy: 0.7273 - val_loss: 0.5520 - val_accuracy: 0.7602\n",
      "Epoch 35/50\n",
      "6186/6186 [==============================] - 280s 45ms/sample - loss: 0.5615 - accuracy: 0.7247 - val_loss: 0.5513 - val_accuracy: 0.7587\n",
      "Epoch 36/50\n",
      "6186/6186 [==============================] - 279s 45ms/sample - loss: 0.5719 - accuracy: 0.7242 - val_loss: 0.5506 - val_accuracy: 0.7573\n",
      "Epoch 37/50\n",
      "6186/6186 [==============================] - 278s 45ms/sample - loss: 0.5679 - accuracy: 0.7218 - val_loss: 0.5497 - val_accuracy: 0.7558\n",
      "Epoch 38/50\n",
      "6186/6186 [==============================] - 279s 45ms/sample - loss: 0.5617 - accuracy: 0.7305 - val_loss: 0.5492 - val_accuracy: 0.7558\n",
      "Epoch 39/50\n",
      "6186/6186 [==============================] - 281s 45ms/sample - loss: 0.5672 - accuracy: 0.7257 - val_loss: 0.5485 - val_accuracy: 0.7558\n",
      "Epoch 40/50\n",
      "6186/6186 [==============================] - 278s 45ms/sample - loss: 0.5629 - accuracy: 0.7307 - val_loss: 0.5479 - val_accuracy: 0.7558\n",
      "Epoch 41/50\n",
      "6186/6186 [==============================] - 280s 45ms/sample - loss: 0.5604 - accuracy: 0.7302 - val_loss: 0.5471 - val_accuracy: 0.7558\n",
      "Epoch 42/50\n",
      "6186/6186 [==============================] - 280s 45ms/sample - loss: 0.5560 - accuracy: 0.7271 - val_loss: 0.5463 - val_accuracy: 0.7529\n",
      "Epoch 43/50\n",
      "6186/6186 [==============================] - 279s 45ms/sample - loss: 0.5652 - accuracy: 0.7239 - val_loss: 0.5459 - val_accuracy: 0.7529\n",
      "Epoch 44/50\n",
      "6186/6186 [==============================] - 279s 45ms/sample - loss: 0.5651 - accuracy: 0.7274 - val_loss: 0.5455 - val_accuracy: 0.7558\n",
      "Epoch 45/50\n",
      "6186/6186 [==============================] - 279s 45ms/sample - loss: 0.5627 - accuracy: 0.7189 - val_loss: 0.5448 - val_accuracy: 0.7544\n",
      "Epoch 46/50\n",
      "6186/6186 [==============================] - 278s 45ms/sample - loss: 0.5636 - accuracy: 0.7241 - val_loss: 0.5445 - val_accuracy: 0.7573\n",
      "Epoch 47/50\n",
      "6186/6186 [==============================] - 281s 45ms/sample - loss: 0.5550 - accuracy: 0.7300 - val_loss: 0.5434 - val_accuracy: 0.7587\n",
      "Epoch 48/50\n",
      "6186/6186 [==============================] - 279s 45ms/sample - loss: 0.5596 - accuracy: 0.7300 - val_loss: 0.5428 - val_accuracy: 0.7616\n",
      "Epoch 49/50\n",
      "6186/6186 [==============================] - 278s 45ms/sample - loss: 0.5593 - accuracy: 0.7266 - val_loss: 0.5422 - val_accuracy: 0.7631\n",
      "Epoch 50/50\n",
      "6186/6186 [==============================] - 279s 45ms/sample - loss: 0.5570 - accuracy: 0.7342 - val_loss: 0.5417 - val_accuracy: 0.7631\n"
     ]
    }
   ],
   "source": [
    "history = model.fit(train_images, train_target, validation_split=validation_split, epochs=epoch_number, batch_size=batch_size, verbose=1, shuffle=True)"
   ]
  },
  {
   "cell_type": "code",
   "execution_count": 70,
   "metadata": {},
   "outputs": [
    {
     "name": "stdout",
     "output_type": "stream",
     "text": [
      "Train on 6186 samples, validate on 688 samples\n",
      "Epoch 1/100\n",
      "6186/6186 [==============================] - 281s 45ms/sample - loss: 0.5610 - accuracy: 0.7289 - val_loss: 0.5414 - val_accuracy: 0.7631\n",
      "Epoch 2/100\n",
      "6186/6186 [==============================] - 279s 45ms/sample - loss: 0.5590 - accuracy: 0.7253 - val_loss: 0.5406 - val_accuracy: 0.7602\n",
      "Epoch 3/100\n",
      "6186/6186 [==============================] - 279s 45ms/sample - loss: 0.5587 - accuracy: 0.7252 - val_loss: 0.5402 - val_accuracy: 0.7602\n",
      "Epoch 4/100\n",
      "6186/6186 [==============================] - 278s 45ms/sample - loss: 0.5511 - accuracy: 0.7359 - val_loss: 0.5396 - val_accuracy: 0.7602\n",
      "Epoch 5/100\n",
      "6186/6186 [==============================] - 278s 45ms/sample - loss: 0.5568 - accuracy: 0.7237 - val_loss: 0.5392 - val_accuracy: 0.7587\n",
      "Epoch 6/100\n",
      "6186/6186 [==============================] - 278s 45ms/sample - loss: 0.5607 - accuracy: 0.7289 - val_loss: 0.5387 - val_accuracy: 0.7587\n",
      "Epoch 7/100\n",
      "6186/6186 [==============================] - 280s 45ms/sample - loss: 0.5545 - accuracy: 0.7368 - val_loss: 0.5383 - val_accuracy: 0.7602\n",
      "Epoch 8/100\n",
      "6186/6186 [==============================] - 280s 45ms/sample - loss: 0.5539 - accuracy: 0.7328 - val_loss: 0.5377 - val_accuracy: 0.7587\n",
      "Epoch 9/100\n",
      "6186/6186 [==============================] - 278s 45ms/sample - loss: 0.5539 - accuracy: 0.7341 - val_loss: 0.5372 - val_accuracy: 0.7602\n",
      "Epoch 10/100\n",
      "6186/6186 [==============================] - 279s 45ms/sample - loss: 0.5547 - accuracy: 0.7260 - val_loss: 0.5368 - val_accuracy: 0.7602\n",
      "Epoch 11/100\n",
      "6186/6186 [==============================] - 278s 45ms/sample - loss: 0.5552 - accuracy: 0.7313 - val_loss: 0.5361 - val_accuracy: 0.7587\n",
      "Epoch 12/100\n",
      "6186/6186 [==============================] - 278s 45ms/sample - loss: 0.5556 - accuracy: 0.7287 - val_loss: 0.5357 - val_accuracy: 0.7602\n",
      "Epoch 13/100\n",
      "6186/6186 [==============================] - 281s 45ms/sample - loss: 0.5549 - accuracy: 0.7292 - val_loss: 0.5353 - val_accuracy: 0.7587\n",
      "Epoch 14/100\n",
      "6186/6186 [==============================] - 278s 45ms/sample - loss: 0.5547 - accuracy: 0.7304 - val_loss: 0.5349 - val_accuracy: 0.7587\n",
      "Epoch 15/100\n",
      "6186/6186 [==============================] - 278s 45ms/sample - loss: 0.5547 - accuracy: 0.7320 - val_loss: 0.5345 - val_accuracy: 0.7587\n",
      "Epoch 16/100\n",
      "6186/6186 [==============================] - 279s 45ms/sample - loss: 0.5526 - accuracy: 0.7326 - val_loss: 0.5340 - val_accuracy: 0.7587\n",
      "Epoch 17/100\n",
      "6186/6186 [==============================] - 278s 45ms/sample - loss: 0.5515 - accuracy: 0.7318 - val_loss: 0.5337 - val_accuracy: 0.7587\n",
      "Epoch 18/100\n",
      "6186/6186 [==============================] - 278s 45ms/sample - loss: 0.5536 - accuracy: 0.7291 - val_loss: 0.5333 - val_accuracy: 0.7587\n",
      "Epoch 19/100\n",
      "6186/6186 [==============================] - 278s 45ms/sample - loss: 0.5529 - accuracy: 0.7308 - val_loss: 0.5329 - val_accuracy: 0.7573\n",
      "Epoch 20/100\n",
      "6186/6186 [==============================] - 279s 45ms/sample - loss: 0.5465 - accuracy: 0.7339 - val_loss: 0.5325 - val_accuracy: 0.7573\n",
      "Epoch 21/100\n",
      "6186/6186 [==============================] - 279s 45ms/sample - loss: 0.5498 - accuracy: 0.7367 - val_loss: 0.5319 - val_accuracy: 0.7573\n",
      "Epoch 22/100\n",
      "6186/6186 [==============================] - 279s 45ms/sample - loss: 0.5478 - accuracy: 0.7336 - val_loss: 0.5314 - val_accuracy: 0.7587\n",
      "Epoch 23/100\n",
      "6186/6186 [==============================] - 279s 45ms/sample - loss: 0.5495 - accuracy: 0.7363 - val_loss: 0.5310 - val_accuracy: 0.7587\n",
      "Epoch 24/100\n",
      "6186/6186 [==============================] - 279s 45ms/sample - loss: 0.5510 - accuracy: 0.7271 - val_loss: 0.5306 - val_accuracy: 0.7587\n",
      "Epoch 25/100\n",
      "6186/6186 [==============================] - 278s 45ms/sample - loss: 0.5539 - accuracy: 0.7321 - val_loss: 0.5305 - val_accuracy: 0.7587\n",
      "Epoch 26/100\n",
      "6186/6186 [==============================] - 280s 45ms/sample - loss: 0.5474 - accuracy: 0.7383 - val_loss: 0.5301 - val_accuracy: 0.7587\n",
      "Epoch 27/100\n",
      "6186/6186 [==============================] - 279s 45ms/sample - loss: 0.5488 - accuracy: 0.7320 - val_loss: 0.5297 - val_accuracy: 0.7587\n",
      "Epoch 28/100\n",
      "6186/6186 [==============================] - 282s 46ms/sample - loss: 0.5482 - accuracy: 0.7310 - val_loss: 0.5292 - val_accuracy: 0.7587\n",
      "Epoch 29/100\n",
      "6186/6186 [==============================] - 278s 45ms/sample - loss: 0.5477 - accuracy: 0.7401 - val_loss: 0.5288 - val_accuracy: 0.7573\n",
      "Epoch 30/100\n",
      "6186/6186 [==============================] - 279s 45ms/sample - loss: 0.5519 - accuracy: 0.7262 - val_loss: 0.5286 - val_accuracy: 0.7587\n",
      "Epoch 31/100\n",
      "6186/6186 [==============================] - 277s 45ms/sample - loss: 0.5455 - accuracy: 0.7407 - val_loss: 0.5282 - val_accuracy: 0.7587\n",
      "Epoch 32/100\n",
      "6186/6186 [==============================] - 278s 45ms/sample - loss: 0.5460 - accuracy: 0.7350 - val_loss: 0.5279 - val_accuracy: 0.7573\n",
      "Epoch 33/100\n",
      "6186/6186 [==============================] - 278s 45ms/sample - loss: 0.5442 - accuracy: 0.7412 - val_loss: 0.5276 - val_accuracy: 0.7573\n",
      "Epoch 34/100\n",
      "6186/6186 [==============================] - 280s 45ms/sample - loss: 0.5436 - accuracy: 0.7409 - val_loss: 0.5273 - val_accuracy: 0.7573\n",
      "Epoch 35/100\n",
      "6186/6186 [==============================] - 278s 45ms/sample - loss: 0.5475 - accuracy: 0.7302 - val_loss: 0.5271 - val_accuracy: 0.7558\n",
      "Epoch 36/100\n",
      "6186/6186 [==============================] - 279s 45ms/sample - loss: 0.5454 - accuracy: 0.7333 - val_loss: 0.5266 - val_accuracy: 0.7558\n",
      "Epoch 37/100\n",
      "6186/6186 [==============================] - 280s 45ms/sample - loss: 0.5463 - accuracy: 0.7417 - val_loss: 0.5263 - val_accuracy: 0.7587\n",
      "Epoch 38/100\n",
      "6186/6186 [==============================] - 308s 50ms/sample - loss: 0.5425 - accuracy: 0.7342 - val_loss: 0.5260 - val_accuracy: 0.7602\n",
      "Epoch 39/100\n",
      "6186/6186 [==============================] - 331s 53ms/sample - loss: 0.5475 - accuracy: 0.7373 - val_loss: 0.5257 - val_accuracy: 0.7587\n",
      "Epoch 40/100\n",
      "6186/6186 [==============================] - 314s 51ms/sample - loss: 0.5457 - accuracy: 0.7315 - val_loss: 0.5254 - val_accuracy: 0.7602\n",
      "Epoch 41/100\n",
      "6186/6186 [==============================] - 279s 45ms/sample - loss: 0.5433 - accuracy: 0.7355 - val_loss: 0.5252 - val_accuracy: 0.7587\n",
      "Epoch 42/100\n",
      "6186/6186 [==============================] - 279s 45ms/sample - loss: 0.5445 - accuracy: 0.7407 - val_loss: 0.5249 - val_accuracy: 0.7602\n",
      "Epoch 43/100\n",
      "6186/6186 [==============================] - 278s 45ms/sample - loss: 0.5468 - accuracy: 0.7352 - val_loss: 0.5247 - val_accuracy: 0.7602\n",
      "Epoch 44/100\n",
      "6186/6186 [==============================] - 280s 45ms/sample - loss: 0.5446 - accuracy: 0.7371 - val_loss: 0.5244 - val_accuracy: 0.7587\n",
      "Epoch 45/100\n",
      "6186/6186 [==============================] - 278s 45ms/sample - loss: 0.5422 - accuracy: 0.7423 - val_loss: 0.5242 - val_accuracy: 0.7587\n",
      "Epoch 46/100\n",
      "6186/6186 [==============================] - 283s 46ms/sample - loss: 0.5423 - accuracy: 0.7354 - val_loss: 0.5239 - val_accuracy: 0.7602\n",
      "Epoch 47/100\n",
      "6186/6186 [==============================] - 279s 45ms/sample - loss: 0.5443 - accuracy: 0.7392 - val_loss: 0.5235 - val_accuracy: 0.7602\n",
      "Epoch 48/100\n",
      "6186/6186 [==============================] - 279s 45ms/sample - loss: 0.5366 - accuracy: 0.7409 - val_loss: 0.5232 - val_accuracy: 0.7645\n",
      "Epoch 49/100\n",
      "6186/6186 [==============================] - 278s 45ms/sample - loss: 0.5364 - accuracy: 0.7428 - val_loss: 0.5229 - val_accuracy: 0.7616\n",
      "Epoch 50/100\n",
      "6186/6186 [==============================] - 278s 45ms/sample - loss: 0.5440 - accuracy: 0.7405 - val_loss: 0.5227 - val_accuracy: 0.7602\n",
      "Epoch 51/100\n",
      "6186/6186 [==============================] - 279s 45ms/sample - loss: 0.5404 - accuracy: 0.7388 - val_loss: 0.5224 - val_accuracy: 0.7631\n",
      "Epoch 52/100\n",
      "6186/6186 [==============================] - 279s 45ms/sample - loss: 0.5457 - accuracy: 0.7368 - val_loss: 0.5222 - val_accuracy: 0.7631\n",
      "Epoch 53/100\n",
      "6186/6186 [==============================] - 284s 46ms/sample - loss: 0.5399 - accuracy: 0.7397 - val_loss: 0.5220 - val_accuracy: 0.7645\n",
      "Epoch 54/100\n",
      "6186/6186 [==============================] - 280s 45ms/sample - loss: 0.5449 - accuracy: 0.7388 - val_loss: 0.5218 - val_accuracy: 0.7645\n",
      "Epoch 55/100\n"
     ]
    },
    {
     "name": "stdout",
     "output_type": "stream",
     "text": [
      "6186/6186 [==============================] - 278s 45ms/sample - loss: 0.5425 - accuracy: 0.7405 - val_loss: 0.5216 - val_accuracy: 0.7645\n",
      "Epoch 56/100\n",
      "6186/6186 [==============================] - 279s 45ms/sample - loss: 0.5366 - accuracy: 0.7378 - val_loss: 0.5213 - val_accuracy: 0.7645\n",
      "Epoch 57/100\n",
      "6186/6186 [==============================] - 278s 45ms/sample - loss: 0.5383 - accuracy: 0.7417 - val_loss: 0.5210 - val_accuracy: 0.7645\n",
      "Epoch 58/100\n",
      "6186/6186 [==============================] - 279s 45ms/sample - loss: 0.5431 - accuracy: 0.7355 - val_loss: 0.5208 - val_accuracy: 0.7645\n",
      "Epoch 59/100\n",
      "1344/6186 [=====>........................] - ETA: 3:40 - loss: 0.5379 - accuracy: 0.7493"
     ]
    },
    {
     "ename": "KeyboardInterrupt",
     "evalue": "",
     "output_type": "error",
     "traceback": [
      "\u001b[1;31m---------------------------------------------------------------------------\u001b[0m",
      "\u001b[1;31mKeyboardInterrupt\u001b[0m                         Traceback (most recent call last)",
      "\u001b[1;32m<ipython-input-70-a3f81466c0aa>\u001b[0m in \u001b[0;36m<module>\u001b[1;34m()\u001b[0m\n\u001b[1;32m----> 1\u001b[1;33m \u001b[0mhistory2\u001b[0m \u001b[1;33m=\u001b[0m \u001b[0mmodel\u001b[0m\u001b[1;33m.\u001b[0m\u001b[0mfit\u001b[0m\u001b[1;33m(\u001b[0m\u001b[0mtrain_images\u001b[0m\u001b[1;33m,\u001b[0m \u001b[0mtrain_target\u001b[0m\u001b[1;33m,\u001b[0m \u001b[0mvalidation_split\u001b[0m\u001b[1;33m=\u001b[0m\u001b[0mvalidation_split\u001b[0m\u001b[1;33m,\u001b[0m \u001b[0mepochs\u001b[0m\u001b[1;33m=\u001b[0m\u001b[1;36m100\u001b[0m\u001b[1;33m,\u001b[0m \u001b[0mbatch_size\u001b[0m\u001b[1;33m=\u001b[0m\u001b[0mbatch_size\u001b[0m\u001b[1;33m,\u001b[0m \u001b[0mverbose\u001b[0m\u001b[1;33m=\u001b[0m\u001b[1;36m1\u001b[0m\u001b[1;33m,\u001b[0m \u001b[0mshuffle\u001b[0m\u001b[1;33m=\u001b[0m\u001b[1;32mTrue\u001b[0m\u001b[1;33m)\u001b[0m\u001b[1;33m\u001b[0m\u001b[0m\n\u001b[0m",
      "\u001b[1;32m~\\Anaconda3\\envs\\DAMLA\\lib\\site-packages\\tensorflow\\python\\keras\\engine\\training.py\u001b[0m in \u001b[0;36mfit\u001b[1;34m(self, x, y, batch_size, epochs, verbose, callbacks, validation_split, validation_data, shuffle, class_weight, sample_weight, initial_epoch, steps_per_epoch, validation_steps, validation_freq, max_queue_size, workers, use_multiprocessing, **kwargs)\u001b[0m\n\u001b[0;32m    871\u001b[0m           \u001b[0mvalidation_steps\u001b[0m\u001b[1;33m=\u001b[0m\u001b[0mvalidation_steps\u001b[0m\u001b[1;33m,\u001b[0m\u001b[1;33m\u001b[0m\u001b[0m\n\u001b[0;32m    872\u001b[0m           \u001b[0mvalidation_freq\u001b[0m\u001b[1;33m=\u001b[0m\u001b[0mvalidation_freq\u001b[0m\u001b[1;33m,\u001b[0m\u001b[1;33m\u001b[0m\u001b[0m\n\u001b[1;32m--> 873\u001b[1;33m           steps_name='steps_per_epoch')\n\u001b[0m\u001b[0;32m    874\u001b[0m \u001b[1;33m\u001b[0m\u001b[0m\n\u001b[0;32m    875\u001b[0m   def evaluate(self,\n",
      "\u001b[1;32m~\\Anaconda3\\envs\\DAMLA\\lib\\site-packages\\tensorflow\\python\\keras\\engine\\training_arrays.py\u001b[0m in \u001b[0;36mmodel_iteration\u001b[1;34m(model, inputs, targets, sample_weights, batch_size, epochs, verbose, callbacks, val_inputs, val_targets, val_sample_weights, shuffle, initial_epoch, steps_per_epoch, validation_steps, validation_freq, mode, validation_in_fit, prepared_feed_values_from_dataset, steps_name, **kwargs)\u001b[0m\n\u001b[0;32m    350\u001b[0m \u001b[1;33m\u001b[0m\u001b[0m\n\u001b[0;32m    351\u001b[0m         \u001b[1;31m# Get outputs.\u001b[0m\u001b[1;33m\u001b[0m\u001b[1;33m\u001b[0m\u001b[0m\n\u001b[1;32m--> 352\u001b[1;33m         \u001b[0mbatch_outs\u001b[0m \u001b[1;33m=\u001b[0m \u001b[0mf\u001b[0m\u001b[1;33m(\u001b[0m\u001b[0mins_batch\u001b[0m\u001b[1;33m)\u001b[0m\u001b[1;33m\u001b[0m\u001b[0m\n\u001b[0m\u001b[0;32m    353\u001b[0m         \u001b[1;32mif\u001b[0m \u001b[1;32mnot\u001b[0m \u001b[0misinstance\u001b[0m\u001b[1;33m(\u001b[0m\u001b[0mbatch_outs\u001b[0m\u001b[1;33m,\u001b[0m \u001b[0mlist\u001b[0m\u001b[1;33m)\u001b[0m\u001b[1;33m:\u001b[0m\u001b[1;33m\u001b[0m\u001b[0m\n\u001b[0;32m    354\u001b[0m           \u001b[0mbatch_outs\u001b[0m \u001b[1;33m=\u001b[0m \u001b[1;33m[\u001b[0m\u001b[0mbatch_outs\u001b[0m\u001b[1;33m]\u001b[0m\u001b[1;33m\u001b[0m\u001b[0m\n",
      "\u001b[1;32m~\\Anaconda3\\envs\\DAMLA\\lib\\site-packages\\tensorflow\\python\\keras\\backend.py\u001b[0m in \u001b[0;36m__call__\u001b[1;34m(self, inputs)\u001b[0m\n\u001b[0;32m   3215\u001b[0m         \u001b[0mvalue\u001b[0m \u001b[1;33m=\u001b[0m \u001b[0mmath_ops\u001b[0m\u001b[1;33m.\u001b[0m\u001b[0mcast\u001b[0m\u001b[1;33m(\u001b[0m\u001b[0mvalue\u001b[0m\u001b[1;33m,\u001b[0m \u001b[0mtensor\u001b[0m\u001b[1;33m.\u001b[0m\u001b[0mdtype\u001b[0m\u001b[1;33m)\u001b[0m\u001b[1;33m\u001b[0m\u001b[0m\n\u001b[0;32m   3216\u001b[0m       \u001b[0mconverted_inputs\u001b[0m\u001b[1;33m.\u001b[0m\u001b[0mappend\u001b[0m\u001b[1;33m(\u001b[0m\u001b[0mvalue\u001b[0m\u001b[1;33m)\u001b[0m\u001b[1;33m\u001b[0m\u001b[0m\n\u001b[1;32m-> 3217\u001b[1;33m     \u001b[0moutputs\u001b[0m \u001b[1;33m=\u001b[0m \u001b[0mself\u001b[0m\u001b[1;33m.\u001b[0m\u001b[0m_graph_fn\u001b[0m\u001b[1;33m(\u001b[0m\u001b[1;33m*\u001b[0m\u001b[0mconverted_inputs\u001b[0m\u001b[1;33m)\u001b[0m\u001b[1;33m\u001b[0m\u001b[0m\n\u001b[0m\u001b[0;32m   3218\u001b[0m     return nest.pack_sequence_as(self._outputs_structure,\n\u001b[0;32m   3219\u001b[0m                                  [x.numpy() for x in outputs])\n",
      "\u001b[1;32m~\\Anaconda3\\envs\\DAMLA\\lib\\site-packages\\tensorflow\\python\\eager\\function.py\u001b[0m in \u001b[0;36m__call__\u001b[1;34m(self, *args, **kwargs)\u001b[0m\n\u001b[0;32m    556\u001b[0m       raise TypeError(\"Keyword arguments {} unknown. Expected {}.\".format(\n\u001b[0;32m    557\u001b[0m           list(kwargs.keys()), list(self._arg_keywords)))\n\u001b[1;32m--> 558\u001b[1;33m     \u001b[1;32mreturn\u001b[0m \u001b[0mself\u001b[0m\u001b[1;33m.\u001b[0m\u001b[0m_call_flat\u001b[0m\u001b[1;33m(\u001b[0m\u001b[0margs\u001b[0m\u001b[1;33m)\u001b[0m\u001b[1;33m\u001b[0m\u001b[0m\n\u001b[0m\u001b[0;32m    559\u001b[0m \u001b[1;33m\u001b[0m\u001b[0m\n\u001b[0;32m    560\u001b[0m   \u001b[1;32mdef\u001b[0m \u001b[0m_filtered_call\u001b[0m\u001b[1;33m(\u001b[0m\u001b[0mself\u001b[0m\u001b[1;33m,\u001b[0m \u001b[0margs\u001b[0m\u001b[1;33m,\u001b[0m \u001b[0mkwargs\u001b[0m\u001b[1;33m)\u001b[0m\u001b[1;33m:\u001b[0m\u001b[1;33m\u001b[0m\u001b[0m\n",
      "\u001b[1;32m~\\Anaconda3\\envs\\DAMLA\\lib\\site-packages\\tensorflow\\python\\eager\\function.py\u001b[0m in \u001b[0;36m_call_flat\u001b[1;34m(self, args)\u001b[0m\n\u001b[0;32m    625\u001b[0m     \u001b[1;31m# Only need to override the gradient in graph mode and when we have outputs.\u001b[0m\u001b[1;33m\u001b[0m\u001b[1;33m\u001b[0m\u001b[0m\n\u001b[0;32m    626\u001b[0m     \u001b[1;32mif\u001b[0m \u001b[0mcontext\u001b[0m\u001b[1;33m.\u001b[0m\u001b[0mexecuting_eagerly\u001b[0m\u001b[1;33m(\u001b[0m\u001b[1;33m)\u001b[0m \u001b[1;32mor\u001b[0m \u001b[1;32mnot\u001b[0m \u001b[0mself\u001b[0m\u001b[1;33m.\u001b[0m\u001b[0moutputs\u001b[0m\u001b[1;33m:\u001b[0m\u001b[1;33m\u001b[0m\u001b[0m\n\u001b[1;32m--> 627\u001b[1;33m       \u001b[0moutputs\u001b[0m \u001b[1;33m=\u001b[0m \u001b[0mself\u001b[0m\u001b[1;33m.\u001b[0m\u001b[0m_inference_function\u001b[0m\u001b[1;33m.\u001b[0m\u001b[0mcall\u001b[0m\u001b[1;33m(\u001b[0m\u001b[0mctx\u001b[0m\u001b[1;33m,\u001b[0m \u001b[0margs\u001b[0m\u001b[1;33m)\u001b[0m\u001b[1;33m\u001b[0m\u001b[0m\n\u001b[0m\u001b[0;32m    628\u001b[0m     \u001b[1;32melse\u001b[0m\u001b[1;33m:\u001b[0m\u001b[1;33m\u001b[0m\u001b[0m\n\u001b[0;32m    629\u001b[0m       \u001b[0mself\u001b[0m\u001b[1;33m.\u001b[0m\u001b[0m_register_gradient\u001b[0m\u001b[1;33m(\u001b[0m\u001b[1;33m)\u001b[0m\u001b[1;33m\u001b[0m\u001b[0m\n",
      "\u001b[1;32m~\\Anaconda3\\envs\\DAMLA\\lib\\site-packages\\tensorflow\\python\\eager\\function.py\u001b[0m in \u001b[0;36mcall\u001b[1;34m(self, ctx, args)\u001b[0m\n\u001b[0;32m    413\u001b[0m             attrs=(\"executor_type\", executor_type,\n\u001b[0;32m    414\u001b[0m                    \"config_proto\", config),\n\u001b[1;32m--> 415\u001b[1;33m             ctx=ctx)\n\u001b[0m\u001b[0;32m    416\u001b[0m       \u001b[1;31m# Replace empty list with None\u001b[0m\u001b[1;33m\u001b[0m\u001b[1;33m\u001b[0m\u001b[0m\n\u001b[0;32m    417\u001b[0m       \u001b[0moutputs\u001b[0m \u001b[1;33m=\u001b[0m \u001b[0moutputs\u001b[0m \u001b[1;32mor\u001b[0m \u001b[1;32mNone\u001b[0m\u001b[1;33m\u001b[0m\u001b[0m\n",
      "\u001b[1;32m~\\Anaconda3\\envs\\DAMLA\\lib\\site-packages\\tensorflow\\python\\eager\\execute.py\u001b[0m in \u001b[0;36mquick_execute\u001b[1;34m(op_name, num_outputs, inputs, attrs, ctx, name)\u001b[0m\n\u001b[0;32m     58\u001b[0m     tensors = pywrap_tensorflow.TFE_Py_Execute(ctx._handle, device_name,\n\u001b[0;32m     59\u001b[0m                                                \u001b[0mop_name\u001b[0m\u001b[1;33m,\u001b[0m \u001b[0minputs\u001b[0m\u001b[1;33m,\u001b[0m \u001b[0mattrs\u001b[0m\u001b[1;33m,\u001b[0m\u001b[1;33m\u001b[0m\u001b[0m\n\u001b[1;32m---> 60\u001b[1;33m                                                num_outputs)\n\u001b[0m\u001b[0;32m     61\u001b[0m   \u001b[1;32mexcept\u001b[0m \u001b[0mcore\u001b[0m\u001b[1;33m.\u001b[0m\u001b[0m_NotOkStatusException\u001b[0m \u001b[1;32mas\u001b[0m \u001b[0me\u001b[0m\u001b[1;33m:\u001b[0m\u001b[1;33m\u001b[0m\u001b[0m\n\u001b[0;32m     62\u001b[0m     \u001b[1;32mif\u001b[0m \u001b[0mname\u001b[0m \u001b[1;32mis\u001b[0m \u001b[1;32mnot\u001b[0m \u001b[1;32mNone\u001b[0m\u001b[1;33m:\u001b[0m\u001b[1;33m\u001b[0m\u001b[0m\n",
      "\u001b[1;31mKeyboardInterrupt\u001b[0m: "
     ]
    }
   ],
   "source": [
    "history2 = model.fit(train_images, train_target, validation_split=validation_split, epochs=100, batch_size=batch_size, verbose=1, shuffle=True)"
   ]
  }
 ],
 "metadata": {
  "kernelspec": {
   "display_name": "Python 3",
   "language": "python",
   "name": "python3"
  },
  "language_info": {
   "codemirror_mode": {
    "name": "ipython",
    "version": 3
   },
   "file_extension": ".py",
   "mimetype": "text/x-python",
   "name": "python",
   "nbconvert_exporter": "python",
   "pygments_lexer": "ipython3",
   "version": "3.6.6"
  }
 },
 "nbformat": 4,
 "nbformat_minor": 2
}
