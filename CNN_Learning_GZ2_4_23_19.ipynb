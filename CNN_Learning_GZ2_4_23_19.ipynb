{
 "cells": [
  {
   "cell_type": "code",
   "execution_count": 267,
   "metadata": {},
   "outputs": [],
   "source": [
    "import numpy as np\n",
    "import matplotlib.pyplot as plt\n",
    "#from __future__ import absolute_import, division, print_function\n",
    "\n",
    "\n",
    "# TensorFlow and tf.keras\n",
    "\n",
    "import pandas as pd\n",
    "\n",
    "\n",
    "processed_data = np.load('Full_array.npy')\n",
    "Blue_processed_data = np.load('Blue_Full_array.npy')\n",
    "Red_processed_data = np.load(\"RED_Full_array.npy\")\n",
    "#The size of the dataset is 10,000; but I only filled the first 9166 with values, the rest are zeros. (shouldn't be counted)\n",
    "number = 9166\n",
    "processed_data = processed_data[0:number]\n",
    "\n",
    "#np.random.seed(1)\n"
   ]
  },
  {
   "cell_type": "code",
   "execution_count": 268,
   "metadata": {},
   "outputs": [],
   "source": [
    "from PIL import Image\n",
    "from cv2 import resize\n",
    "from sklearn.utils import shuffle"
   ]
  },
  {
   "cell_type": "code",
   "execution_count": 269,
   "metadata": {},
   "outputs": [],
   "source": [
    "import tensorflow as tf\n",
    "from tensorflow import keras"
   ]
  },
  {
   "cell_type": "code",
   "execution_count": 270,
   "metadata": {},
   "outputs": [],
   "source": [
    "#hyperparameters:\n",
    "test_train_split = 0.75\n",
    "batch_size = 64\n",
    "epoch_number = 100\n",
    "validation_split = 0.15\n",
    "learning_rate = 2e-6\n",
    "dropout_rate = 0.45\n",
    "CNL1_filters = 32\n",
    "CNL1_kernal_size = 5\n",
    "MPL1_pool_size= (2,2)\n",
    "MPL1_strides = 2\n",
    "CNL2_filters = 64\n",
    "CNL2_kernal_size = 5\n",
    "MPL2_pool_size = (2,2)\n",
    "MPL2_strides = 2"
   ]
  },
  {
   "cell_type": "code",
   "execution_count": 271,
   "metadata": {},
   "outputs": [],
   "source": [
    "#I have a non-round number of examples\n",
    "train_split_indice = int(np.round(test_train_split*number))"
   ]
  },
  {
   "cell_type": "code",
   "execution_count": 272,
   "metadata": {},
   "outputs": [],
   "source": [
    "#Load in my dataset of targets, targets are strings labels under the name \"Class\"\n",
    "galaxyzoo = pd.read_csv(\"zoo2MainSpecz.csv/zoo2MainSpecz.csv\", usecols=[2,3,4,8,15,21,27], nrows=number)\n",
    "#galaxyzoo = pd.read_csv(\"zoo2MainSpecz.csv/zoo2MainSpecz.csv\", nrows=number)\n",
    "Class = galaxyzoo[\"gz2class\"].values\n",
    "RA = galaxyzoo['ra'].values\n",
    "DEC = galaxyzoo['dec'].values\n",
    "#Spiral = galaxyzoo['t01_smooth_or_features_a02_features_or_disk_debiased'].values\n",
    "#Elliptical = galaxyzoo['t01_smooth_or_features_a01_smooth_debiased'].values\n",
    "#Anythingelse = galaxyzoo['t01_smooth_or_features_a03_star_or_artifact_debiased'].values"
   ]
  },
  {
   "cell_type": "code",
   "execution_count": 273,
   "metadata": {},
   "outputs": [],
   "source": [
    "#I want to take the first character of the Class string and interpret as a integer, ala MNIST example code\n",
    "dictionary = {'A':int(2),'E':int(1),'S':int(0)}"
   ]
  },
  {
   "cell_type": "code",
   "execution_count": 274,
   "metadata": {},
   "outputs": [],
   "source": [
    "#resave using my dictionary\n",
    "target = np.empty((len(Class)))\n",
    "for i in range(len(Class)):\n",
    "    target[i] = int(dictionary[Class[i][0]])"
   ]
  },
  {
   "cell_type": "code",
   "execution_count": 275,
   "metadata": {},
   "outputs": [],
   "source": [
    "#split my data between training and test sets\n",
    "train_target = target[0:train_split_indice]\n",
    "test_target = target[train_split_indice:number]\n",
    "train_images = processed_data[0:train_split_indice]\n",
    "test_images = processed_data[train_split_indice:number]\n",
    "Blue_train_images = Blue_processed_data[0:train_split_indice]\n",
    "Blue_test_images = Blue_processed_data[train_split_indice::]\n",
    "Red_train_images = Red_processed_data[0:train_split_indice]\n",
    "Red_test_images = Red_processed_data[train_split_indice::]"
   ]
  },
  {
   "cell_type": "code",
   "execution_count": 276,
   "metadata": {},
   "outputs": [],
   "source": [
    "#reform into the tensor shape\n",
    "train_images_number = np.shape(train_images)[0]\n",
    "test_images_number = np.shape(test_images)[0]\n",
    "train_images = train_images.reshape(train_images_number,28,28,1)\n",
    "test_images = test_images.reshape(test_images_number,28,28,1)\n",
    "Blue_train_images = Blue_train_images.reshape(train_images_number,28,28,1)\n",
    "Blue_test_images = Blue_test_images.reshape(test_images_number,28,28,1)\n",
    "Red_train_images = Red_train_images.reshape(train_images_number,28,28,1)\n",
    "Red_test_images = Red_test_images.reshape(test_images_number,28,28,1)"
   ]
  },
  {
   "cell_type": "code",
   "execution_count": 277,
   "metadata": {},
   "outputs": [],
   "source": [
    "#shuffle the order of the augmented images randomly, shuffle the order of the targets the same way.\n",
    "#train_images, train_target = shuffle(train_images, train_target, random_state=1)"
   ]
  },
  {
   "cell_type": "code",
   "execution_count": 278,
   "metadata": {},
   "outputs": [
    {
     "name": "stdout",
     "output_type": "stream",
     "text": [
      "(6874, 28, 28, 1)\n",
      "(2292, 28, 28, 3)\n",
      "(6874, 28, 28, 3)\n"
     ]
    }
   ],
   "source": [
    "#Seems I need to pad the arrays with zeros to get to 32x32, then copy the values of the first monochromatic channel into 3 channels\n",
    "#to use tranfer learning\n",
    "print(np.shape(train_images))\n",
    "\n",
    "train_images_middle_step = np.append(Red_train_images, train_images, 3)\n",
    "train_images = np.append(train_images_middle_step, Blue_train_images, 3)\n",
    "\n",
    "test_images_middle_step = np.append(Red_test_images,test_images, 3)\n",
    "test_images = np.append(test_images_middle_step,Blue_test_images, 3)\n",
    "\n",
    "print(np.shape(test_images))\n",
    "print(np.shape(train_images))\n",
    "\n",
    "#consider saving this array in the future instead of wasting time re-running the damn thing."
   ]
  },
  {
   "cell_type": "code",
   "execution_count": 279,
   "metadata": {},
   "outputs": [],
   "source": [
    "#define my model, using a CNN with 2 Convolutional layers, 2 max pool layers, 1 dense layer, 1 drop out layer, and another dense layer \n",
    "def create_model(dropout_rate=dropout_rate, learning_rate=learning_rate):\n",
    "    \n",
    "    model = keras.Sequential([])\n",
    "    model.add(keras.layers.Conv2D(input_shape=(28,28,3),filters=CNL1_filters,kernel_size=CNL1_kernal_size,padding=\"same\",activation=tf.nn.relu))\n",
    "    model.add(keras.layers.MaxPool2D(pool_size=MPL1_pool_size, strides=MPL1_strides))\n",
    "    model.add(keras.layers.Conv2D(filters=CNL2_filters,kernel_size=CNL2_kernal_size,padding=\"same\",activation=tf.nn.relu))\n",
    "    model.add(keras.layers.MaxPool2D(pool_size=MPL2_pool_size,strides=MPL2_strides))\n",
    "    model.add(keras.layers.Reshape([7*7*64]))\n",
    "    model.add(keras.layers.Dense(units=1024,activation=tf.nn.relu))\n",
    "    model.add(keras.layers.Dropout(rate=dropout_rate))\n",
    "    model.add(keras.layers.Dense(units=3,activation=tf.nn.softmax))\n",
    "    adam = keras.optimizers.Adam(lr = learning_rate)\n",
    "    model.compile(optimizer=adam, loss='sparse_categorical_crossentropy',metrics=['accuracy'])\n",
    "    return(model)"
   ]
  },
  {
   "cell_type": "code",
   "execution_count": 280,
   "metadata": {},
   "outputs": [
    {
     "name": "stdout",
     "output_type": "stream",
     "text": [
      "Train on 5842 samples, validate on 1032 samples\n",
      "Epoch 1/100\n",
      "5842/5842 [==============================] - 20s 3ms/sample - loss: 1.0626 - accuracy: 0.4781 - val_loss: 0.7865 - val_accuracy: 0.6541\n",
      "Epoch 2/100\n",
      "5842/5842 [==============================] - 19s 3ms/sample - loss: 0.8536 - accuracy: 0.5775 - val_loss: 0.7137 - val_accuracy: 0.7006\n",
      "Epoch 3/100\n",
      "5842/5842 [==============================] - 19s 3ms/sample - loss: 0.7989 - accuracy: 0.6169 - val_loss: 0.6782 - val_accuracy: 0.7161\n",
      "Epoch 4/100\n",
      "5842/5842 [==============================] - 19s 3ms/sample - loss: 0.7668 - accuracy: 0.6301 - val_loss: 0.6557 - val_accuracy: 0.7258\n",
      "Epoch 5/100\n",
      "5842/5842 [==============================] - 21s 4ms/sample - loss: 0.7392 - accuracy: 0.6499 - val_loss: 0.6409 - val_accuracy: 0.7316\n",
      "Epoch 6/100\n",
      "5842/5842 [==============================] - 20s 3ms/sample - loss: 0.7381 - accuracy: 0.6541 - val_loss: 0.6331 - val_accuracy: 0.7209\n",
      "Epoch 7/100\n",
      "5842/5842 [==============================] - 21s 4ms/sample - loss: 0.7258 - accuracy: 0.6628 - val_loss: 0.6237 - val_accuracy: 0.7364\n",
      "Epoch 8/100\n",
      "5842/5842 [==============================] - 20s 3ms/sample - loss: 0.7003 - accuracy: 0.6638 - val_loss: 0.6175 - val_accuracy: 0.7384\n",
      "Epoch 9/100\n",
      "5842/5842 [==============================] - 20s 3ms/sample - loss: 0.6966 - accuracy: 0.6703 - val_loss: 0.6118 - val_accuracy: 0.7413\n",
      "Epoch 10/100\n",
      "5842/5842 [==============================] - 20s 3ms/sample - loss: 0.6820 - accuracy: 0.6782 - val_loss: 0.6082 - val_accuracy: 0.7422\n",
      "Epoch 11/100\n",
      "5842/5842 [==============================] - 20s 4ms/sample - loss: 0.6770 - accuracy: 0.6784 - val_loss: 0.6055 - val_accuracy: 0.7452\n",
      "Epoch 12/100\n",
      "5842/5842 [==============================] - 20s 3ms/sample - loss: 0.6807 - accuracy: 0.6784 - val_loss: 0.6029 - val_accuracy: 0.7490\n",
      "Epoch 13/100\n",
      "5842/5842 [==============================] - 21s 4ms/sample - loss: 0.6622 - accuracy: 0.6885 - val_loss: 0.6002 - val_accuracy: 0.7510\n",
      "Epoch 14/100\n",
      "5842/5842 [==============================] - 21s 4ms/sample - loss: 0.6596 - accuracy: 0.6921 - val_loss: 0.5975 - val_accuracy: 0.7548\n",
      "Epoch 15/100\n",
      "5842/5842 [==============================] - 21s 4ms/sample - loss: 0.6565 - accuracy: 0.6991 - val_loss: 0.5961 - val_accuracy: 0.7519\n",
      "Epoch 16/100\n",
      "5842/5842 [==============================] - 20s 3ms/sample - loss: 0.6414 - accuracy: 0.6962 - val_loss: 0.5923 - val_accuracy: 0.7529\n",
      "Epoch 17/100\n",
      "5842/5842 [==============================] - 19s 3ms/sample - loss: 0.6446 - accuracy: 0.6955 - val_loss: 0.5902 - val_accuracy: 0.7548\n",
      "Epoch 18/100\n",
      "5842/5842 [==============================] - 22s 4ms/sample - loss: 0.6376 - accuracy: 0.7059 - val_loss: 0.5888 - val_accuracy: 0.7548\n",
      "Epoch 19/100\n",
      "5842/5842 [==============================] - 21s 4ms/sample - loss: 0.6288 - accuracy: 0.7059 - val_loss: 0.5872 - val_accuracy: 0.7587\n",
      "Epoch 20/100\n",
      "5842/5842 [==============================] - 22s 4ms/sample - loss: 0.6275 - accuracy: 0.7068 - val_loss: 0.5857 - val_accuracy: 0.7616\n",
      "Epoch 21/100\n",
      "5842/5842 [==============================] - 20s 3ms/sample - loss: 0.6237 - accuracy: 0.7085 - val_loss: 0.5838 - val_accuracy: 0.7616\n",
      "Epoch 22/100\n",
      "5842/5842 [==============================] - 20s 3ms/sample - loss: 0.6157 - accuracy: 0.7150 - val_loss: 0.5823 - val_accuracy: 0.7636\n",
      "Epoch 23/100\n",
      "5842/5842 [==============================] - 21s 4ms/sample - loss: 0.6182 - accuracy: 0.7153 - val_loss: 0.5811 - val_accuracy: 0.7636\n",
      "Epoch 24/100\n",
      "5842/5842 [==============================] - 21s 4ms/sample - loss: 0.6094 - accuracy: 0.7141 - val_loss: 0.5803 - val_accuracy: 0.7597\n",
      "Epoch 25/100\n",
      "5842/5842 [==============================] - 21s 4ms/sample - loss: 0.6125 - accuracy: 0.7153 - val_loss: 0.5809 - val_accuracy: 0.7636\n",
      "Epoch 26/100\n",
      "5842/5842 [==============================] - 20s 3ms/sample - loss: 0.6083 - accuracy: 0.7160 - val_loss: 0.5789 - val_accuracy: 0.7626\n",
      "Epoch 27/100\n",
      "5842/5842 [==============================] - 21s 4ms/sample - loss: 0.6046 - accuracy: 0.7249 - val_loss: 0.5787 - val_accuracy: 0.7645\n",
      "Epoch 28/100\n",
      "5842/5842 [==============================] - 23s 4ms/sample - loss: 0.6114 - accuracy: 0.7167 - val_loss: 0.5761 - val_accuracy: 0.7636\n",
      "Epoch 29/100\n",
      "5842/5842 [==============================] - 22s 4ms/sample - loss: 0.5977 - accuracy: 0.7275 - val_loss: 0.5775 - val_accuracy: 0.7674\n",
      "Epoch 30/100\n",
      "5842/5842 [==============================] - 23s 4ms/sample - loss: 0.6045 - accuracy: 0.7244 - val_loss: 0.5739 - val_accuracy: 0.7655\n",
      "Epoch 31/100\n",
      "5842/5842 [==============================] - 21s 4ms/sample - loss: 0.5917 - accuracy: 0.7369 - val_loss: 0.5737 - val_accuracy: 0.7694\n",
      "Epoch 32/100\n",
      "5842/5842 [==============================] - 20s 3ms/sample - loss: 0.5915 - accuracy: 0.7220 - val_loss: 0.5712 - val_accuracy: 0.7655\n",
      "Epoch 33/100\n",
      "5842/5842 [==============================] - 20s 3ms/sample - loss: 0.5895 - accuracy: 0.7357 - val_loss: 0.5718 - val_accuracy: 0.7694\n",
      "Epoch 34/100\n",
      "5842/5842 [==============================] - 19s 3ms/sample - loss: 0.5883 - accuracy: 0.7319 - val_loss: 0.5705 - val_accuracy: 0.7713\n",
      "Epoch 35/100\n",
      "5842/5842 [==============================] - 20s 3ms/sample - loss: 0.5865 - accuracy: 0.7328 - val_loss: 0.5696 - val_accuracy: 0.7674\n",
      "Epoch 36/100\n",
      "5842/5842 [==============================] - 20s 3ms/sample - loss: 0.5850 - accuracy: 0.7393 - val_loss: 0.5680 - val_accuracy: 0.7684\n",
      "Epoch 37/100\n",
      "5842/5842 [==============================] - 19s 3ms/sample - loss: 0.5867 - accuracy: 0.7343 - val_loss: 0.5708 - val_accuracy: 0.7771\n",
      "Epoch 38/100\n",
      "5842/5842 [==============================] - 20s 3ms/sample - loss: 0.5861 - accuracy: 0.7314 - val_loss: 0.5668 - val_accuracy: 0.7723\n",
      "Epoch 39/100\n",
      "5842/5842 [==============================] - 25s 4ms/sample - loss: 0.5745 - accuracy: 0.7429 - val_loss: 0.5659 - val_accuracy: 0.7762\n",
      "Epoch 40/100\n",
      "5842/5842 [==============================] - 21s 4ms/sample - loss: 0.5816 - accuracy: 0.7323 - val_loss: 0.5643 - val_accuracy: 0.7733\n",
      "Epoch 41/100\n",
      "5842/5842 [==============================] - 22s 4ms/sample - loss: 0.5688 - accuracy: 0.7456 - val_loss: 0.5653 - val_accuracy: 0.7723\n",
      "Epoch 42/100\n",
      "5842/5842 [==============================] - 19s 3ms/sample - loss: 0.5755 - accuracy: 0.7450 - val_loss: 0.5634 - val_accuracy: 0.7742\n",
      "Epoch 43/100\n",
      "5842/5842 [==============================] - 20s 3ms/sample - loss: 0.5688 - accuracy: 0.7456 - val_loss: 0.5650 - val_accuracy: 0.7771\n",
      "Epoch 44/100\n",
      "5842/5842 [==============================] - 25s 4ms/sample - loss: 0.5705 - accuracy: 0.7422 - val_loss: 0.5621 - val_accuracy: 0.7723\n",
      "Epoch 45/100\n",
      "5842/5842 [==============================] - 19s 3ms/sample - loss: 0.5710 - accuracy: 0.7412 - val_loss: 0.5615 - val_accuracy: 0.7762\n",
      "Epoch 46/100\n",
      "5842/5842 [==============================] - 20s 3ms/sample - loss: 0.5681 - accuracy: 0.7487 - val_loss: 0.5608 - val_accuracy: 0.7733\n",
      "Epoch 47/100\n",
      "5842/5842 [==============================] - 19s 3ms/sample - loss: 0.5655 - accuracy: 0.7448 - val_loss: 0.5612 - val_accuracy: 0.7781\n",
      "Epoch 48/100\n",
      "5842/5842 [==============================] - 19s 3ms/sample - loss: 0.5576 - accuracy: 0.7521 - val_loss: 0.5591 - val_accuracy: 0.7742\n",
      "Epoch 49/100\n",
      "5842/5842 [==============================] - 22s 4ms/sample - loss: 0.5682 - accuracy: 0.7489 - val_loss: 0.5582 - val_accuracy: 0.7771\n",
      "Epoch 50/100\n",
      "5842/5842 [==============================] - 21s 4ms/sample - loss: 0.5597 - accuracy: 0.7562 - val_loss: 0.5607 - val_accuracy: 0.7810\n",
      "Epoch 51/100\n",
      "5842/5842 [==============================] - 20s 3ms/sample - loss: 0.5609 - accuracy: 0.7559 - val_loss: 0.5586 - val_accuracy: 0.7771\n",
      "Epoch 52/100\n",
      "5842/5842 [==============================] - 20s 3ms/sample - loss: 0.5636 - accuracy: 0.7506 - val_loss: 0.5587 - val_accuracy: 0.7791\n",
      "Epoch 53/100\n",
      "5842/5842 [==============================] - 20s 3ms/sample - loss: 0.5568 - accuracy: 0.7527 - val_loss: 0.5606 - val_accuracy: 0.7800\n",
      "Epoch 54/100\n",
      "5842/5842 [==============================] - 20s 3ms/sample - loss: 0.5603 - accuracy: 0.7503 - val_loss: 0.5560 - val_accuracy: 0.7820\n",
      "Epoch 55/100\n",
      "5842/5842 [==============================] - 20s 3ms/sample - loss: 0.5567 - accuracy: 0.7559 - val_loss: 0.5560 - val_accuracy: 0.7762\n"
     ]
    },
    {
     "name": "stdout",
     "output_type": "stream",
     "text": [
      "Epoch 56/100\n",
      "5842/5842 [==============================] - 23s 4ms/sample - loss: 0.5548 - accuracy: 0.7588 - val_loss: 0.5567 - val_accuracy: 0.7781\n",
      "Epoch 57/100\n",
      "5842/5842 [==============================] - 20s 3ms/sample - loss: 0.5589 - accuracy: 0.7518 - val_loss: 0.5543 - val_accuracy: 0.7829\n",
      "Epoch 58/100\n",
      "5842/5842 [==============================] - 20s 3ms/sample - loss: 0.5538 - accuracy: 0.7566 - val_loss: 0.5586 - val_accuracy: 0.7713\n",
      "Epoch 59/100\n",
      "5842/5842 [==============================] - 21s 4ms/sample - loss: 0.5534 - accuracy: 0.7633 - val_loss: 0.5564 - val_accuracy: 0.7800\n",
      "Epoch 60/100\n",
      "5842/5842 [==============================] - 23s 4ms/sample - loss: 0.5495 - accuracy: 0.7576 - val_loss: 0.5518 - val_accuracy: 0.7820\n",
      "Epoch 61/100\n",
      "5842/5842 [==============================] - 19s 3ms/sample - loss: 0.5469 - accuracy: 0.7602 - val_loss: 0.5548 - val_accuracy: 0.7791\n",
      "Epoch 62/100\n",
      "5842/5842 [==============================] - 19s 3ms/sample - loss: 0.5416 - accuracy: 0.7674 - val_loss: 0.5551 - val_accuracy: 0.7762\n",
      "Epoch 63/100\n",
      "5842/5842 [==============================] - 21s 4ms/sample - loss: 0.5490 - accuracy: 0.7612 - val_loss: 0.5519 - val_accuracy: 0.7791\n",
      "Epoch 64/100\n",
      "5842/5842 [==============================] - 20s 3ms/sample - loss: 0.5446 - accuracy: 0.7616 - val_loss: 0.5543 - val_accuracy: 0.7791\n",
      "Epoch 65/100\n",
      "5842/5842 [==============================] - 19s 3ms/sample - loss: 0.5484 - accuracy: 0.7595 - val_loss: 0.5512 - val_accuracy: 0.7762\n",
      "Epoch 66/100\n",
      "5842/5842 [==============================] - 19s 3ms/sample - loss: 0.5429 - accuracy: 0.7614 - val_loss: 0.5502 - val_accuracy: 0.7771\n",
      "Epoch 67/100\n",
      "5842/5842 [==============================] - 20s 3ms/sample - loss: 0.5433 - accuracy: 0.7600 - val_loss: 0.5505 - val_accuracy: 0.7781\n",
      "Epoch 68/100\n",
      "5842/5842 [==============================] - 19s 3ms/sample - loss: 0.5418 - accuracy: 0.7622 - val_loss: 0.5530 - val_accuracy: 0.7791\n",
      "Epoch 69/100\n",
      "5842/5842 [==============================] - 20s 3ms/sample - loss: 0.5430 - accuracy: 0.7682 - val_loss: 0.5525 - val_accuracy: 0.7771\n",
      "Epoch 70/100\n",
      "5842/5842 [==============================] - 21s 4ms/sample - loss: 0.5458 - accuracy: 0.7633 - val_loss: 0.5520 - val_accuracy: 0.7820\n",
      "Epoch 71/100\n",
      "5842/5842 [==============================] - 24s 4ms/sample - loss: 0.5363 - accuracy: 0.7669 - val_loss: 0.5589 - val_accuracy: 0.7548\n",
      "Epoch 72/100\n",
      "5842/5842 [==============================] - 25s 4ms/sample - loss: 0.5406 - accuracy: 0.7602 - val_loss: 0.5505 - val_accuracy: 0.7800\n",
      "Epoch 73/100\n",
      "5842/5842 [==============================] - 24s 4ms/sample - loss: 0.5344 - accuracy: 0.7691 - val_loss: 0.5485 - val_accuracy: 0.7800\n",
      "Epoch 74/100\n",
      "5842/5842 [==============================] - 21s 4ms/sample - loss: 0.5373 - accuracy: 0.7670 - val_loss: 0.5481 - val_accuracy: 0.7781\n",
      "Epoch 75/100\n",
      "5842/5842 [==============================] - 24s 4ms/sample - loss: 0.5319 - accuracy: 0.7646 - val_loss: 0.5451 - val_accuracy: 0.7781\n",
      "Epoch 76/100\n",
      "5842/5842 [==============================] - 20s 3ms/sample - loss: 0.5338 - accuracy: 0.7691 - val_loss: 0.5487 - val_accuracy: 0.7810\n",
      "Epoch 77/100\n",
      "5842/5842 [==============================] - 19s 3ms/sample - loss: 0.5385 - accuracy: 0.7699 - val_loss: 0.5498 - val_accuracy: 0.7723\n",
      "Epoch 78/100\n",
      "5842/5842 [==============================] - 22s 4ms/sample - loss: 0.5346 - accuracy: 0.7651 - val_loss: 0.5478 - val_accuracy: 0.7791\n",
      "Epoch 79/100\n",
      "5842/5842 [==============================] - 19s 3ms/sample - loss: 0.5333 - accuracy: 0.7694 - val_loss: 0.5500 - val_accuracy: 0.7684\n",
      "Epoch 80/100\n",
      "5842/5842 [==============================] - 22s 4ms/sample - loss: 0.5314 - accuracy: 0.7672 - val_loss: 0.5494 - val_accuracy: 0.7703\n",
      "Epoch 81/100\n",
      "5842/5842 [==============================] - 21s 4ms/sample - loss: 0.5335 - accuracy: 0.7669 - val_loss: 0.5485 - val_accuracy: 0.7762\n",
      "Epoch 82/100\n",
      "5842/5842 [==============================] - 22s 4ms/sample - loss: 0.5288 - accuracy: 0.7722 - val_loss: 0.5483 - val_accuracy: 0.7733\n",
      "Epoch 83/100\n",
      "5842/5842 [==============================] - 20s 3ms/sample - loss: 0.5287 - accuracy: 0.7722 - val_loss: 0.5472 - val_accuracy: 0.7752\n",
      "Epoch 84/100\n",
      "5842/5842 [==============================] - 20s 3ms/sample - loss: 0.5303 - accuracy: 0.7699 - val_loss: 0.5455 - val_accuracy: 0.7800\n",
      "Epoch 85/100\n",
      "5842/5842 [==============================] - 20s 3ms/sample - loss: 0.5212 - accuracy: 0.7718 - val_loss: 0.5443 - val_accuracy: 0.7829\n",
      "Epoch 86/100\n",
      "5842/5842 [==============================] - 21s 4ms/sample - loss: 0.5270 - accuracy: 0.7670 - val_loss: 0.5463 - val_accuracy: 0.7762\n",
      "Epoch 87/100\n",
      "5842/5842 [==============================] - 20s 3ms/sample - loss: 0.5225 - accuracy: 0.7746 - val_loss: 0.5442 - val_accuracy: 0.7781\n",
      "Epoch 88/100\n",
      "5842/5842 [==============================] - 19s 3ms/sample - loss: 0.5247 - accuracy: 0.7693 - val_loss: 0.5478 - val_accuracy: 0.7636\n",
      "Epoch 89/100\n",
      "5842/5842 [==============================] - 19s 3ms/sample - loss: 0.5252 - accuracy: 0.7759 - val_loss: 0.5463 - val_accuracy: 0.7665\n",
      "Epoch 90/100\n",
      "5842/5842 [==============================] - 19s 3ms/sample - loss: 0.5261 - accuracy: 0.7703 - val_loss: 0.5440 - val_accuracy: 0.7762\n",
      "Epoch 91/100\n",
      "5842/5842 [==============================] - 18s 3ms/sample - loss: 0.5205 - accuracy: 0.7752 - val_loss: 0.5415 - val_accuracy: 0.7820\n",
      "Epoch 92/100\n",
      "5842/5842 [==============================] - 18s 3ms/sample - loss: 0.5260 - accuracy: 0.7734 - val_loss: 0.5434 - val_accuracy: 0.7771\n",
      "Epoch 93/100\n",
      "5842/5842 [==============================] - 18s 3ms/sample - loss: 0.5193 - accuracy: 0.7744 - val_loss: 0.5437 - val_accuracy: 0.7742\n",
      "Epoch 94/100\n",
      "5842/5842 [==============================] - 19s 3ms/sample - loss: 0.5218 - accuracy: 0.7800 - val_loss: 0.5439 - val_accuracy: 0.7713\n",
      "Epoch 95/100\n",
      "5842/5842 [==============================] - 19s 3ms/sample - loss: 0.5201 - accuracy: 0.7783 - val_loss: 0.5416 - val_accuracy: 0.7800\n",
      "Epoch 96/100\n",
      "5842/5842 [==============================] - 19s 3ms/sample - loss: 0.5202 - accuracy: 0.7795 - val_loss: 0.5434 - val_accuracy: 0.7752\n",
      "Epoch 97/100\n",
      "5842/5842 [==============================] - 20s 3ms/sample - loss: 0.5169 - accuracy: 0.7792 - val_loss: 0.5505 - val_accuracy: 0.7481\n",
      "Epoch 98/100\n",
      "5842/5842 [==============================] - 19s 3ms/sample - loss: 0.5183 - accuracy: 0.7783 - val_loss: 0.5444 - val_accuracy: 0.7713\n",
      "Epoch 99/100\n",
      "5842/5842 [==============================] - 19s 3ms/sample - loss: 0.5175 - accuracy: 0.7759 - val_loss: 0.5431 - val_accuracy: 0.7723\n",
      "Epoch 100/100\n",
      "5842/5842 [==============================] - 19s 3ms/sample - loss: 0.5158 - accuracy: 0.7806 - val_loss: 0.5467 - val_accuracy: 0.7548\n"
     ]
    }
   ],
   "source": [
    "#lets try training one epoch at a time and seeing what epoch when we maximize our accuracy; I fear overtraining\n",
    "\n",
    "#OTHER than that, my next idea is to change the architecture.... eventually I will need to build a RESnet anyways\n",
    "model = create_model(dropout_rate=dropout_rate, learning_rate = learning_rate)\n",
    "history = model.fit(train_images, train_target, epochs=epoch_number,validation_split=validation_split, batch_size=batch_size, verbose=1, shuffle=True)"
   ]
  },
  {
   "cell_type": "code",
   "execution_count": 281,
   "metadata": {},
   "outputs": [
    {
     "name": "stdout",
     "output_type": "stream",
     "text": [
      "dict_keys(['loss', 'accuracy', 'val_loss', 'val_accuracy'])\n"
     ]
    }
   ],
   "source": [
    "print(history.history.keys())"
   ]
  },
  {
   "cell_type": "code",
   "execution_count": 282,
   "metadata": {},
   "outputs": [
    {
     "data": {
      "image/png": "[encoded data removed]",
      "text/plain": [
       "<Figure size 432x288 with 1 Axes>"
      ]
     },
     "metadata": {},
     "output_type": "display_data"
    },
    {
     "data": {
      "image/png": "[encoded data removed]",
      "text/plain": [
       "<Figure size 432x288 with 1 Axes>"
      ]
     },
     "metadata": {},
     "output_type": "display_data"
    }
   ],
   "source": [
    "# summarize history for accuracy\n",
    "plt.plot(history.history['accuracy'])\n",
    "plt.plot(history.history['val_accuracy'])\n",
    "plt.title('model accuracy')\n",
    "plt.ylabel('accuracy')\n",
    "plt.xlabel('epoch')\n",
    "plt.legend(['train', 'test'], loc='upper left')\n",
    "plt.show()\n",
    "# summarize history for loss\n",
    "plt.plot(history.history['loss'])\n",
    "plt.plot(history.history['val_loss'])\n",
    "plt.title('model loss')\n",
    "plt.ylabel('loss')\n",
    "plt.xlabel('epoch')\n",
    "plt.legend(['train', 'test'], loc='upper left')\n",
    "plt.show()"
   ]
  },
  {
   "cell_type": "code",
   "execution_count": 283,
   "metadata": {},
   "outputs": [
    {
     "name": "stdout",
     "output_type": "stream",
     "text": [
      "2292/2292 [==============================] - 2s 886us/sample - loss: 0.5479 - accuracy: 0.7771\n",
      "Test accuracy: 0.7770506\n",
      "Test loss: 0.5478923489286013\n"
     ]
    }
   ],
   "source": [
    "#model.summary()\n",
    "test_loss, test_acc = model.evaluate(test_images, test_target)\n",
    "print('Test accuracy:', test_acc)\n",
    "print('Test loss:', test_loss)\n",
    "#High variability in my loss metric resulted in random flutuations. However, my test set scores just as well as my validation\n",
    "#which is worrying. It either means I am over training on my first set, or my LR is too high. Lr not clear what was set to. \n",
    "#maybe 3e-5?\n",
    "\n",
    "#setting lr to 3e-9 to reduce volatility. not learning enough. hard to gauge volatility when nothing learned\n",
    "\n",
    "#setting lr 3e-7 to increase learning. volatility decresed significantly training wasnt saturated with only 50 epochs bringing \n",
    "#train learning to ~.70. validation was higher than train accuracy(????) and at ~.75?\n",
    "\n",
    "#increasing lr to 1e-6, otherwise may go back to 3e-7 and run more epochs. loss seemed to convege, but very weird that it was so\n",
    "#low.\n",
    "\n",
    "#lr= 1e-6 worked, but I am getting low accuracy... I am going to change dropout from 0.45 to 0.3, batch size from 32 to 16, and\n",
    "#lr to 1e-5. if that is volatile, I will consider moving back to lr=1e-6 and run more epochs. I am very sure that I am getting\n",
    "#stuck in a local minimum because before with the higher LR my train accuracy was at 0.9 after 50 epochs, now i'm only getting to\n",
    "#0.74 and seemingly converging...\n",
    "\n",
    "#okay something is wrong with lr=1e-5, dropout=0.25, batch_size=16 ... lets set that lr lower...\n",
    "\n",
    "# at 7e-6, the training score increased to an accuracy of 85, but the validation didnt increase past 0.75. I think I need to \n",
    "#lower the LR a bit more. trying 3e-6.\n",
    "\n",
    "#3e-6 did the same as 7e-6: loss quickly went to 0.54-55 and acuracy flutters around 0.7-.75... lowering lr to 1e-6\n",
    "\n",
    "#lowering to 1e-6 seemed and training for 100 epochs, I seemed to have begun to overtrain around epoch 25. There seems to be more\n",
    "#potential for more epochs as well, my training set loss continues to linearly fall, ts just that the validation doesn't follow\n",
    "#I will move to slightly increase dropout from 0.4 to 0.45, increase batch size from 16 to 64, and increase lr to 2e-6 to combat\n",
    "#overtraining. after I will consider running for a really giant amount of epochs, then move to transfer learning.\n",
    "\n",
    "#neat, it improved a little bit, definitely only began overtraining at epoch ~90 instead of ~25... But didn't really improve \n",
    "#accuracy, so what the fucking fuck."
   ]
  }
 ],
 "metadata": {
  "kernelspec": {
   "display_name": "Python 3",
   "language": "python",
   "name": "python3"
  },
  "language_info": {
   "codemirror_mode": {
    "name": "ipython",
    "version": 3
   },
   "file_extension": ".py",
   "mimetype": "text/x-python",
   "name": "python",
   "nbconvert_exporter": "python",
   "pygments_lexer": "ipython3",
   "version": "3.6.6"
  }
 },
 "nbformat": 4,
 "nbformat_minor": 2
}
