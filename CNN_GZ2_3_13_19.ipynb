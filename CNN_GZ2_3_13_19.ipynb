{
 "cells": [
  {
   "cell_type": "code",
   "execution_count": 2,
   "metadata": {},
   "outputs": [],
   "source": [
    "import numpy as np\n",
    "import matplotlib.pyplot as plt\n",
    "from __future__ import absolute_import, division, print_function\n",
    "\n",
    "# TensorFlow and tf.keras\n",
    "import tensorflow as tf\n",
    "processed_data = np.load('Full_array.npy')\n",
    "\n",
    "from tensorflow import keras\n",
    "\n",
    "import pandas as pd\n",
    "\n",
    "#The size of the dataset is 10,000; but I only filled the first 9166 with values, the rest are zeros.\n",
    "number = 9166\n",
    "processed_data = processed_data[0:number]\n",
    "\n",
    "np.random.seed(1)\n",
    "tf.set_random_seed(1)"
   ]
  },
  {
   "cell_type": "code",
   "execution_count": 3,
   "metadata": {},
   "outputs": [],
   "source": [
    "#hyperparameters:\n",
    "test_train_split = 0.85\n",
    "batch_size = 32\n",
    "epoch_number = 15\n",
    "learning_rate = 0.1\n",
    "dropout_rate = 0.4\n",
    "CNL1_filters = 32\n",
    "CNL1_kernal_size = 5\n",
    "MPL1_pool_size= (2,2)\n",
    "MPL1_strides = 2\n",
    "CNL2_filters = 64\n",
    "CNL2_kernal_size = 5\n",
    "MPL2_pool_size = (2,2)\n",
    "MPL2_strides = 2\n",
    "\n",
    "#I have a non-round number of examples\n",
    "train_split_indice = int(np.round(test_train_split*number))"
   ]
  },
  {
   "cell_type": "code",
   "execution_count": 4,
   "metadata": {},
   "outputs": [],
   "source": [
    "#Load in my dataset of targets, targets are strings labels under the name \"Class\"\n",
    "galaxyzoo = pd.read_csv(\"zoo2MainSpecz.csv/zoo2MainSpecz.csv\", usecols=[2,3,4,8], nrows=number)\n",
    "Class = galaxyzoo[\"gz2class\"].values\n",
    "RA = galaxyzoo['ra'].values\n",
    "DEC = galaxyzoo['dec'].values"
   ]
  },
  {
   "cell_type": "code",
   "execution_count": 5,
   "metadata": {},
   "outputs": [],
   "source": [
    "#I want to take the first character of the Class string and interpret as a integer, ala MNIST example code\n",
    "dictionary = {'A':int(2),'E':int(1),'S':int(0)}"
   ]
  },
  {
   "cell_type": "code",
   "execution_count": 6,
   "metadata": {},
   "outputs": [],
   "source": [
    "#resave using my dictionary\n",
    "target = np.empty((len(Class)))\n",
    "for i in range(len(Class)):\n",
    "    target[i] = int(dictionary[Class[i][0]])"
   ]
  },
  {
   "cell_type": "code",
   "execution_count": 7,
   "metadata": {},
   "outputs": [],
   "source": [
    "#split my data between training and test sets\n",
    "train_target = target[0:train_split_indice]\n",
    "test_target = target[train_split_indice:number]\n",
    "train_images = processed_data[0:train_split_indice]\n",
    "test_images = processed_data[train_split_indice:number]\n",
    "\n",
    "train_images = train_images.reshape(train_split_indice,28,28,1)\n",
    "test_images = test_images.reshape(train_split_indice-number,28,28,1)"
   ]
  },
  {
   "cell_type": "code",
   "execution_count": 8,
   "metadata": {},
   "outputs": [],
   "source": [
    "#define my model, using a CNN with 2 CNL layers, 2 max pool layers, 1 dense layer, 1 drop out layer, and another dense layer \n",
    "model = keras.Sequential([])\n",
    "model.add(keras.layers.Conv2D(input_shape=(28,28,1),filters=CNL1_filters,kernel_size=CNL1_kernal_size,padding=\"same\",activation=tf.nn.relu))\n",
    "model.add(keras.layers.MaxPool2D(pool_size=MPL1_pool_size, strides=MPL1_strides))\n",
    "model.add(keras.layers.Conv2D(filters=CNL2_filters,kernel_size=CNL2_kernal_size,padding=\"same\",activation=tf.nn.relu))\n",
    "model.add(keras.layers.MaxPool2D(pool_size=MPL2_pool_size,strides=MPL2_strides))\n",
    "model.add(keras.layers.Reshape([7*7*64]))\n",
    "model.add(keras.layers.Dense(units=1024,activation=tf.nn.relu))\n",
    "model.add(keras.layers.Dropout(rate=dropout_rate))\n",
    "model.add(keras.layers.Dense(units=3,activation=tf.nn.softmax))"
   ]
  },
  {
   "cell_type": "code",
   "execution_count": 18,
   "metadata": {},
   "outputs": [],
   "source": [
    "model.compile(optimizer='adam', \n",
    "              loss='sparse_categorical_crossentropy',\n",
    "              metrics=['accuracy'])"
   ]
  },
  {
   "cell_type": "code",
   "execution_count": 133,
   "metadata": {},
   "outputs": [
    {
     "name": "stdout",
     "output_type": "stream",
     "text": [
      "Epoch 1/1\n",
      "7791/7791 [==============================] - 49s 6ms/step - loss: 0.6750 - acc: 0.7189\n",
      "Epoch 1/1\n",
      "7791/7791 [==============================] - 46s 6ms/step - loss: 0.5240 - acc: 0.7605\n",
      "Epoch 1/1\n",
      "7791/7791 [==============================] - 46s 6ms/step - loss: 0.5005 - acc: 0.7753\n",
      "Epoch 1/1\n",
      "7791/7791 [==============================] - 49s 6ms/step - loss: 0.4991 - acc: 0.7796\n",
      "Epoch 1/1\n",
      "7791/7791 [==============================] - 51s 7ms/step - loss: 0.4954 - acc: 0.7719\n",
      "Epoch 1/1\n",
      "7791/7791 [==============================] - 51s 7ms/step - loss: 0.4842 - acc: 0.7835\n",
      "Epoch 1/1\n",
      "7791/7791 [==============================] - 51s 7ms/step - loss: 0.4868 - acc: 0.7795\n",
      "Epoch 1/1\n",
      "7791/7791 [==============================] - 52s 7ms/step - loss: 0.4633 - acc: 0.7931\n",
      "Epoch 1/1\n",
      "7791/7791 [==============================] - 51s 7ms/step - loss: 0.4495 - acc: 0.8073\n",
      "Epoch 1/1\n",
      "7791/7791 [==============================] - 51s 7ms/step - loss: 0.4411 - acc: 0.8054\n",
      "Epoch 1/1\n",
      "7791/7791 [==============================] - 52s 7ms/step - loss: 0.4359 - acc: 0.8050\n",
      "Epoch 1/1\n",
      "7791/7791 [==============================] - 51s 7ms/step - loss: 0.4231 - acc: 0.8183\n",
      "Epoch 1/1\n",
      "7791/7791 [==============================] - 51s 7ms/step - loss: 0.4231 - acc: 0.8107\n",
      "Epoch 1/1\n",
      "7791/7791 [==============================] - 53s 7ms/step - loss: 0.4105 - acc: 0.8209\n",
      "Epoch 1/1\n",
      "7791/7791 [==============================] - 54s 7ms/step - loss: 0.4109 - acc: 0.8231\n"
     ]
    }
   ],
   "source": [
    "#lets get fancy with batching. Lets try something from the internet\n",
    "#model.fit(train_images, train_target, epochs=epoch_number) #this works though so we can always come back\n",
    "\n",
    "for i in range(epoch_number):\n",
    "    model.fit(train_images, train_target, epochs=1, batch_size=batch_size, verbose=1, shuffle=False)"
   ]
  },
  {
   "cell_type": "code",
   "execution_count": 124,
   "metadata": {},
   "outputs": [
    {
     "name": "stdout",
     "output_type": "stream",
     "text": [
      "_________________________________________________________________\n",
      "Layer (type)                 Output Shape              Param #   \n",
      "=================================================================\n",
      "conv2d_28 (Conv2D)           (None, 28, 28, 32)        832       \n",
      "_________________________________________________________________\n",
      "max_pooling2d_28 (MaxPooling (None, 14, 14, 32)        0         \n",
      "_________________________________________________________________\n",
      "conv2d_29 (Conv2D)           (None, 14, 14, 64)        51264     \n",
      "_________________________________________________________________\n",
      "max_pooling2d_29 (MaxPooling (None, 7, 7, 64)          0         \n",
      "_________________________________________________________________\n",
      "reshape_14 (Reshape)         (None, 3136)              0         \n",
      "_________________________________________________________________\n",
      "dense_28 (Dense)             (None, 1024)              3212288   \n",
      "_________________________________________________________________\n",
      "dropout_14 (Dropout)         (None, 1024)              0         \n",
      "_________________________________________________________________\n",
      "dense_29 (Dense)             (None, 3)                 3075      \n",
      "=================================================================\n",
      "Total params: 3,267,459\n",
      "Trainable params: 3,267,459\n",
      "Non-trainable params: 0\n",
      "_________________________________________________________________\n"
     ]
    }
   ],
   "source": [
    "model.summary()"
   ]
  },
  {
   "cell_type": "code",
   "execution_count": 134,
   "metadata": {},
   "outputs": [
    {
     "name": "stdout",
     "output_type": "stream",
     "text": [
      "1375/1375 [==============================] - 3s 2ms/step\n",
      "Test accuracy: 0.8290909091776067\n"
     ]
    }
   ],
   "source": [
    "test_loss, test_acc = model.evaluate(test_images.reshape(number - train_split_indice,28,28,1), test_target)\n",
    "print('Test accuracy:', test_acc)"
   ]
  },
  {
   "cell_type": "code",
   "execution_count": 22,
   "metadata": {},
   "outputs": [
    {
     "data": {
      "image/png": "[encoded data removed]",
      "text/plain": [
       "<Figure size 432x288 with 1 Axes>"
      ]
     },
     "metadata": {},
     "output_type": "display_data"
    },
    {
     "name": "stdout",
     "output_type": "stream",
     "text": [
      "Classification of image: 0.0\n",
      "indice of image: 1375\n"
     ]
    }
   ],
   "source": [
    "plt.imshow(test_images.reshape(number-train_split_indice,28,28)[0])\n",
    "plt.show()\n",
    "print(\"Classification of image:\",test_target[0])\n",
    "print(\"indice of image:\",number-train_split_indice)"
   ]
  }
 ],
 "metadata": {
  "kernelspec": {
   "display_name": "Python 3",
   "language": "python",
   "name": "python3"
  },
  "language_info": {
   "codemirror_mode": {
    "name": "ipython",
    "version": 3
   },
   "file_extension": ".py",
   "mimetype": "text/x-python",
   "name": "python",
   "nbconvert_exporter": "python",
   "pygments_lexer": "ipython3",
   "version": "3.6.6"
  }
 },
 "nbformat": 4,
 "nbformat_minor": 2
}
