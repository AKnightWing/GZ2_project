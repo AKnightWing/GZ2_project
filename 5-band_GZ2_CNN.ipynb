{
 "cells": [
  {
   "cell_type": "code",
   "execution_count": 252,
   "metadata": {},
   "outputs": [],
   "source": [
    "import numpy as np\n",
    "import pandas as pd\n",
    "import matplotlib.pyplot as plt\n",
    "import tensorflow as tf\n",
    "from tensorflow import keras\n",
    "import datetime\n",
    "import os\n",
    "from sklearn.metrics import roc_auc_score"
   ]
  },
  {
   "cell_type": "code",
   "execution_count": 253,
   "metadata": {},
   "outputs": [],
   "source": [
    "#https://stackoverflow.com/questions/41032551/how-to-compute-receiving-operating-characteristic-roc-and-auc-in-keras\n",
    "def auroc(y_true, y_pred):\n",
    "    return tf.py_func(roc_auc_score, (y_true, y_pred), tf.double)"
   ]
  },
  {
   "cell_type": "code",
   "execution_count": 254,
   "metadata": {},
   "outputs": [],
   "source": [
    "#input variables\n",
    "path = 'image_arrays'\n",
    "\n",
    "#model variables\n",
    "test_train_split = 0.75\n",
    "batch_size = 128\n",
    "epoch_number = 100\n",
    "validation_split = 0.15\n",
    "learning_rate = 5e-7\n",
    "dropout_rate = 0.50\n",
    "\n",
    "#architecture variables\n",
    "CNL1_filters = 32\n",
    "CNL1_kernal_size = 5\n",
    "MPL1_pool_size= (2,2)\n",
    "MPL1_strides = 2\n",
    "CNL2_filters = 64\n",
    "CNL2_kernal_size = 5\n",
    "MPL2_pool_size = (2,2)\n",
    "MPL2_strides = 2"
   ]
  },
  {
   "cell_type": "code",
   "execution_count": 255,
   "metadata": {},
   "outputs": [],
   "source": [
    "galaxyzoo = pd.read_csv(\"zoo2MainSpecz.csv\", usecols=[8], nrows=10000)\n",
    "Class = galaxyzoo[\"gz2class\"].values\n",
    "dictionary = {'A':int(2),'E':int(1),'S':int(0)}\n",
    "#resave using my dictionary\n",
    "target = np.empty((len(Class)))\n",
    "for i in range(len(Class)):\n",
    "    target[i] = int(dictionary[Class[i][0]])"
   ]
  },
  {
   "cell_type": "code",
   "execution_count": 256,
   "metadata": {},
   "outputs": [],
   "source": [
    "#https://keras.io/preprocessing/image/\n",
    "\n",
    "#datagen flow from directory wont work, need to create a different iterator. Have to combine with the targets somehow. \n",
    "\n",
    "#seems like a tf.data.Dataset is what we want... well, in the future atleast. lets right now get this working by doing something\n",
    "#memory intensive.\n",
    "#def generator(path,batchsize):\n",
    "#    \"\"\"\n",
    "#    I want this function when called provide a \n",
    "#    \"\"\"\n",
    "#    image_list = os.listdir(path)\n",
    "    "
   ]
  },
  {
   "cell_type": "code",
   "execution_count": 257,
   "metadata": {},
   "outputs": [
    {
     "name": "stdout",
     "output_type": "stream",
     "text": [
      "7848\n",
      "(7848, 64, 64, 5)\n",
      "7848\n"
     ]
    }
   ],
   "source": [
    "directory = os.listdir(path)\n",
    "data = np.zeros((len(directory),64,64,5))\n",
    "inbetween_target = np.zeros((len(directory)))\n",
    "for i in range(len(directory)):\n",
    "    ith = directory[i].split('_')[-1]\n",
    "    ith = ith.split('.')[0] #we want the str of what element this is so I can grab from my target array the correct label\n",
    "    ith = int(ith)\n",
    "    array = np.load('{}\\\\{}'.format(path,directory[i]))\n",
    "    data[i,:,:,:] = array\n",
    "    inbetween_target[i] = target[ith]\n",
    "target = inbetween_target\n",
    "print(len(target))\n",
    "print(np.shape(data))\n",
    "print(len(directory))"
   ]
  },
  {
   "cell_type": "code",
   "execution_count": 258,
   "metadata": {},
   "outputs": [],
   "source": [
    "tts_index = int(np.round(test_train_split * len(directory),0))\n",
    "train_target = target[0:tts_index]\n",
    "test_target = target[tts_index::]\n",
    "train_images = data[0:tts_index]\n",
    "test_images = data[tts_index::]"
   ]
  },
  {
   "cell_type": "code",
   "execution_count": 259,
   "metadata": {},
   "outputs": [],
   "source": [
    "def create_model(dropout_rate=dropout_rate, learning_rate=learning_rate):\n",
    "    \n",
    "    model = keras.Sequential([])\n",
    "    model.add(keras.layers.Conv2D(input_shape=(64,64,5),filters=CNL1_filters,kernel_size=CNL1_kernal_size,padding=\"same\",activation=tf.nn.relu))\n",
    "    model.add(keras.layers.MaxPool2D(pool_size=MPL1_pool_size, strides=MPL1_strides))\n",
    "    model.add(keras.layers.Conv2D(filters=CNL2_filters,kernel_size=CNL2_kernal_size,padding=\"same\",activation=tf.nn.relu))\n",
    "    model.add(keras.layers.MaxPool2D(pool_size=MPL2_pool_size,strides=MPL2_strides))\n",
    "    model.add(keras.layers.Reshape([16*16*64]))\n",
    "    model.add(keras.layers.Dense(units=1024,activation=tf.nn.relu))\n",
    "    model.add(keras.layers.Dense(units=512,activation=tf.nn.relu))\n",
    "    model.add(keras.layers.Dropout(rate=dropout_rate))\n",
    "    model.add(keras.layers.Dense(units=3,activation=tf.nn.softmax))\n",
    "    adam = keras.optimizers.Adam(lr = learning_rate)\n",
    "    model.compile(optimizer=adam, loss='sparse_categorical_crossentropy',metrics=['accuracy',]) #auroc])\n",
    "    return(model)"
   ]
  },
  {
   "cell_type": "code",
   "execution_count": 260,
   "metadata": {},
   "outputs": [],
   "source": [
    "#datagenerator will rotate flip and zoom my data for augmentations, b/c of cosmo principle I must be invarient to these.\n",
    "\n",
    "#interestingly enough, there is no support for datagen right now with 5 channels:\n",
    "#https://github.com/keras-team/keras/issues/4664\n",
    "#that sucks, because if memory was an issue before, now I will have to default on doing my image roatations and zooms before\n",
    "#hand, and that also takes up memory."
   ]
  },
  {
   "cell_type": "code",
   "execution_count": 261,
   "metadata": {},
   "outputs": [
    {
     "data": {
      "text/plain": [
       "\"\\n    learning_rate = 0.2\\n    if epoch > 10:\\n        learning_rate = 0.02\\n    if epoch > 20:\\n        learning_rate = 0.01\\n    if epoch > 50:\\n        learning_rate = 0.005\\n\\n    tf.summary.scalar('learning rate', data=learning_rate, step=epoch)\\n    return learning_rate\\n\\nlr_callback = keras.callbacks.LearningRateScheduler(lr_schedule)\\ntensorboard_callback = keras.callbacks.TensorBoard(log_dir=logdir)\\n\""
      ]
     },
     "execution_count": 261,
     "metadata": {},
     "output_type": "execute_result"
    }
   ],
   "source": [
    "#so this is pretty neat, you can create a keras callback to display on tensorboard using a simplified summary tf api\n",
    "\n",
    "#and also this is an example of how to change the lr on the fly, which is pretty handy\n",
    "#https://keras.io/callbacks/\n",
    "\n",
    "logdir=\"summaries/scalars/\" + str(datetime.datetime.now().timestamp())\n",
    "tensorboard_callback = keras.callbacks.TensorBoard(log_dir=logdir,\n",
    "                                                   histogram_freq=1,\n",
    "                                                   write_graph=False,\n",
    "                                                   write_grads=True,)\n",
    "                                                   #write_images=True)\n",
    "\"\"\"\n",
    "file_writer = tf.summary.create_file_writer(logdir + \"/metrics\")\n",
    "file_writer.set_as_default()\n",
    "\n",
    "def lr_schedule(epoch):\n",
    "\"\"\"\n",
    "#Returns a custom learning rate that decreases as epochs progress.\n",
    "\"\"\"\n",
    "    learning_rate = 0.2\n",
    "    if epoch > 10:\n",
    "        learning_rate = 0.02\n",
    "    if epoch > 20:\n",
    "        learning_rate = 0.01\n",
    "    if epoch > 50:\n",
    "        learning_rate = 0.005\n",
    "\n",
    "    tf.summary.scalar('learning rate', data=learning_rate, step=epoch)\n",
    "    return learning_rate\n",
    "\n",
    "lr_callback = keras.callbacks.LearningRateScheduler(lr_schedule)\n",
    "tensorboard_callback = keras.callbacks.TensorBoard(log_dir=logdir)\n",
    "\"\"\"\n"
   ]
  },
  {
   "cell_type": "code",
   "execution_count": 262,
   "metadata": {},
   "outputs": [],
   "source": [
    "keras.backend.clear_session()\n",
    "model = create_model(dropout_rate=dropout_rate, learning_rate = learning_rate)"
   ]
  },
  {
   "cell_type": "code",
   "execution_count": 263,
   "metadata": {},
   "outputs": [
    {
     "name": "stdout",
     "output_type": "stream",
     "text": [
      "_________________________________________________________________\n",
      "Layer (type)                 Output Shape              Param #   \n",
      "=================================================================\n",
      "conv2d (Conv2D)              (None, 64, 64, 32)        4032      \n",
      "_________________________________________________________________\n",
      "max_pooling2d (MaxPooling2D) (None, 32, 32, 32)        0         \n",
      "_________________________________________________________________\n",
      "conv2d_1 (Conv2D)            (None, 32, 32, 64)        51264     \n",
      "_________________________________________________________________\n",
      "max_pooling2d_1 (MaxPooling2 (None, 16, 16, 64)        0         \n",
      "_________________________________________________________________\n",
      "reshape (Reshape)            (None, 16384)             0         \n",
      "_________________________________________________________________\n",
      "dense (Dense)                (None, 1024)              16778240  \n",
      "_________________________________________________________________\n",
      "dense_1 (Dense)              (None, 512)               524800    \n",
      "_________________________________________________________________\n",
      "dropout (Dropout)            (None, 512)               0         \n",
      "_________________________________________________________________\n",
      "dense_2 (Dense)              (None, 3)                 1539      \n",
      "=================================================================\n",
      "Total params: 17,359,875\n",
      "Trainable params: 17,359,875\n",
      "Non-trainable params: 0\n",
      "_________________________________________________________________\n"
     ]
    }
   ],
   "source": [
    "model.summary()"
   ]
  },
  {
   "cell_type": "code",
   "execution_count": 264,
   "metadata": {},
   "outputs": [
    {
     "name": "stdout",
     "output_type": "stream",
     "text": [
      "Train on 5003 samples, validate on 883 samples\n",
      "Epoch 1/100\n",
      "5003/5003 [==============================] - 66s 13ms/sample - loss: 1.1716 - acc: 0.4253 - val_loss: 1.1009 - val_acc: 0.3941\n",
      "Epoch 2/100\n",
      "5003/5003 [==============================] - 55s 11ms/sample - loss: 1.1619 - acc: 0.4261 - val_loss: 1.0880 - val_acc: 0.4077\n",
      "Epoch 3/100\n",
      "5003/5003 [==============================] - 56s 11ms/sample - loss: 1.1444 - acc: 0.4491 - val_loss: 1.0762 - val_acc: 0.4156\n",
      "Epoch 4/100\n",
      "5003/5003 [==============================] - 54s 11ms/sample - loss: 1.1242 - acc: 0.4485 - val_loss: 1.0652 - val_acc: 0.4258\n",
      "Epoch 5/100\n",
      "5003/5003 [==============================] - 52s 10ms/sample - loss: 1.1114 - acc: 0.4629 - val_loss: 1.0548 - val_acc: 0.4337\n",
      "Epoch 6/100\n",
      "5003/5003 [==============================] - 66s 13ms/sample - loss: 1.1185 - acc: 0.4655 - val_loss: 1.0448 - val_acc: 0.4383\n",
      "Epoch 7/100\n",
      "5003/5003 [==============================] - 51s 10ms/sample - loss: 1.0848 - acc: 0.4805 - val_loss: 1.0358 - val_acc: 0.4451\n",
      "Epoch 8/100\n",
      "5003/5003 [==============================] - 52s 10ms/sample - loss: 1.1031 - acc: 0.4725 - val_loss: 1.0270 - val_acc: 0.4541\n",
      "Epoch 9/100\n",
      "5003/5003 [==============================] - 51s 10ms/sample - loss: 1.0695 - acc: 0.4949 - val_loss: 1.0187 - val_acc: 0.4587\n",
      "Epoch 10/100\n",
      "5003/5003 [==============================] - 52s 10ms/sample - loss: 1.0734 - acc: 0.4773 - val_loss: 1.0110 - val_acc: 0.4666\n",
      "Epoch 11/100\n",
      "5003/5003 [==============================] - 65s 13ms/sample - loss: 1.0763 - acc: 0.4907 - val_loss: 1.0034 - val_acc: 0.4790\n",
      "Epoch 12/100\n",
      "5003/5003 [==============================] - 51s 10ms/sample - loss: 1.0455 - acc: 0.4911 - val_loss: 0.9966 - val_acc: 0.4915\n",
      "Epoch 13/100\n",
      "5003/5003 [==============================] - 51s 10ms/sample - loss: 1.0528 - acc: 0.5095 - val_loss: 0.9899 - val_acc: 0.5006\n",
      "Epoch 14/100\n",
      "5003/5003 [==============================] - 51s 10ms/sample - loss: 1.0334 - acc: 0.5059 - val_loss: 0.9837 - val_acc: 0.5142\n",
      "Epoch 15/100\n",
      "5003/5003 [==============================] - 52s 10ms/sample - loss: 1.0285 - acc: 0.5219 - val_loss: 0.9778 - val_acc: 0.5153\n",
      "Epoch 16/100\n",
      "5003/5003 [==============================] - 64s 13ms/sample - loss: 1.0321 - acc: 0.5059 - val_loss: 0.9721 - val_acc: 0.5221\n",
      "Epoch 17/100\n",
      "5003/5003 [==============================] - 51s 10ms/sample - loss: 1.0197 - acc: 0.5165 - val_loss: 0.9665 - val_acc: 0.5289\n",
      "Epoch 18/100\n",
      "5003/5003 [==============================] - 51s 10ms/sample - loss: 1.0295 - acc: 0.5105 - val_loss: 0.9613 - val_acc: 0.5391\n",
      "Epoch 19/100\n",
      "5003/5003 [==============================] - 51s 10ms/sample - loss: 0.9988 - acc: 0.5315 - val_loss: 0.9562 - val_acc: 0.5379\n",
      "Epoch 20/100\n",
      "5003/5003 [==============================] - 51s 10ms/sample - loss: 1.0005 - acc: 0.5213 - val_loss: 0.9513 - val_acc: 0.5413\n",
      "Epoch 21/100\n",
      "5003/5003 [==============================] - 64s 13ms/sample - loss: 1.0101 - acc: 0.5287 - val_loss: 0.9463 - val_acc: 0.5515\n",
      "Epoch 22/100\n",
      "5003/5003 [==============================] - 52s 10ms/sample - loss: 1.0036 - acc: 0.5293 - val_loss: 0.9417 - val_acc: 0.5549\n",
      "Epoch 23/100\n",
      "5003/5003 [==============================] - 51s 10ms/sample - loss: 0.9927 - acc: 0.5243 - val_loss: 0.9373 - val_acc: 0.5595\n",
      "Epoch 24/100\n",
      "5003/5003 [==============================] - 51s 10ms/sample - loss: 0.9701 - acc: 0.5347 - val_loss: 0.9330 - val_acc: 0.5640\n",
      "Epoch 25/100\n",
      "5003/5003 [==============================] - 51s 10ms/sample - loss: 0.9742 - acc: 0.5359 - val_loss: 0.9290 - val_acc: 0.5606\n",
      "Epoch 26/100\n",
      "5003/5003 [==============================] - 64s 13ms/sample - loss: 0.9709 - acc: 0.5477 - val_loss: 0.9253 - val_acc: 0.5674\n",
      "Epoch 27/100\n",
      "5003/5003 [==============================] - 51s 10ms/sample - loss: 0.9688 - acc: 0.5429 - val_loss: 0.9217 - val_acc: 0.5730\n",
      "Epoch 28/100\n",
      "5003/5003 [==============================] - 51s 10ms/sample - loss: 0.9630 - acc: 0.5537 - val_loss: 0.9182 - val_acc: 0.5730\n",
      "Epoch 29/100\n",
      "5003/5003 [==============================] - 51s 10ms/sample - loss: 0.9522 - acc: 0.5495 - val_loss: 0.9149 - val_acc: 0.5787\n",
      "Epoch 30/100\n",
      "5003/5003 [==============================] - 51s 10ms/sample - loss: 0.9571 - acc: 0.5465 - val_loss: 0.9114 - val_acc: 0.5844\n",
      "Epoch 31/100\n",
      "5003/5003 [==============================] - 64s 13ms/sample - loss: 0.9489 - acc: 0.5515 - val_loss: 0.9079 - val_acc: 0.5855\n",
      "Epoch 32/100\n",
      "5003/5003 [==============================] - 51s 10ms/sample - loss: 0.9505 - acc: 0.5455 - val_loss: 0.9049 - val_acc: 0.5855\n",
      "Epoch 33/100\n",
      "5003/5003 [==============================] - 52s 10ms/sample - loss: 0.9414 - acc: 0.5603 - val_loss: 0.9020 - val_acc: 0.5866\n",
      "Epoch 34/100\n",
      "5003/5003 [==============================] - 51s 10ms/sample - loss: 0.9490 - acc: 0.5593 - val_loss: 0.8991 - val_acc: 0.5923\n",
      "Epoch 35/100\n",
      "5003/5003 [==============================] - 51s 10ms/sample - loss: 0.9152 - acc: 0.5589 - val_loss: 0.8963 - val_acc: 0.5946\n",
      "Epoch 36/100\n",
      "5003/5003 [==============================] - 64s 13ms/sample - loss: 0.9373 - acc: 0.5529 - val_loss: 0.8935 - val_acc: 0.5934\n",
      "Epoch 37/100\n",
      "5003/5003 [==============================] - 51s 10ms/sample - loss: 0.9372 - acc: 0.5523 - val_loss: 0.8910 - val_acc: 0.5912\n",
      "Epoch 38/100\n",
      "5003/5003 [==============================] - 51s 10ms/sample - loss: 0.9254 - acc: 0.5707 - val_loss: 0.8883 - val_acc: 0.5889\n",
      "Epoch 39/100\n",
      "5003/5003 [==============================] - 51s 10ms/sample - loss: 0.9303 - acc: 0.5667 - val_loss: 0.8856 - val_acc: 0.5946\n",
      "Epoch 40/100\n",
      "5003/5003 [==============================] - 51s 10ms/sample - loss: 0.9088 - acc: 0.5741 - val_loss: 0.8830 - val_acc: 0.5957\n",
      "Epoch 41/100\n",
      "5003/5003 [==============================] - 64s 13ms/sample - loss: 0.9240 - acc: 0.5683 - val_loss: 0.8808 - val_acc: 0.6014\n",
      "Epoch 42/100\n",
      "5003/5003 [==============================] - 51s 10ms/sample - loss: 0.9122 - acc: 0.5717 - val_loss: 0.8787 - val_acc: 0.6014\n",
      "Epoch 43/100\n",
      "5003/5003 [==============================] - 51s 10ms/sample - loss: 0.9039 - acc: 0.5777 - val_loss: 0.8765 - val_acc: 0.6002\n",
      "Epoch 44/100\n",
      "5003/5003 [==============================] - 52s 10ms/sample - loss: 0.9086 - acc: 0.5595 - val_loss: 0.8741 - val_acc: 0.6025\n",
      "Epoch 45/100\n",
      "5003/5003 [==============================] - 51s 10ms/sample - loss: 0.9017 - acc: 0.5653 - val_loss: 0.8718 - val_acc: 0.6048\n",
      "Epoch 46/100\n",
      "5003/5003 [==============================] - 64s 13ms/sample - loss: 0.8894 - acc: 0.5761 - val_loss: 0.8694 - val_acc: 0.6048\n",
      "Epoch 47/100\n",
      "5003/5003 [==============================] - 51s 10ms/sample - loss: 0.8925 - acc: 0.5641 - val_loss: 0.8674 - val_acc: 0.6093\n",
      "Epoch 48/100\n",
      "5003/5003 [==============================] - 51s 10ms/sample - loss: 0.8926 - acc: 0.5729 - val_loss: 0.8654 - val_acc: 0.6082\n",
      "Epoch 49/100\n",
      "5003/5003 [==============================] - 51s 10ms/sample - loss: 0.8957 - acc: 0.5735 - val_loss: 0.8632 - val_acc: 0.6082\n",
      "Epoch 50/100\n",
      "5003/5003 [==============================] - 51s 10ms/sample - loss: 0.8875 - acc: 0.5719 - val_loss: 0.8612 - val_acc: 0.6082\n",
      "Epoch 51/100\n",
      "5003/5003 [==============================] - 64s 13ms/sample - loss: 0.8872 - acc: 0.5858 - val_loss: 0.8592 - val_acc: 0.6082\n",
      "Epoch 52/100\n",
      "5003/5003 [==============================] - 52s 10ms/sample - loss: 0.8871 - acc: 0.5767 - val_loss: 0.8575 - val_acc: 0.6116\n",
      "Epoch 53/100\n",
      "5003/5003 [==============================] - 51s 10ms/sample - loss: 0.8822 - acc: 0.5791 - val_loss: 0.8555 - val_acc: 0.6104\n",
      "Epoch 54/100\n",
      "5003/5003 [==============================] - 51s 10ms/sample - loss: 0.8816 - acc: 0.5727 - val_loss: 0.8536 - val_acc: 0.6093\n",
      "Epoch 55/100\n",
      "5003/5003 [==============================] - 51s 10ms/sample - loss: 0.8832 - acc: 0.5759 - val_loss: 0.8519 - val_acc: 0.6082\n",
      "Epoch 56/100\n",
      "5003/5003 [==============================] - 65s 13ms/sample - loss: 0.8967 - acc: 0.5741 - val_loss: 0.8503 - val_acc: 0.6059\n",
      "Epoch 57/100\n",
      "5003/5003 [==============================] - 51s 10ms/sample - loss: 0.8663 - acc: 0.5821 - val_loss: 0.8486 - val_acc: 0.6070\n",
      "Epoch 58/100\n",
      "5003/5003 [==============================] - 51s 10ms/sample - loss: 0.8619 - acc: 0.5910 - val_loss: 0.8469 - val_acc: 0.6093\n",
      "Epoch 59/100\n"
     ]
    },
    {
     "name": "stdout",
     "output_type": "stream",
     "text": [
      "5003/5003 [==============================] - 51s 10ms/sample - loss: 0.8591 - acc: 0.5872 - val_loss: 0.8452 - val_acc: 0.6116\n",
      "Epoch 60/100\n",
      "5003/5003 [==============================] - 51s 10ms/sample - loss: 0.8608 - acc: 0.5902 - val_loss: 0.8436 - val_acc: 0.6116\n",
      "Epoch 61/100\n",
      "5003/5003 [==============================] - 64s 13ms/sample - loss: 0.8604 - acc: 0.5898 - val_loss: 0.8420 - val_acc: 0.6138\n",
      "Epoch 62/100\n",
      "5003/5003 [==============================] - 51s 10ms/sample - loss: 0.8803 - acc: 0.5741 - val_loss: 0.8405 - val_acc: 0.6149\n",
      "Epoch 63/100\n",
      "5003/5003 [==============================] - 51s 10ms/sample - loss: 0.8620 - acc: 0.5787 - val_loss: 0.8389 - val_acc: 0.6161\n",
      "Epoch 64/100\n",
      "5003/5003 [==============================] - 52s 10ms/sample - loss: 0.8600 - acc: 0.5942 - val_loss: 0.8375 - val_acc: 0.6161\n",
      "Epoch 65/100\n",
      "5003/5003 [==============================] - 53s 11ms/sample - loss: 0.8674 - acc: 0.5876 - val_loss: 0.8358 - val_acc: 0.6138\n",
      "Epoch 66/100\n",
      "5003/5003 [==============================] - 66s 13ms/sample - loss: 0.8619 - acc: 0.5813 - val_loss: 0.8345 - val_acc: 0.6138\n",
      "Epoch 67/100\n",
      "5003/5003 [==============================] - 52s 10ms/sample - loss: 0.8522 - acc: 0.5825 - val_loss: 0.8331 - val_acc: 0.6149\n",
      "Epoch 68/100\n",
      "5003/5003 [==============================] - 51s 10ms/sample - loss: 0.8601 - acc: 0.5856 - val_loss: 0.8317 - val_acc: 0.6149\n",
      "Epoch 69/100\n",
      "5003/5003 [==============================] - 51s 10ms/sample - loss: 0.8537 - acc: 0.5874 - val_loss: 0.8303 - val_acc: 0.6149\n",
      "Epoch 70/100\n",
      "5003/5003 [==============================] - 51s 10ms/sample - loss: 0.8470 - acc: 0.5876 - val_loss: 0.8289 - val_acc: 0.6161\n",
      "Epoch 71/100\n",
      "5003/5003 [==============================] - 64s 13ms/sample - loss: 0.8466 - acc: 0.5872 - val_loss: 0.8275 - val_acc: 0.6116\n",
      "Epoch 72/100\n",
      "5003/5003 [==============================] - 51s 10ms/sample - loss: 0.8491 - acc: 0.5836 - val_loss: 0.8263 - val_acc: 0.6116\n",
      "Epoch 73/100\n",
      "5003/5003 [==============================] - 51s 10ms/sample - loss: 0.8489 - acc: 0.5972 - val_loss: 0.8251 - val_acc: 0.6104\n",
      "Epoch 74/100\n",
      "5003/5003 [==============================] - 52s 10ms/sample - loss: 0.8463 - acc: 0.5920 - val_loss: 0.8240 - val_acc: 0.6138\n",
      "Epoch 75/100\n",
      "5003/5003 [==============================] - 51s 10ms/sample - loss: 0.8432 - acc: 0.5904 - val_loss: 0.8228 - val_acc: 0.6104\n",
      "Epoch 76/100\n",
      "5003/5003 [==============================] - 64s 13ms/sample - loss: 0.8464 - acc: 0.5924 - val_loss: 0.8215 - val_acc: 0.6127\n",
      "Epoch 77/100\n",
      "5003/5003 [==============================] - 51s 10ms/sample - loss: 0.8445 - acc: 0.6044 - val_loss: 0.8202 - val_acc: 0.6127\n",
      "Epoch 78/100\n",
      "5003/5003 [==============================] - 52s 10ms/sample - loss: 0.8348 - acc: 0.5932 - val_loss: 0.8190 - val_acc: 0.6127\n",
      "Epoch 79/100\n",
      "5003/5003 [==============================] - 51s 10ms/sample - loss: 0.8317 - acc: 0.6060 - val_loss: 0.8178 - val_acc: 0.6116\n",
      "Epoch 80/100\n",
      "5003/5003 [==============================] - 51s 10ms/sample - loss: 0.8318 - acc: 0.6038 - val_loss: 0.8166 - val_acc: 0.6104\n",
      "Epoch 81/100\n",
      "5003/5003 [==============================] - 64s 13ms/sample - loss: 0.8253 - acc: 0.5825 - val_loss: 0.8154 - val_acc: 0.6127\n",
      "Epoch 82/100\n",
      "5003/5003 [==============================] - 51s 10ms/sample - loss: 0.8470 - acc: 0.5896 - val_loss: 0.8143 - val_acc: 0.6116\n",
      "Epoch 83/100\n",
      "5003/5003 [==============================] - 51s 10ms/sample - loss: 0.8370 - acc: 0.5868 - val_loss: 0.8132 - val_acc: 0.6138\n",
      "Epoch 84/100\n",
      "5003/5003 [==============================] - 52s 10ms/sample - loss: 0.8247 - acc: 0.6060 - val_loss: 0.8122 - val_acc: 0.6138\n",
      "Epoch 85/100\n",
      "5003/5003 [==============================] - 51s 10ms/sample - loss: 0.8275 - acc: 0.5896 - val_loss: 0.8111 - val_acc: 0.6138\n",
      "Epoch 86/100\n",
      "5003/5003 [==============================] - 64s 13ms/sample - loss: 0.8222 - acc: 0.6058 - val_loss: 0.8101 - val_acc: 0.6138\n",
      "Epoch 87/100\n",
      "5003/5003 [==============================] - 51s 10ms/sample - loss: 0.8112 - acc: 0.5970 - val_loss: 0.8089 - val_acc: 0.6149\n",
      "Epoch 88/100\n",
      "5003/5003 [==============================] - 51s 10ms/sample - loss: 0.8251 - acc: 0.6002 - val_loss: 0.8079 - val_acc: 0.6138\n",
      "Epoch 89/100\n",
      "5003/5003 [==============================] - 51s 10ms/sample - loss: 0.8116 - acc: 0.5994 - val_loss: 0.8069 - val_acc: 0.6149\n",
      "Epoch 90/100\n",
      "5003/5003 [==============================] - 52s 10ms/sample - loss: 0.8212 - acc: 0.5940 - val_loss: 0.8060 - val_acc: 0.6172\n",
      "Epoch 91/100\n",
      "5003/5003 [==============================] - 64s 13ms/sample - loss: 0.8184 - acc: 0.6042 - val_loss: 0.8050 - val_acc: 0.6172\n",
      "Epoch 92/100\n",
      "5003/5003 [==============================] - 51s 10ms/sample - loss: 0.8067 - acc: 0.6084 - val_loss: 0.8041 - val_acc: 0.6183\n",
      "Epoch 93/100\n",
      "5003/5003 [==============================] - 51s 10ms/sample - loss: 0.8196 - acc: 0.5980 - val_loss: 0.8031 - val_acc: 0.6161\n",
      "Epoch 94/100\n",
      "5003/5003 [==============================] - 51s 10ms/sample - loss: 0.8176 - acc: 0.6058 - val_loss: 0.8024 - val_acc: 0.6172\n",
      "Epoch 95/100\n",
      "5003/5003 [==============================] - 51s 10ms/sample - loss: 0.8060 - acc: 0.6056 - val_loss: 0.8014 - val_acc: 0.6195\n",
      "Epoch 96/100\n",
      "5003/5003 [==============================] - 64s 13ms/sample - loss: 0.8132 - acc: 0.5964 - val_loss: 0.8007 - val_acc: 0.6172\n",
      "Epoch 97/100\n",
      "5003/5003 [==============================] - 51s 10ms/sample - loss: 0.8085 - acc: 0.6026 - val_loss: 0.7998 - val_acc: 0.6172\n",
      "Epoch 98/100\n",
      "5003/5003 [==============================] - 51s 10ms/sample - loss: 0.8030 - acc: 0.6050 - val_loss: 0.7987 - val_acc: 0.6206\n",
      "Epoch 99/100\n",
      "5003/5003 [==============================] - 51s 10ms/sample - loss: 0.8091 - acc: 0.6104 - val_loss: 0.7979 - val_acc: 0.6217\n",
      "Epoch 100/100\n",
      "5003/5003 [==============================] - 51s 10ms/sample - loss: 0.8025 - acc: 0.6048 - val_loss: 0.7971 - val_acc: 0.6217\n"
     ]
    }
   ],
   "source": [
    "history = model.fit(train_images,\n",
    "                    train_target,\n",
    "                    batch_size=batch_size,\n",
    "                    epochs=epoch_number,\n",
    "                    validation_split=validation_split,\n",
    "                    callbacks=[tensorboard_callback])#, lr_callback]) #and will display that on tensorboard too"
   ]
  },
  {
   "cell_type": "code",
   "execution_count": 265,
   "metadata": {},
   "outputs": [
    {
     "data": {
      "text/plain": [
       "dict_keys(['loss', 'acc', 'val_loss', 'val_acc'])"
      ]
     },
     "execution_count": 265,
     "metadata": {},
     "output_type": "execute_result"
    }
   ],
   "source": [
    "history.history.keys()"
   ]
  },
  {
   "cell_type": "code",
   "execution_count": 266,
   "metadata": {},
   "outputs": [
    {
     "data": {
      "image/png": "[encoded data removed]",
      "text/plain": [
       "<Figure size 432x288 with 1 Axes>"
      ]
     },
     "metadata": {
      "needs_background": "light"
     },
     "output_type": "display_data"
    },
    {
     "data": {
      "image/png": "[encoded data removed]",
      "text/plain": [
       "<Figure size 432x288 with 1 Axes>"
      ]
     },
     "metadata": {
      "needs_background": "light"
     },
     "output_type": "display_data"
    }
   ],
   "source": [
    "# summarize history for accuracy\n",
    "plt.plot(history.history['acc'])\n",
    "plt.plot(history.history['val_acc'])\n",
    "plt.title('model accuracy')\n",
    "plt.ylabel('accuracy')\n",
    "plt.xlabel('epoch')\n",
    "plt.legend(['train', 'test'], loc='upper left')\n",
    "plt.savefig('accuracy-2.png')\n",
    "plt.show()\n",
    "# summarize history for loss\n",
    "plt.plot(history.history['loss'])\n",
    "plt.plot(history.history['val_loss'])\n",
    "plt.title('model loss')\n",
    "plt.ylabel('loss')\n",
    "plt.xlabel('epoch')\n",
    "plt.legend(['train', 'test'], loc='upper left')\n",
    "plt.savefig('loss-2.png')\n",
    "plt.show()"
   ]
  },
  {
   "cell_type": "code",
   "execution_count": 267,
   "metadata": {},
   "outputs": [
    {
     "name": "stdout",
     "output_type": "stream",
     "text": [
      "1962/1962 [==============================] - 7s 4ms/sample - loss: 0.8143 - acc: 0.5892\n",
      "Test accuracy: 0.5891947\n",
      "Test loss: 0.814308757142797\n"
     ]
    }
   ],
   "source": [
    "test_loss, test_acc = model.evaluate(test_images, test_target)\n",
    "print('Test accuracy:', test_acc)\n",
    "print('Test loss:', test_loss)"
   ]
  },
  {
   "cell_type": "code",
   "execution_count": 268,
   "metadata": {},
   "outputs": [
    {
     "data": {
      "text/plain": [
       "\"\\nmodel_7 \\n\\ntest_train_split = 0.75\\nbatch_size = 64\\nepoch_number = 50\\nvalidation_split = 0.15\\nlearning_rate = 3e-6\\ndropout_rate = 0.50\\n\\nimplemented tensorboard during this guy, so can go there to see the runs data and graphs. I think on this next one I want to\\nbuild a different architecture. There was that paper Gautham posted from 2018 and it woould be neat to use their working arch.\\nBut since it is lunch time, I will make a fwe small changed and hit go. I am mainly testing some more tensorboard features on\\nthis model. but also, fuck it, I added another dense layer just for shits and giggles.\\n\\nI'm pretty sure since I can get my training accuracy well over 90% (perhaps by overtraining?) that this is unneccessary\\nbecause this high accuracy means that I am fully able to map the training space. But also-- what the fuck do I know lol?\\n\\nI also increased batchsize apparently.\\n\\nalso, auroc isnt working, something abput py.func being deprecated in tf2.0; look that guy up the error said it was a simple\\nfix\\n\""
      ]
     },
     "execution_count": 268,
     "metadata": {},
     "output_type": "execute_result"
    }
   ],
   "source": [
    "\"\"\"\n",
    "model_1\n",
    "\n",
    "test_train_split = 0.75\n",
    "batch_size = 64\n",
    "epoch_number = 20\n",
    "validation_split = 0.15\n",
    "learning_rate = 1e-3\n",
    "dropout_rate = 0.40\n",
    "\n",
    "output: terrible overtraining, but promising that in 20 epochs I hit 92%: reducing learning rate by a lot\n",
    "\"\"\"\n",
    "\n",
    "\"\"\"\"\n",
    "model_2\n",
    "\n",
    "test_train_split = 0.75\n",
    "batch_size = 64\n",
    "epoch_number = 20\n",
    "validation_split = 0.15\n",
    "learning_rate = 1e-6\n",
    "dropout_rate = 0.40\n",
    "\n",
    "\n",
    "Test accuracy: 0.60142714\n",
    "Test loss: 0.7398002415622046\n",
    "\n",
    "Epoch 20/20\n",
    "5003/5003 [==============================] - 59s 12ms/sample - loss: 0.6610 - acc: 0.6874 - val_loss: 0.7216 - val_acc: 0.6625\n",
    "\n",
    "Perhaps I was a little overzealous with the LR reduction: I am going to prop it back up, increase dropout.\n",
    "\"\"\"\n",
    "\n",
    "\"\"\"\n",
    "model_3\n",
    "\n",
    "test_train_split = 0.75\n",
    "batch_size = 64\n",
    "epoch_number = 20\n",
    "validation_split = 0.15\n",
    "learning_rate = 1e-4\n",
    "dropout_rate = 0.45\n",
    "\n",
    "1962/1962 [==============================] - 7s 4ms/sample - loss: 0.9262 - acc: 0.7457\n",
    "Test accuracy: 0.7456677\n",
    "Test loss: 0.9262316330249643\n",
    "\n",
    "Epoch 19/20\n",
    "5003/5003 [==============================] - 58s 12ms/sample - loss: 0.1947 - acc: 0.9310 - val_loss: 0.8856 - val_acc: 0.7610\n",
    "Epoch 20/20\n",
    "5003/5003 [==============================] - 58s 12ms/sample - loss: 0.1838 - acc: 0.9414 - val_loss: 0.9662 - val_acc: 0.7542\n",
    "\n",
    "too high of LR: trying to lower by 1e-1\n",
    "\"\"\"\n",
    "\n",
    "\"\"\"\n",
    "model_4\n",
    "\n",
    "#model variables\n",
    "test_train_split = 0.75\n",
    "batch_size = 64\n",
    "epoch_number = 20\n",
    "validation_split = 0.15\n",
    "learning_rate = 1e-5\n",
    "dropout_rate = 0.45\n",
    "\n",
    "Epoch 19/20\n",
    "5003/5003 [==============================] - 60s 12ms/sample - loss: 0.4295 - acc: 0.8183 - val_loss: 0.6812 - val_acc: 0.7407\n",
    "Epoch 20/20\n",
    "5003/5003 [==============================] - 60s 12ms/sample - loss: 0.4200 - acc: 0.8279 - val_loss: 0.6655 - val_acc: 0.7293\n",
    "\n",
    "1962/1962 [==============================] - 7s 4ms/sample - loss: 0.6960 - acc: 0.6774\n",
    "Test accuracy: 0.67737\n",
    "Test loss: 0.6960039274286665\n",
    "\n",
    "very weird that this has a lower accuracy, but also much lower loss than model_3, which clearly had too high a LR\n",
    ":Increasing LR slightly, just to see where I can maximize it and still be stable.\n",
    "\"\"\"\n",
    "\n",
    "\"\"\"\n",
    "model_5\n",
    "\n",
    "test_train_split = 0.75\n",
    "batch_size = 64\n",
    "epoch_number = 20\n",
    "validation_split = 0.15\n",
    "learning_rate = 3e-5\n",
    "dropout_rate = 0.45\n",
    "\n",
    "Epoch 19/20\n",
    "5003/5003 [==============================] - 60s 12ms/sample - loss: 0.3353 - acc: 0.8701 - val_loss: 0.7270 - val_acc: 0.7316\n",
    "Epoch 20/20\n",
    "5003/5003 [==============================] - 60s 12ms/sample - loss: 0.3200 - acc: 0.8811 - val_loss: 0.7252 - val_acc: 0.7395\n",
    "\n",
    "1962/1962 [==============================] - 7s 4ms/sample - loss: 0.7473 - acc: 0.7125\n",
    "Test accuracy: 0.71253824\n",
    "Test loss: 0.747275456770966\n",
    "\n",
    "#I liked it better at lower, and then add more epochs, increase dropout because overfitting is a thing.\n",
    "\n",
    "I forgot to download the graph outputs, but it was basically a straight lines after ~3 epochs along 0.72 accuracy and 0.86 loss\n",
    "\"\"\"\n",
    "\n",
    "\"\"\"\n",
    "model_6\n",
    "\n",
    "test_train_split = 0.75\n",
    "batch_size = 64\n",
    "epoch_number = 50\n",
    "validation_split = 0.15\n",
    "learning_rate = 1e-6\n",
    "dropout_rate = 0.50\n",
    "\n",
    "Epoch 49/50\n",
    "5003/5003 [==============================] - 59s 12ms/sample - loss: 0.5778 - acc: 0.7256 - val_loss: 0.6859 - val_acc: 0.6840\n",
    "Epoch 50/50\n",
    "5003/5003 [==============================] - 60s 12ms/sample - loss: 0.5838 - acc: 0.7234 - val_loss: 0.6876 - val_acc: 0.6795\n",
    "\n",
    "\n",
    "1962/1962 [==============================] - 7s 4ms/sample - loss: 0.7073 - acc: 0.6213\n",
    "Test accuracy: 0.6213048\n",
    "Test loss: 0.7072517683503582\n",
    "\"\"\"\n",
    "\n",
    "\"\"\"\n",
    "model_7 \n",
    "\n",
    "test_train_split = 0.75\n",
    "batch_size = 64\n",
    "epoch_number = 50\n",
    "validation_split = 0.15\n",
    "learning_rate = 3e-6\n",
    "dropout_rate = 0.50\n",
    "\n",
    "implemented tensorboard during this guy, so can go there to see the runs data and graphs. I think on this next one I want to\n",
    "build a different architecture. There was that paper Gautham posted from 2018 and it woould be neat to use their working arch.\n",
    "But since it is lunch time, I will make a fwe small changed and hit go. I am mainly testing some more tensorboard features on\n",
    "this model. but also, fuck it, I added another dense layer just for shits and giggles.\n",
    "\n",
    "I'm pretty sure since I can get my training accuracy well over 90% (perhaps by overtraining?) that this is unneccessary\n",
    "because this high accuracy means that I am fully able to map the training space. But also-- what the fuck do I know lol?\n",
    "\n",
    "I also increased batchsize apparently.\n",
    "\n",
    "also, auroc isnt working, something abput py.func being deprecated in tf2.0; look that guy up the error said it was a simple\n",
    "fix\n",
    "\"\"\""
   ]
  },
  {
   "cell_type": "code",
   "execution_count": 269,
   "metadata": {},
   "outputs": [
    {
     "data": {
      "text/plain": [
       "'\\nhttps://fizzylogic.nl/2017/05/08/monitor-progress-of-your-keras-based-neural-network-using-tensorboard/\\n\\nhttps://stackoverflow.com/questions/41032551/how-to-compute-receiving-operating-characteristic-roc-and-auc-in-keras\\n\\nhttps://astrobites.org/2018/07/16/creating-a-more-general-deep-learning-algorithm-for-galaxies/\\n'"
      ]
     },
     "execution_count": 269,
     "metadata": {},
     "output_type": "execute_result"
    }
   ],
   "source": [
    "#source list\n",
    "\"\"\"\n",
    "https://fizzylogic.nl/2017/05/08/monitor-progress-of-your-keras-based-neural-network-using-tensorboard/\n",
    "\n",
    "https://stackoverflow.com/questions/41032551/how-to-compute-receiving-operating-characteristic-roc-and-auc-in-keras\n",
    "\n",
    "https://astrobites.org/2018/07/16/creating-a-more-general-deep-learning-algorithm-for-galaxies/\n",
    "\"\"\""
   ]
  }
 ],
 "metadata": {
  "kernelspec": {
   "display_name": "Python 3",
   "language": "python",
   "name": "python3"
  },
  "language_info": {
   "codemirror_mode": {
    "name": "ipython",
    "version": 3
   },
   "file_extension": ".py",
   "mimetype": "text/x-python",
   "name": "python",
   "nbconvert_exporter": "python",
   "pygments_lexer": "ipython3",
   "version": "3.7.3"
  }
 },
 "nbformat": 4,
 "nbformat_minor": 2
}
