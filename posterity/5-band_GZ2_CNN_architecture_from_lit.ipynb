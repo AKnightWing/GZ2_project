{
 "cells": [
  {
   "cell_type": "code",
   "execution_count": 210,
   "metadata": {},
   "outputs": [],
   "source": [
    "import numpy as np\n",
    "import pandas as pd\n",
    "import matplotlib.pyplot as plt\n",
    "import tensorflow as tf\n",
    "from tensorflow import keras\n",
    "import datetime\n",
    "import os\n",
    "from sklearn.metrics import roc_auc_score\n",
    "from sklearn.model_selection import train_test_split"
   ]
  },
  {
   "cell_type": "code",
   "execution_count": 211,
   "metadata": {},
   "outputs": [],
   "source": [
    "#https://stackoverflow.com/questions/41032551/how-to-compute-receiving-operating-characteristic-roc-and-auc-in-keras\n",
    "def auroc(y_true, y_pred):\n",
    "    return tf.py_func(roc_auc_score, (y_true, y_pred), tf.double)"
   ]
  },
  {
   "cell_type": "code",
   "execution_count": 212,
   "metadata": {},
   "outputs": [
    {
     "data": {
      "text/plain": [
       "'\\nCNL1_filters = 32\\nCNL1_kernal_size = 5\\nMPL1_pool_size= (2,2)\\nMPL1_strides = 2\\nCNL2_filters = 64\\nCNL2_kernal_size = 5\\nMPL2_pool_size = (2,2)\\nMPL2_strides = 2\\n'"
      ]
     },
     "execution_count": 212,
     "metadata": {},
     "output_type": "execute_result"
    }
   ],
   "source": [
    "#input variables\n",
    "path = 'image_arrays'\n",
    "\n",
    "#model variables\n",
    "test_size = 0.25\n",
    "batch_size = 32 #32 == best, run 156079264\n",
    "epoch_number = 50\n",
    "validation_split = 0.15\n",
    "learning_rate = 1e-3 #1e-4 stable, overtraining started after step 30, #1e-3 best, OT @ epoch 15\n",
    "\n",
    "#architecture variables\n",
    "\"\"\"\n",
    "CNL1_filters = 32\n",
    "CNL1_kernal_size = 5\n",
    "MPL1_pool_size= (2,2)\n",
    "MPL1_strides = 2\n",
    "CNL2_filters = 64\n",
    "CNL2_kernal_size = 5\n",
    "MPL2_pool_size = (2,2)\n",
    "MPL2_strides = 2\n",
    "\"\"\"\n",
    "#defined within because were modeling after a paper"
   ]
  },
  {
   "cell_type": "code",
   "execution_count": 213,
   "metadata": {},
   "outputs": [],
   "source": [
    "galaxyzoo = pd.read_csv(\"zoo2MainSpecz.csv\", usecols=[8], nrows=10000)\n",
    "Class = galaxyzoo[\"gz2class\"].values\n",
    "dictionary = {'A':int(2),'E':float(1),'S':float(0)}\n",
    "#resave using my dictionary\n",
    "target = np.empty((len(Class)))\n",
    "for i in range(len(Class)):\n",
    "    target[i] = int(dictionary[Class[i][0]])"
   ]
  },
  {
   "cell_type": "code",
   "execution_count": 214,
   "metadata": {},
   "outputs": [],
   "source": [
    "#https://keras.io/preprocessing/image/\n",
    "\n",
    "#datagen flow from directory wont work, need to create a different iterator. Have to combine with the targets somehow. \n",
    "\n",
    "#seems like a tf.data.Dataset is what we want... well, in the future atleast. lets right now get this working by doing something\n",
    "#memory intensive.\n",
    "#def generator(path,batchsize):\n",
    "#    \"\"\"\n",
    "#    I want this function when called provide a \n",
    "#    \"\"\"\n",
    "#    image_list = os.listdir(path)\n",
    "    "
   ]
  },
  {
   "cell_type": "code",
   "execution_count": 215,
   "metadata": {},
   "outputs": [],
   "source": [
    "#this removes arrays that are only zeros. sometimes, I placed an array like this in the trainingset because removing it now is\n",
    "#faster than having to deal with my download script throwing a fit and stopping. only needs to be run once of course.\n",
    "#directory = os.listdir(path)\n",
    "#for i in range(len(directory)):\n",
    "#    array = np.load('{}\\\\{}'.format(path,directory[i]))\n",
    "#    all_zeros = not np.any(array)\n",
    "#    if all_zeros == True:\n",
    "#        os.remove('{}\\\\{}'.format(path,directory[i]))"
   ]
  },
  {
   "cell_type": "markdown",
   "metadata": {},
   "source": [
    "<h1>Prune the Training Set, Load it in...</h1>"
   ]
  },
  {
   "cell_type": "code",
   "execution_count": 216,
   "metadata": {},
   "outputs": [],
   "source": [
    "#for i in range(len(directory)):\n",
    "#    ith = (directory[i].split('_')[-1])\n",
    "#    ith = ith.split('.')[0] #we want the str of what element this is so I can grab from my target array the correct label\n",
    "#    ith = int(ith)\n",
    "#    if target[ith] == 2:\n",
    "#        os.remove('{}\\\\{}'.format(path,directory[i]))"
   ]
  },
  {
   "cell_type": "markdown",
   "metadata": {},
   "source": [
    "Above removes arrays that are labeled as stars or artifacts. In principle, I could create a binary network that sorts galaxies\n",
    "from stars, its just that the dataset I have right now is one of predominately galaxies. So we are losing the ability to sort \n",
    "out galaxies from stars and saying that we will address the problem earlier in our pipeline."
   ]
  },
  {
   "cell_type": "code",
   "execution_count": 217,
   "metadata": {},
   "outputs": [
    {
     "name": "stdout",
     "output_type": "stream",
     "text": [
      "9888\n",
      "(9888, 64, 64, 5)\n",
      "9888\n"
     ]
    }
   ],
   "source": [
    "directory = os.listdir(path)\n",
    "data = np.zeros((len(directory),64,64,5))\n",
    "inbetween_target = np.zeros((len(directory)))\n",
    "for i in range(len(directory)):\n",
    "    ith = directory[i].split('_')[-1]\n",
    "    ith = ith.split('.')[0] #we want the str of what element this is so I can grab from my target array the correct label\n",
    "    ith = int(ith)\n",
    "    array = np.load('{}\\\\{}'.format(path,directory[i])).astype(np.float32)\n",
    "    data[i,:,:,:] = array\n",
    "    inbetween_target[i] = target[ith]\n",
    "target = inbetween_target\n",
    "print(len(target))\n",
    "print(np.shape(data))\n",
    "print(len(directory))"
   ]
  },
  {
   "cell_type": "code",
   "execution_count": 218,
   "metadata": {},
   "outputs": [],
   "source": [
    "train_images, test_images, train_target, test_target = train_test_split(data, target, test_size=test_size)"
   ]
  },
  {
   "cell_type": "code",
   "execution_count": 219,
   "metadata": {},
   "outputs": [],
   "source": [
    "#https://arxiv.org/pdf/1903.05580.pdf hyperspectral online data augmentation paper\n",
    "\n",
    "#https://github.com/jameslawlor/kaggle_galaxy_zoo/blob/master/galaxy_zoo_keras.ipynb\n",
    "#good example for creating an iterator"
   ]
  },
  {
   "cell_type": "code",
   "execution_count": 220,
   "metadata": {},
   "outputs": [
    {
     "data": {
      "text/plain": [
       "\"\\n    learning_rate = 0.2\\n    if epoch > 10:\\n        learning_rate = 0.02\\n    if epoch > 20:\\n        learning_rate = 0.01\\n    if epoch > 50:\\n        learning_rate = 0.005\\n\\n    tf.summary.scalar('learning rate', data=learning_rate, step=epoch)\\n    return learning_rate\\n\\nlr_callback = keras.callbacks.LearningRateScheduler(lr_schedule)\\ntensorboard_callback = keras.callbacks.TensorBoard(log_dir=logdir)\\n\""
      ]
     },
     "execution_count": 220,
     "metadata": {},
     "output_type": "execute_result"
    }
   ],
   "source": [
    "#so this is pretty neat, you can create a keras callback to display on tensorboard using a simplified summary tf api\n",
    "\n",
    "#and also this is an example of how to change the lr on the fly, which is pretty handy\n",
    "#https://keras.io/callbacks/\n",
    "\n",
    "logdir=\"summaries/scalars/\" + str(datetime.datetime.now().timestamp())\n",
    "tensorboard_callback = keras.callbacks.TensorBoard(log_dir=logdir,\n",
    "                                                   histogram_freq=1,\n",
    "                                                   write_graph=False,\n",
    "                                                   write_grads=True,)\n",
    "                                                   #write_images=True)\n",
    "\"\"\"\n",
    "file_writer = tf.summary.create_file_writer(logdir + \"/metrics\")\n",
    "file_writer.set_as_default()\n",
    "\n",
    "def lr_schedule(epoch):\n",
    "\"\"\"\n",
    "#Returns a custom learning rate that decreases as epochs progress.\n",
    "\"\"\"\n",
    "    learning_rate = 0.2\n",
    "    if epoch > 10:\n",
    "        learning_rate = 0.02\n",
    "    if epoch > 20:\n",
    "        learning_rate = 0.01\n",
    "    if epoch > 50:\n",
    "        learning_rate = 0.005\n",
    "\n",
    "    tf.summary.scalar('learning rate', data=learning_rate, step=epoch)\n",
    "    return learning_rate\n",
    "\n",
    "lr_callback = keras.callbacks.LearningRateScheduler(lr_schedule)\n",
    "tensorboard_callback = keras.callbacks.TensorBoard(log_dir=logdir)\n",
    "\"\"\"\n"
   ]
  },
  {
   "cell_type": "code",
   "execution_count": 221,
   "metadata": {},
   "outputs": [],
   "source": [
    "def create_model(learning_rate=learning_rate):\n",
    "    \n",
    "    model = keras.Sequential([])\n",
    "    \n",
    "    model.add(keras.layers.Conv2D(input_shape=(64,64,5),filters=32,kernel_size=6,padding='same',activation=tf.nn.relu))\n",
    "    model.add(keras.layers.Dropout(rate=0.5))\n",
    "    \n",
    "    model.add(keras.layers.Conv2D(filters=64,kernel_size=5,padding='same',activation=tf.nn.relu))\n",
    "    model.add(keras.layers.MaxPool2D(pool_size=2,))\n",
    "    model.add(keras.layers.Dropout(rate=0.25)) #best = 0.25\n",
    "    \n",
    "    model.add(keras.layers.Conv2D(filters=128,kernel_size=2,padding='same',activation=tf.nn.relu))\n",
    "    model.add(keras.layers.MaxPool2D(pool_size=2,))\n",
    "    model.add(keras.layers.Dropout(rate=0.25)) #best = 0.25\n",
    "    \n",
    "    model.add(keras.layers.Conv2D(filters=128,kernel_size=3,padding='same',activation=tf.nn.relu))\n",
    "    model.add(keras.layers.Dropout(rate=0.25)) #best = 0.35\n",
    "\n",
    "    model.add(keras.layers.Flatten())\n",
    "    \n",
    "    model.add(keras.layers.Dense(units=64,activation=tf.nn.relu))\n",
    "    model.add(keras.layers.Dropout(rate=0.5))\n",
    "    model.add(keras.layers.Dense(units=2,activation=tf.nn.softmax))\n",
    "    \n",
    "    adam = keras.optimizers.Adam(lr=learning_rate)\n",
    "    model.compile(optimizer=adam, loss='sparse_categorical_crossentropy',metrics=['accuracy',]) #auroc])\n",
    "    return(model)"
   ]
  },
  {
   "cell_type": "code",
   "execution_count": 222,
   "metadata": {},
   "outputs": [],
   "source": [
    "keras.backend.clear_session()\n",
    "model = create_model(learning_rate = learning_rate)"
   ]
  },
  {
   "cell_type": "code",
   "execution_count": 223,
   "metadata": {},
   "outputs": [],
   "source": [
    "#datagenerator will rotate flip and zoom my data for augmentations, b/c of cosmo principle I must be invarient to these.\n",
    "\n",
    "#interestingly enough, there is no support for datagen right now with 5 channels:\n",
    "#https://github.com/keras-team/keras/issues/4664\n",
    "#that sucks, because if memory was an issue before, now I will have to default on doing my image roatations and zooms before\n",
    "#hand, and that also takes up memory."
   ]
  },
  {
   "cell_type": "code",
   "execution_count": 224,
   "metadata": {},
   "outputs": [
    {
     "name": "stdout",
     "output_type": "stream",
     "text": [
      "_________________________________________________________________\n",
      "Layer (type)                 Output Shape              Param #   \n",
      "=================================================================\n",
      "conv2d (Conv2D)              (None, 64, 64, 32)        5792      \n",
      "_________________________________________________________________\n",
      "dropout (Dropout)            (None, 64, 64, 32)        0         \n",
      "_________________________________________________________________\n",
      "conv2d_1 (Conv2D)            (None, 64, 64, 64)        51264     \n",
      "_________________________________________________________________\n",
      "max_pooling2d (MaxPooling2D) (None, 32, 32, 64)        0         \n",
      "_________________________________________________________________\n",
      "dropout_1 (Dropout)          (None, 32, 32, 64)        0         \n",
      "_________________________________________________________________\n",
      "conv2d_2 (Conv2D)            (None, 32, 32, 128)       32896     \n",
      "_________________________________________________________________\n",
      "max_pooling2d_1 (MaxPooling2 (None, 16, 16, 128)       0         \n",
      "_________________________________________________________________\n",
      "dropout_2 (Dropout)          (None, 16, 16, 128)       0         \n",
      "_________________________________________________________________\n",
      "conv2d_3 (Conv2D)            (None, 16, 16, 128)       147584    \n",
      "_________________________________________________________________\n",
      "dropout_3 (Dropout)          (None, 16, 16, 128)       0         \n",
      "_________________________________________________________________\n",
      "flatten (Flatten)            (None, 32768)             0         \n",
      "_________________________________________________________________\n",
      "dense (Dense)                (None, 64)                2097216   \n",
      "_________________________________________________________________\n",
      "dropout_4 (Dropout)          (None, 64)                0         \n",
      "_________________________________________________________________\n",
      "dense_1 (Dense)              (None, 2)                 130       \n",
      "=================================================================\n",
      "Total params: 2,334,882\n",
      "Trainable params: 2,334,882\n",
      "Non-trainable params: 0\n",
      "_________________________________________________________________\n"
     ]
    }
   ],
   "source": [
    "model.summary()"
   ]
  },
  {
   "cell_type": "code",
   "execution_count": 225,
   "metadata": {},
   "outputs": [
    {
     "name": "stdout",
     "output_type": "stream",
     "text": [
      "Train on 6303 samples, validate on 1113 samples\n",
      "Epoch 1/50\n",
      "6303/6303 [==============================] - 222s 35ms/sample - loss: 0.6705 - acc: 0.6046 - val_loss: 0.6022 - val_acc: 0.6271\n",
      "Epoch 2/50\n",
      "6303/6303 [==============================] - 220s 35ms/sample - loss: 0.5444 - acc: 0.7274 - val_loss: 0.4943 - val_acc: 0.7889\n",
      "Epoch 3/50\n",
      "6303/6303 [==============================] - 220s 35ms/sample - loss: 0.5046 - acc: 0.7750 - val_loss: 0.4351 - val_acc: 0.8194\n",
      "Epoch 4/50\n",
      "6303/6303 [==============================] - 221s 35ms/sample - loss: 0.4685 - acc: 0.7985 - val_loss: 0.4646 - val_acc: 0.8113\n",
      "Epoch 5/50\n",
      "6303/6303 [==============================] - 221s 35ms/sample - loss: 0.4427 - acc: 0.8171 - val_loss: 0.4902 - val_acc: 0.7978\n",
      "Epoch 6/50\n",
      "6303/6303 [==============================] - 223s 35ms/sample - loss: 0.4211 - acc: 0.8280 - val_loss: 0.4647 - val_acc: 0.7942\n",
      "Epoch 7/50\n",
      "6303/6303 [==============================] - 220s 35ms/sample - loss: 0.4009 - acc: 0.8361 - val_loss: 0.4380 - val_acc: 0.8059\n",
      "Epoch 8/50\n",
      "6303/6303 [==============================] - 220s 35ms/sample - loss: 0.3825 - acc: 0.8375 - val_loss: 0.3655 - val_acc: 0.8338\n",
      "Epoch 9/50\n",
      "6303/6303 [==============================] - 220s 35ms/sample - loss: 0.3789 - acc: 0.8429 - val_loss: 0.3682 - val_acc: 0.8374\n",
      "Epoch 10/50\n",
      "6303/6303 [==============================] - 220s 35ms/sample - loss: 0.3621 - acc: 0.8528 - val_loss: 0.3604 - val_acc: 0.8410\n",
      "Epoch 11/50\n",
      "6303/6303 [==============================] - 220s 35ms/sample - loss: 0.3497 - acc: 0.8578 - val_loss: 0.4267 - val_acc: 0.8113\n",
      "Epoch 12/50\n",
      "6303/6303 [==============================] - 221s 35ms/sample - loss: 0.3493 - acc: 0.8590 - val_loss: 0.3643 - val_acc: 0.8491\n",
      "Epoch 13/50\n",
      "6303/6303 [==============================] - 220s 35ms/sample - loss: 0.3368 - acc: 0.8667 - val_loss: 0.3623 - val_acc: 0.8446\n",
      "Epoch 14/50\n",
      "6303/6303 [==============================] - 220s 35ms/sample - loss: 0.3288 - acc: 0.8653 - val_loss: 0.3925 - val_acc: 0.8401\n",
      "Epoch 15/50\n",
      "6303/6303 [==============================] - 221s 35ms/sample - loss: 0.3126 - acc: 0.8691 - val_loss: 0.3785 - val_acc: 0.8446\n",
      "Epoch 16/50\n",
      "6303/6303 [==============================] - 221s 35ms/sample - loss: 0.3079 - acc: 0.8786 - val_loss: 0.3715 - val_acc: 0.8464\n",
      "Epoch 17/50\n",
      "6303/6303 [==============================] - 220s 35ms/sample - loss: 0.3017 - acc: 0.8743 - val_loss: 0.3736 - val_acc: 0.8482\n",
      "Epoch 18/50\n",
      "6303/6303 [==============================] - 221s 35ms/sample - loss: 0.2944 - acc: 0.8766 - val_loss: 0.3850 - val_acc: 0.8428\n",
      "Epoch 19/50\n",
      "6303/6303 [==============================] - 221s 35ms/sample - loss: 0.2843 - acc: 0.8848 - val_loss: 0.3779 - val_acc: 0.8482\n",
      "Epoch 20/50\n",
      "6303/6303 [==============================] - 220s 35ms/sample - loss: 0.2882 - acc: 0.8832 - val_loss: 0.3546 - val_acc: 0.8589\n",
      "Epoch 21/50\n",
      "6303/6303 [==============================] - 221s 35ms/sample - loss: 0.2773 - acc: 0.8923 - val_loss: 0.3781 - val_acc: 0.8482\n",
      "Epoch 22/50\n",
      "6303/6303 [==============================] - 220s 35ms/sample - loss: 0.2743 - acc: 0.8861 - val_loss: 0.3746 - val_acc: 0.8500\n",
      "Epoch 23/50\n",
      "6303/6303 [==============================] - 220s 35ms/sample - loss: 0.2643 - acc: 0.8896 - val_loss: 0.4477 - val_acc: 0.8437\n",
      "Epoch 24/50\n",
      "6303/6303 [==============================] - 220s 35ms/sample - loss: 0.2735 - acc: 0.8869 - val_loss: 0.4023 - val_acc: 0.8455\n",
      "Epoch 25/50\n",
      "6303/6303 [==============================] - 220s 35ms/sample - loss: 0.2619 - acc: 0.8912 - val_loss: 0.4125 - val_acc: 0.8473\n",
      "Epoch 26/50\n",
      "6303/6303 [==============================] - 221s 35ms/sample - loss: 0.2504 - acc: 0.8945 - val_loss: 0.4375 - val_acc: 0.8473\n",
      "Epoch 27/50\n",
      "6303/6303 [==============================] - 223s 35ms/sample - loss: 0.2520 - acc: 0.8967 - val_loss: 0.4500 - val_acc: 0.8446\n",
      "Epoch 28/50\n",
      "6303/6303 [==============================] - 222s 35ms/sample - loss: 0.2349 - acc: 0.9059 - val_loss: 0.4706 - val_acc: 0.8491\n",
      "Epoch 29/50\n",
      "6303/6303 [==============================] - 221s 35ms/sample - loss: 0.2471 - acc: 0.8959 - val_loss: 0.4355 - val_acc: 0.8473\n",
      "Epoch 30/50\n",
      "6303/6303 [==============================] - 221s 35ms/sample - loss: 0.2331 - acc: 0.9013 - val_loss: 0.5281 - val_acc: 0.8464\n",
      "Epoch 31/50\n",
      "6303/6303 [==============================] - 221s 35ms/sample - loss: 0.2283 - acc: 0.9048 - val_loss: 0.5191 - val_acc: 0.8482\n",
      "Epoch 32/50\n",
      "6303/6303 [==============================] - 223s 35ms/sample - loss: 0.2379 - acc: 0.9024 - val_loss: 0.4607 - val_acc: 0.8419\n",
      "Epoch 33/50\n",
      "6303/6303 [==============================] - 223s 35ms/sample - loss: 0.2200 - acc: 0.9097 - val_loss: 0.4337 - val_acc: 0.8491\n",
      "Epoch 34/50\n",
      "6303/6303 [==============================] - 223s 35ms/sample - loss: 0.2126 - acc: 0.9104 - val_loss: 0.4602 - val_acc: 0.8464\n",
      "Epoch 35/50\n",
      "6303/6303 [==============================] - 231s 37ms/sample - loss: 0.2152 - acc: 0.9108 - val_loss: 0.5208 - val_acc: 0.8401\n",
      "Epoch 36/50\n",
      "6303/6303 [==============================] - 226s 36ms/sample - loss: 0.1967 - acc: 0.9192 - val_loss: 0.5069 - val_acc: 0.8455\n",
      "Epoch 37/50\n",
      "6303/6303 [==============================] - 227s 36ms/sample - loss: 0.2035 - acc: 0.9146 - val_loss: 0.5420 - val_acc: 0.8437\n",
      "Epoch 38/50\n",
      "6303/6303 [==============================] - 222s 35ms/sample - loss: 0.2024 - acc: 0.9127 - val_loss: 0.6119 - val_acc: 0.8410\n",
      "Epoch 39/50\n",
      "6303/6303 [==============================] - 223s 35ms/sample - loss: 0.2112 - acc: 0.9143 - val_loss: 0.5582 - val_acc: 0.8464\n",
      "Epoch 40/50\n",
      "6303/6303 [==============================] - 223s 35ms/sample - loss: 0.1946 - acc: 0.9207 - val_loss: 0.5378 - val_acc: 0.8491\n",
      "Epoch 41/50\n",
      "6303/6303 [==============================] - 222s 35ms/sample - loss: 0.1884 - acc: 0.9215 - val_loss: 0.5890 - val_acc: 0.8607\n",
      "Epoch 42/50\n",
      "6303/6303 [==============================] - 222s 35ms/sample - loss: 0.1757 - acc: 0.9243 - val_loss: 0.6064 - val_acc: 0.8509\n",
      "Epoch 43/50\n",
      "6303/6303 [==============================] - 221s 35ms/sample - loss: 0.1760 - acc: 0.9273 - val_loss: 0.6104 - val_acc: 0.8410\n",
      "Epoch 44/50\n",
      "6303/6303 [==============================] - 220s 35ms/sample - loss: 0.1758 - acc: 0.9283 - val_loss: 0.6819 - val_acc: 0.8446\n",
      "Epoch 45/50\n",
      "6303/6303 [==============================] - 220s 35ms/sample - loss: 0.1837 - acc: 0.9256 - val_loss: 0.6054 - val_acc: 0.8437\n",
      "Epoch 46/50\n",
      "6303/6303 [==============================] - 220s 35ms/sample - loss: 0.1536 - acc: 0.9357 - val_loss: 0.7002 - val_acc: 0.8509\n",
      "Epoch 47/50\n",
      "6303/6303 [==============================] - 220s 35ms/sample - loss: 0.1608 - acc: 0.9338 - val_loss: 0.8130 - val_acc: 0.8473\n",
      "Epoch 48/50\n",
      "6303/6303 [==============================] - 221s 35ms/sample - loss: 0.1589 - acc: 0.9353 - val_loss: 0.7672 - val_acc: 0.8383\n",
      "Epoch 49/50\n",
      "6303/6303 [==============================] - 221s 35ms/sample - loss: 0.1689 - acc: 0.9319 - val_loss: 0.7070 - val_acc: 0.8401\n",
      "Epoch 50/50\n",
      "6303/6303 [==============================] - 221s 35ms/sample - loss: 0.1567 - acc: 0.9329 - val_loss: 0.7525 - val_acc: 0.8482\n"
     ]
    }
   ],
   "source": [
    "history = model.fit(train_images,\n",
    "                    train_target,\n",
    "                    batch_size=batch_size,\n",
    "                    epochs=epoch_number,\n",
    "                    validation_split=validation_split,\n",
    "                    callbacks=[tensorboard_callback])#, lr_callback]) #and will display that on tensorboard too"
   ]
  },
  {
   "cell_type": "code",
   "execution_count": 226,
   "metadata": {},
   "outputs": [
    {
     "data": {
      "text/plain": [
       "dict_keys(['loss', 'acc', 'val_loss', 'val_acc'])"
      ]
     },
     "execution_count": 226,
     "metadata": {},
     "output_type": "execute_result"
    }
   ],
   "source": [
    "history.history.keys()"
   ]
  },
  {
   "cell_type": "code",
   "execution_count": 227,
   "metadata": {},
   "outputs": [
    {
     "data": {
      "image/png": "[encoded data removed]",
      "text/plain": [
       "<Figure size 432x288 with 1 Axes>"
      ]
     },
     "metadata": {
      "needs_background": "light"
     },
     "output_type": "display_data"
    },
    {
     "data": {
      "image/png": "[encoded data removed]",
      "text/plain": [
       "<Figure size 432x288 with 1 Axes>"
      ]
     },
     "metadata": {
      "needs_background": "light"
     },
     "output_type": "display_data"
    }
   ],
   "source": [
    "# summarize history for accuracy\n",
    "plt.plot(history.history['acc'])\n",
    "plt.plot(history.history['val_acc'])\n",
    "plt.title('model accuracy')\n",
    "plt.ylabel('accuracy')\n",
    "plt.xlabel('epoch')\n",
    "plt.legend(['train', 'test'], loc='upper left')\n",
    "plt.savefig('accuracy-2.png')\n",
    "plt.show()\n",
    "# summarize history for loss\n",
    "plt.plot(history.history['loss'])\n",
    "plt.plot(history.history['val_loss'])\n",
    "plt.title('model loss')\n",
    "plt.ylabel('loss')\n",
    "plt.xlabel('epoch')\n",
    "plt.legend(['train', 'test'], loc='upper left')\n",
    "plt.savefig('loss-2.png')\n",
    "plt.show()"
   ]
  },
  {
   "cell_type": "code",
   "execution_count": 228,
   "metadata": {},
   "outputs": [],
   "source": [
    "#test_loss, test_acc = model.evaluate(test_images, test_target)\n",
    "#print('Test accuracy:', test_acc)\n",
    "#print('Test loss:', test_loss)"
   ]
  },
  {
   "cell_type": "code",
   "execution_count": 229,
   "metadata": {},
   "outputs": [],
   "source": [
    "#all above are models using a different architecture. all below are comments from the current architecture"
   ]
  },
  {
   "cell_type": "code",
   "execution_count": 230,
   "metadata": {},
   "outputs": [
    {
     "data": {
      "text/plain": [
       "'\\nhttps://fizzylogic.nl/2017/05/08/monitor-progress-of-your-keras-based-neural-network-using-tensorboard/\\n\\nhttps://stackoverflow.com/questions/41032551/how-to-compute-receiving-operating-characteristic-roc-and-auc-in-keras\\n\\nhttps://astrobites.org/2018/07/16/creating-a-more-general-deep-learning-algorithm-for-galaxies/\\n'"
      ]
     },
     "execution_count": 230,
     "metadata": {},
     "output_type": "execute_result"
    }
   ],
   "source": [
    "#source list\n",
    "\"\"\"\n",
    "https://fizzylogic.nl/2017/05/08/monitor-progress-of-your-keras-based-neural-network-using-tensorboard/\n",
    "\n",
    "https://stackoverflow.com/questions/41032551/how-to-compute-receiving-operating-characteristic-roc-and-auc-in-keras\n",
    "\n",
    "https://astrobites.org/2018/07/16/creating-a-more-general-deep-learning-algorithm-for-galaxies/\n",
    "\"\"\""
   ]
  }
 ],
 "metadata": {
  "kernelspec": {
   "display_name": "Python 3",
   "language": "python",
   "name": "python3"
  },
  "language_info": {
   "codemirror_mode": {
    "name": "ipython",
    "version": 3
   },
   "file_extension": ".py",
   "mimetype": "text/x-python",
   "name": "python",
   "nbconvert_exporter": "python",
   "pygments_lexer": "ipython3",
   "version": "3.7.3"
  }
 },
 "nbformat": 4,
 "nbformat_minor": 2
}
